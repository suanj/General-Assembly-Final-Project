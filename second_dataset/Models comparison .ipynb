{
 "cells": [
  {
   "cell_type": "markdown",
   "metadata": {},
   "source": [
    "## Youtube Trending Video Models"
   ]
  },
  {
   "cell_type": "markdown",
   "metadata": {},
   "source": [
    "Import data and libraries"
   ]
  },
  {
   "cell_type": "code",
   "execution_count": 1,
   "metadata": {},
   "outputs": [],
   "source": [
    "import pandas as pd\n",
    "import matplotlib.pyplot as plt\n",
    "import seaborn as sns\n",
    "import numpy as np\n",
    "%matplotlib inline\n",
    "\n",
    "plt.style.use('fivethirtyeight')\n",
    "plt.rcParams['font.family']= \"AppleGothic\""
   ]
  },
  {
   "cell_type": "code",
   "execution_count": 2,
   "metadata": {},
   "outputs": [
    {
     "data": {
      "text/html": [
       "<div>\n",
       "<style scoped>\n",
       "    .dataframe tbody tr th:only-of-type {\n",
       "        vertical-align: middle;\n",
       "    }\n",
       "\n",
       "    .dataframe tbody tr th {\n",
       "        vertical-align: top;\n",
       "    }\n",
       "\n",
       "    .dataframe thead th {\n",
       "        text-align: right;\n",
       "    }\n",
       "</style>\n",
       "<table border=\"1\" class=\"dataframe\">\n",
       "  <thead>\n",
       "    <tr style=\"text-align: right;\">\n",
       "      <th></th>\n",
       "      <th>trending_date</th>\n",
       "      <th>video_title</th>\n",
       "      <th>channel_title</th>\n",
       "      <th>tags</th>\n",
       "      <th>views</th>\n",
       "      <th>likes</th>\n",
       "      <th>dislikes</th>\n",
       "      <th>comment_count</th>\n",
       "      <th>comments_disabled</th>\n",
       "      <th>ratings_disabled</th>\n",
       "      <th>video_error_or_removed</th>\n",
       "      <th>published_date</th>\n",
       "      <th>published_time_UTC</th>\n",
       "    </tr>\n",
       "  </thead>\n",
       "  <tbody>\n",
       "    <tr>\n",
       "      <th>0</th>\n",
       "      <td>2017-11-14</td>\n",
       "      <td>Marshmello - Blocks (Official Music Video)</td>\n",
       "      <td>marshmello</td>\n",
       "      <td>23</td>\n",
       "      <td>687582</td>\n",
       "      <td>114188</td>\n",
       "      <td>1333</td>\n",
       "      <td>8371</td>\n",
       "      <td>False</td>\n",
       "      <td>False</td>\n",
       "      <td>False</td>\n",
       "      <td>2017-11-13</td>\n",
       "      <td>17:00:00</td>\n",
       "    </tr>\n",
       "    <tr>\n",
       "      <th>1</th>\n",
       "      <td>2017-11-14</td>\n",
       "      <td>Eminem - Walk On Water (Audio) ft. Beyoncé</td>\n",
       "      <td>EminemVEVO</td>\n",
       "      <td>6</td>\n",
       "      <td>17158531</td>\n",
       "      <td>787419</td>\n",
       "      <td>43420</td>\n",
       "      <td>125882</td>\n",
       "      <td>False</td>\n",
       "      <td>False</td>\n",
       "      <td>False</td>\n",
       "      <td>2017-11-10</td>\n",
       "      <td>17:00:03</td>\n",
       "    </tr>\n",
       "  </tbody>\n",
       "</table>\n",
       "</div>"
      ],
      "text/plain": [
       "  trending_date                                 video_title channel_title  \\\n",
       "0    2017-11-14  Marshmello - Blocks (Official Music Video)    marshmello   \n",
       "1    2017-11-14  Eminem - Walk On Water (Audio) ft. Beyoncé    EminemVEVO   \n",
       "\n",
       "   tags     views   likes  dislikes  comment_count  comments_disabled  \\\n",
       "0    23    687582  114188      1333           8371              False   \n",
       "1     6  17158531  787419     43420         125882              False   \n",
       "\n",
       "   ratings_disabled  video_error_or_removed published_date published_time_UTC  \n",
       "0             False                   False     2017-11-13           17:00:00  \n",
       "1             False                   False     2017-11-10           17:00:03  "
      ]
     },
     "execution_count": 2,
     "metadata": {},
     "output_type": "execute_result"
    }
   ],
   "source": [
    "youtube = pd.read_csv('./youtube_trend_videos_music.csv', index_col = 0)\n",
    "youtube.head(2)"
   ]
  },
  {
   "cell_type": "markdown",
   "metadata": {},
   "source": [
    "Separate column published_date into year and month. "
   ]
  },
  {
   "cell_type": "code",
   "execution_count": 3,
   "metadata": {},
   "outputs": [],
   "source": [
    "youtube['year'] = pd.to_datetime(youtube['published_date']).dt.year\n",
    "youtube['month'] = pd.to_datetime(youtube['published_date']).dt.month"
   ]
  },
  {
   "cell_type": "markdown",
   "metadata": {},
   "source": [
    "Correlation heatmap."
   ]
  },
  {
   "cell_type": "code",
   "execution_count": 4,
   "metadata": {},
   "outputs": [
    {
     "name": "stderr",
     "output_type": "stream",
     "text": [
      "/Users/suanjung/opt/anaconda3/lib/python3.8/site-packages/matplotlib/backends/backend_agg.py:238: RuntimeWarning: Glyph 8722 missing from current font.\n",
      "  font.set_text(s, 0.0, flags=flags)\n",
      "/Users/suanjung/opt/anaconda3/lib/python3.8/site-packages/matplotlib/backends/backend_agg.py:201: RuntimeWarning: Glyph 8722 missing from current font.\n",
      "  font.set_text(s, 0, flags=flags)\n"
     ]
    },
    {
     "data": {
      "image/png": "[encoded data removed]",
      "text/plain": [
       "<Figure size 432x288 with 2 Axes>"
      ]
     },
     "metadata": {},
     "output_type": "display_data"
    }
   ],
   "source": [
    "youtube_corr = youtube.corr();\n",
    "sns.heatmap(youtube_corr);"
   ]
  },
  {
   "cell_type": "markdown",
   "metadata": {},
   "source": [
    "Mean values for each column."
   ]
  },
  {
   "cell_type": "code",
   "execution_count": 5,
   "metadata": {},
   "outputs": [
    {
     "data": {
      "text/plain": [
       "tags                      1.499667e+01\n",
       "views                     5.225203e+06\n",
       "likes                     1.941866e+05\n",
       "dislikes                  7.181927e+03\n",
       "comment_count             1.741955e+04\n",
       "comments_disabled         2.842301e-03\n",
       "ratings_disabled          3.528374e-03\n",
       "video_error_or_removed    9.801039e-05\n",
       "year                      2.017730e+03\n",
       "month                     5.413212e+00\n",
       "dtype: float64"
      ]
     },
     "execution_count": 5,
     "metadata": {},
     "output_type": "execute_result"
    }
   ],
   "source": [
    "youtube.mean()"
   ]
  },
  {
   "cell_type": "markdown",
   "metadata": {},
   "source": [
    "# Build models: predicting \"likes\" or \"views\""
   ]
  },
  {
   "cell_type": "markdown",
   "metadata": {},
   "source": [
    "### Before views value normalization"
   ]
  },
  {
   "cell_type": "markdown",
   "metadata": {},
   "source": [
    "correlation values by likes."
   ]
  },
  {
   "cell_type": "code",
   "execution_count": 6,
   "metadata": {},
   "outputs": [
    {
     "data": {
      "text/html": [
       "<div>\n",
       "<style scoped>\n",
       "    .dataframe tbody tr th:only-of-type {\n",
       "        vertical-align: middle;\n",
       "    }\n",
       "\n",
       "    .dataframe tbody tr th {\n",
       "        vertical-align: top;\n",
       "    }\n",
       "\n",
       "    .dataframe thead th {\n",
       "        text-align: right;\n",
       "    }\n",
       "</style>\n",
       "<table border=\"1\" class=\"dataframe\">\n",
       "  <thead>\n",
       "    <tr style=\"text-align: right;\">\n",
       "      <th></th>\n",
       "      <th>likes</th>\n",
       "    </tr>\n",
       "  </thead>\n",
       "  <tbody>\n",
       "    <tr>\n",
       "      <th>tags</th>\n",
       "      <td>-0.049246</td>\n",
       "    </tr>\n",
       "    <tr>\n",
       "      <th>views</th>\n",
       "      <td>0.842198</td>\n",
       "    </tr>\n",
       "    <tr>\n",
       "      <th>likes</th>\n",
       "      <td>1.000000</td>\n",
       "    </tr>\n",
       "    <tr>\n",
       "      <th>dislikes</th>\n",
       "      <td>0.803668</td>\n",
       "    </tr>\n",
       "    <tr>\n",
       "      <th>comment_count</th>\n",
       "      <td>0.887577</td>\n",
       "    </tr>\n",
       "    <tr>\n",
       "      <th>comments_disabled</th>\n",
       "      <td>-0.022565</td>\n",
       "    </tr>\n",
       "    <tr>\n",
       "      <th>ratings_disabled</th>\n",
       "      <td>-0.026540</td>\n",
       "    </tr>\n",
       "    <tr>\n",
       "      <th>video_error_or_removed</th>\n",
       "      <td>0.000743</td>\n",
       "    </tr>\n",
       "    <tr>\n",
       "      <th>year</th>\n",
       "      <td>0.078228</td>\n",
       "    </tr>\n",
       "    <tr>\n",
       "      <th>month</th>\n",
       "      <td>-0.028373</td>\n",
       "    </tr>\n",
       "  </tbody>\n",
       "</table>\n",
       "</div>"
      ],
      "text/plain": [
       "                           likes\n",
       "tags                   -0.049246\n",
       "views                   0.842198\n",
       "likes                   1.000000\n",
       "dislikes                0.803668\n",
       "comment_count           0.887577\n",
       "comments_disabled      -0.022565\n",
       "ratings_disabled       -0.026540\n",
       "video_error_or_removed  0.000743\n",
       "year                    0.078228\n",
       "month                  -0.028373"
      ]
     },
     "execution_count": 6,
     "metadata": {},
     "output_type": "execute_result"
    }
   ],
   "source": [
    "youtube.corr()[['likes']]"
   ]
  },
  {
   "cell_type": "markdown",
   "metadata": {},
   "source": [
    "Based on above chart, I decided to choose 'views', 'dislikes', and 'comments_count' as features.\n",
    "Compare interactions between columns."
   ]
  },
  {
   "cell_type": "code",
   "execution_count": 7,
   "metadata": {},
   "outputs": [
    {
     "name": "stdout",
     "output_type": "stream",
     "text": [
      "                  views  dislikes  comment_count\n",
      "views          1.000000  0.887116       0.654419\n",
      "dislikes       0.887116  1.000000       0.701895\n",
      "comment_count  0.654419  0.701895       1.000000\n",
      "AxesSubplot(0.08,0.07;0.696x0.81)\n"
     ]
    },
    {
     "data": {
      "image/png": "[encoded data removed]",
      "text/plain": [
       "<Figure size 432x288 with 2 Axes>"
      ]
     },
     "metadata": {},
     "output_type": "display_data"
    }
   ],
   "source": [
    "cmap = sns.diverging_palette(220, 10, as_cmap=True)\n",
    "correlations = youtube[['views', 'dislikes','comment_count']].corr()\n",
    "print(correlations)\n",
    "print(sns.heatmap(correlations, cmap=cmap))"
   ]
  },
  {
   "cell_type": "markdown",
   "metadata": {},
   "source": [
    "#### Model 1: likes vs. views and comment_count"
   ]
  },
  {
   "cell_type": "code",
   "execution_count": 8,
   "metadata": {},
   "outputs": [
    {
     "name": "stdout",
     "output_type": "stream",
     "text": [
      "Intercept is: 42241.903413262684\n",
      "Coefficient is: [0.01523268 4.15343073]\n",
      "Score is 0.9073\n"
     ]
    }
   ],
   "source": [
    "from sklearn.linear_model import LinearRegression\n",
    "feature_cols = ['views','comment_count']\n",
    "X = youtube[feature_cols]\n",
    "y = youtube.likes\n",
    "\n",
    "lr = LinearRegression()\n",
    "lr.fit(X,y)\n",
    "\n",
    "print(f\"Intercept is: {lr.intercept_}\")\n",
    "print(f\"Coefficient is: {lr.coef_}\")\n",
    "print(f\"Score is {round(lr.score(X,y), 4)}\")"
   ]
  },
  {
   "cell_type": "code",
   "execution_count": 9,
   "metadata": {},
   "outputs": [],
   "source": [
    "y_hat = lr.predict(X)\n",
    "youtube['y_hat'] = y_hat"
   ]
  },
  {
   "cell_type": "code",
   "execution_count": 10,
   "metadata": {},
   "outputs": [
    {
     "data": {
      "text/plain": [
       "<matplotlib.legend.Legend at 0x7fd60e1c9f70>"
      ]
     },
     "execution_count": 10,
     "metadata": {},
     "output_type": "execute_result"
    },
    {
     "data": {
      "image/png": "[encoded data removed]",
      "text/plain": [
       "<Figure size 432x288 with 1 Axes>"
      ]
     },
     "metadata": {},
     "output_type": "display_data"
    }
   ],
   "source": [
    "plt.scatter('likes', 'y_hat', data=youtube);\n",
    "plt.ylabel(\"predicted likes \")\n",
    "plt.xlabel(\"likes\")\n",
    "plt.legend()"
   ]
  },
  {
   "cell_type": "markdown",
   "metadata": {},
   "source": [
    "=> the graph shows that the predicted values from the model is close to the actual values from the dataset."
   ]
  },
  {
   "cell_type": "code",
   "execution_count": 11,
   "metadata": {},
   "outputs": [
    {
     "name": "stdout",
     "output_type": "stream",
     "text": [
      "MSE: 17579678651.055187\n",
      "RMSE: 132588.38052806584\n"
     ]
    }
   ],
   "source": [
    "from sklearn import metrics\n",
    "y_pred = lr.predict(X)\n",
    "print('MSE:', metrics.mean_squared_error(y, y_pred))\n",
    "print('RMSE:', np.sqrt(metrics.mean_squared_error(y, y_pred)))"
   ]
  },
  {
   "cell_type": "markdown",
   "metadata": {},
   "source": [
    "Train and test Split"
   ]
  },
  {
   "cell_type": "code",
   "execution_count": 12,
   "metadata": {},
   "outputs": [
    {
     "name": "stdout",
     "output_type": "stream",
     "text": [
      "MSE for train data: 18259030786.55788\n",
      "MSE for test data: 15543832845.764734\n",
      "RMSE for train data: 135125.98116778978\n",
      "RMSE for test data: 124674.90864550386\n"
     ]
    }
   ],
   "source": [
    "from sklearn.model_selection import train_test_split\n",
    "\n",
    "X_train, X_test, y_train, y_test = train_test_split(X, y, random_state = 45)\n",
    "\n",
    "lr = LinearRegression()\n",
    "lr.fit(X_train, y_train)\n",
    "\n",
    "y_pred = lr.predict(X_test)\n",
    "print('MSE for train data:', metrics.mean_squared_error(y_train, lr.predict(X_train)))\n",
    "print('MSE for test data:', metrics.mean_squared_error(y_test, y_pred))\n",
    "print('RMSE for train data:', np.sqrt(metrics.mean_squared_error(y_train, lr.predict(X_train))))\n",
    "print('RMSE for test data:', np.sqrt(metrics.mean_squared_error(y_test, y_pred)))"
   ]
  },
  {
   "cell_type": "markdown",
   "metadata": {},
   "source": [
    "#### Model 2: likes vs. dislikes and comment_count"
   ]
  },
  {
   "cell_type": "code",
   "execution_count": 13,
   "metadata": {},
   "outputs": [
    {
     "name": "stdout",
     "output_type": "stream",
     "text": [
      "Intercept is: 62183.1147173472\n",
      "Coefficient is: [7.46399679 4.50055481]\n",
      "Score is 0.8521\n"
     ]
    }
   ],
   "source": [
    "feature_cols = ['dislikes','comment_count']\n",
    "X = youtube[feature_cols]\n",
    "y = youtube.likes\n",
    "\n",
    "lr = LinearRegression()\n",
    "lr.fit(X,y)\n",
    "\n",
    "print(f\"Intercept is: {lr.intercept_}\")\n",
    "print(f\"Coefficient is: {lr.coef_}\")\n",
    "print(f\"Score is {round(lr.score(X,y), 4)}\")"
   ]
  },
  {
   "cell_type": "code",
   "execution_count": 14,
   "metadata": {},
   "outputs": [
    {
     "name": "stdout",
     "output_type": "stream",
     "text": [
      "MSE: 28028437977.091713\n",
      "RMSE: 167416.9584513221\n"
     ]
    }
   ],
   "source": [
    "y_pred = lr.predict(X)\n",
    "print('MSE:', metrics.mean_squared_error(y, y_pred))\n",
    "print('RMSE:', np.sqrt(metrics.mean_squared_error(y, y_pred)))"
   ]
  },
  {
   "cell_type": "code",
   "execution_count": 15,
   "metadata": {},
   "outputs": [],
   "source": [
    "y_hat = lr.predict(X)\n",
    "youtube['y_hat'] = y_hat"
   ]
  },
  {
   "cell_type": "code",
   "execution_count": 16,
   "metadata": {},
   "outputs": [
    {
     "data": {
      "text/plain": [
       "<matplotlib.legend.Legend at 0x7fd60e9a2550>"
      ]
     },
     "execution_count": 16,
     "metadata": {},
     "output_type": "execute_result"
    },
    {
     "data": {
      "image/png": "[encoded data removed]",
      "text/plain": [
       "<Figure size 432x288 with 1 Axes>"
      ]
     },
     "metadata": {},
     "output_type": "display_data"
    }
   ],
   "source": [
    "plt.scatter('likes', 'y_hat', data=youtube);\n",
    "plt.ylabel(\"predicted likes \")\n",
    "plt.xlabel(\"likes\")\n",
    "plt.legend()"
   ]
  },
  {
   "cell_type": "markdown",
   "metadata": {},
   "source": [
    "=> the graph shows that the predicted values from the model is close to the actual values from the dataset."
   ]
  },
  {
   "cell_type": "markdown",
   "metadata": {},
   "source": [
    "Train and Test Split"
   ]
  },
  {
   "cell_type": "code",
   "execution_count": 17,
   "metadata": {},
   "outputs": [
    {
     "name": "stdout",
     "output_type": "stream",
     "text": [
      "MSE for train data: 28973126870.53486\n",
      "MSE for test data: 25218914819.409176\n",
      "RMSE for train data: 170214.94314699536\n",
      "RMSE for test data: 158804.64357004545\n"
     ]
    }
   ],
   "source": [
    "X_train, X_test, y_train, y_test = train_test_split(X, y, random_state = 45)\n",
    "\n",
    "lr = LinearRegression()\n",
    "lr.fit(X_train, y_train)\n",
    "\n",
    "y_pred = lr.predict(X_test)\n",
    "print('MSE for train data:', metrics.mean_squared_error(y_train, lr.predict(X_train)))\n",
    "print('MSE for test data:', metrics.mean_squared_error(y_test, y_pred))\n",
    "print('RMSE for train data:', np.sqrt(metrics.mean_squared_error(y_train, lr.predict(X_train))))\n",
    "print('RMSE for test data:', np.sqrt(metrics.mean_squared_error(y_test, y_pred)))"
   ]
  },
  {
   "cell_type": "markdown",
   "metadata": {},
   "source": [
    "### After normalization "
   ]
  },
  {
   "cell_type": "markdown",
   "metadata": {},
   "source": [
    "Since the value of views are relatively higher than other columns' value, I decided to compute the proportion of likes and dislikes by 10k viewers."
   ]
  },
  {
   "cell_type": "markdown",
   "metadata": {},
   "source": [
    "Clean and sort data"
   ]
  },
  {
   "cell_type": "code",
   "execution_count": 18,
   "metadata": {},
   "outputs": [
    {
     "data": {
      "text/html": [
       "<div>\n",
       "<style scoped>\n",
       "    .dataframe tbody tr th:only-of-type {\n",
       "        vertical-align: middle;\n",
       "    }\n",
       "\n",
       "    .dataframe tbody tr th {\n",
       "        vertical-align: top;\n",
       "    }\n",
       "\n",
       "    .dataframe thead th {\n",
       "        text-align: right;\n",
       "    }\n",
       "</style>\n",
       "<table border=\"1\" class=\"dataframe\">\n",
       "  <thead>\n",
       "    <tr style=\"text-align: right;\">\n",
       "      <th></th>\n",
       "      <th>views</th>\n",
       "      <th>likes</th>\n",
       "      <th>dislikes</th>\n",
       "      <th>comment_count</th>\n",
       "      <th>tags</th>\n",
       "      <th>year</th>\n",
       "      <th>month</th>\n",
       "    </tr>\n",
       "  </thead>\n",
       "  <tbody>\n",
       "    <tr>\n",
       "      <th>0</th>\n",
       "      <td>687582</td>\n",
       "      <td>114188</td>\n",
       "      <td>1333</td>\n",
       "      <td>8371</td>\n",
       "      <td>23</td>\n",
       "      <td>2017</td>\n",
       "      <td>11</td>\n",
       "    </tr>\n",
       "    <tr>\n",
       "      <th>1</th>\n",
       "      <td>17158531</td>\n",
       "      <td>787419</td>\n",
       "      <td>43420</td>\n",
       "      <td>125882</td>\n",
       "      <td>6</td>\n",
       "      <td>2017</td>\n",
       "      <td>11</td>\n",
       "    </tr>\n",
       "    <tr>\n",
       "      <th>2</th>\n",
       "      <td>13917</td>\n",
       "      <td>1318</td>\n",
       "      <td>24</td>\n",
       "      <td>76</td>\n",
       "      <td>13</td>\n",
       "      <td>2017</td>\n",
       "      <td>11</td>\n",
       "    </tr>\n",
       "    <tr>\n",
       "      <th>3</th>\n",
       "      <td>57169</td>\n",
       "      <td>6927</td>\n",
       "      <td>161</td>\n",
       "      <td>565</td>\n",
       "      <td>14</td>\n",
       "      <td>2017</td>\n",
       "      <td>11</td>\n",
       "    </tr>\n",
       "    <tr>\n",
       "      <th>4</th>\n",
       "      <td>60506</td>\n",
       "      <td>5389</td>\n",
       "      <td>106</td>\n",
       "      <td>455</td>\n",
       "      <td>6</td>\n",
       "      <td>2017</td>\n",
       "      <td>11</td>\n",
       "    </tr>\n",
       "  </tbody>\n",
       "</table>\n",
       "</div>"
      ],
      "text/plain": [
       "      views   likes  dislikes  comment_count  tags  year  month\n",
       "0    687582  114188      1333           8371    23  2017     11\n",
       "1  17158531  787419     43420         125882     6  2017     11\n",
       "2     13917    1318        24             76    13  2017     11\n",
       "3     57169    6927       161            565    14  2017     11\n",
       "4     60506    5389       106            455     6  2017     11"
      ]
     },
     "execution_count": 18,
     "metadata": {},
     "output_type": "execute_result"
    }
   ],
   "source": [
    "youtube_df = youtube[['views', 'likes', 'dislikes', \n",
    "                      'comment_count', 'tags','year','month']].copy()\n",
    "youtube_df.head()"
   ]
  },
  {
   "cell_type": "code",
   "execution_count": 19,
   "metadata": {},
   "outputs": [],
   "source": [
    "# commpute likes and dislikes values\n",
    "youtube_df['likes_per_10k_views'] = round(youtube_df['likes']/youtube_df['views']*10000, 2)\n",
    "youtube_df['dislikes_per_10k_views'] = round(youtube_df['dislikes']/youtube_df['views']*10000, 2)"
   ]
  },
  {
   "cell_type": "code",
   "execution_count": 20,
   "metadata": {},
   "outputs": [
    {
     "data": {
      "text/html": [
       "<div>\n",
       "<style scoped>\n",
       "    .dataframe tbody tr th:only-of-type {\n",
       "        vertical-align: middle;\n",
       "    }\n",
       "\n",
       "    .dataframe tbody tr th {\n",
       "        vertical-align: top;\n",
       "    }\n",
       "\n",
       "    .dataframe thead th {\n",
       "        text-align: right;\n",
       "    }\n",
       "</style>\n",
       "<table border=\"1\" class=\"dataframe\">\n",
       "  <thead>\n",
       "    <tr style=\"text-align: right;\">\n",
       "      <th></th>\n",
       "      <th>trending_date</th>\n",
       "      <th>video_title</th>\n",
       "      <th>channel_title</th>\n",
       "      <th>tags</th>\n",
       "      <th>views</th>\n",
       "      <th>likes</th>\n",
       "      <th>dislikes</th>\n",
       "      <th>comment_count</th>\n",
       "      <th>comments_disabled</th>\n",
       "      <th>ratings_disabled</th>\n",
       "      <th>video_error_or_removed</th>\n",
       "      <th>published_date</th>\n",
       "      <th>published_time_UTC</th>\n",
       "      <th>year</th>\n",
       "      <th>month</th>\n",
       "      <th>y_hat</th>\n",
       "    </tr>\n",
       "  </thead>\n",
       "  <tbody>\n",
       "    <tr>\n",
       "      <th>0</th>\n",
       "      <td>2017-11-14</td>\n",
       "      <td>Marshmello - Blocks (Official Music Video)</td>\n",
       "      <td>marshmello</td>\n",
       "      <td>23</td>\n",
       "      <td>687582</td>\n",
       "      <td>114188</td>\n",
       "      <td>1333</td>\n",
       "      <td>8371</td>\n",
       "      <td>False</td>\n",
       "      <td>False</td>\n",
       "      <td>False</td>\n",
       "      <td>2017-11-13</td>\n",
       "      <td>17:00:00</td>\n",
       "      <td>2017</td>\n",
       "      <td>11</td>\n",
       "      <td>109806.766775</td>\n",
       "    </tr>\n",
       "  </tbody>\n",
       "</table>\n",
       "</div>"
      ],
      "text/plain": [
       "  trending_date                                 video_title channel_title  \\\n",
       "0    2017-11-14  Marshmello - Blocks (Official Music Video)    marshmello   \n",
       "\n",
       "   tags   views   likes  dislikes  comment_count  comments_disabled  \\\n",
       "0    23  687582  114188      1333           8371              False   \n",
       "\n",
       "   ratings_disabled  video_error_or_removed published_date published_time_UTC  \\\n",
       "0             False                   False     2017-11-13           17:00:00   \n",
       "\n",
       "   year  month          y_hat  \n",
       "0  2017     11  109806.766775  "
      ]
     },
     "execution_count": 20,
     "metadata": {},
     "output_type": "execute_result"
    }
   ],
   "source": [
    "youtube_df.drop(['likes','dislikes'], axis=1,inplace=True)\n",
    "youtube.head(1)"
   ]
  },
  {
   "cell_type": "markdown",
   "metadata": {},
   "source": [
    "Correlation heatmap."
   ]
  },
  {
   "cell_type": "code",
   "execution_count": 21,
   "metadata": {},
   "outputs": [
    {
     "name": "stderr",
     "output_type": "stream",
     "text": [
      "/Users/suanjung/opt/anaconda3/lib/python3.8/site-packages/matplotlib/backends/backend_agg.py:238: RuntimeWarning: Glyph 8722 missing from current font.\n",
      "  font.set_text(s, 0.0, flags=flags)\n",
      "/Users/suanjung/opt/anaconda3/lib/python3.8/site-packages/matplotlib/backends/backend_agg.py:201: RuntimeWarning: Glyph 8722 missing from current font.\n",
      "  font.set_text(s, 0, flags=flags)\n"
     ]
    },
    {
     "data": {
      "image/png": "[encoded data removed]",
      "text/plain": [
       "<Figure size 432x288 with 2 Axes>"
      ]
     },
     "metadata": {},
     "output_type": "display_data"
    }
   ],
   "source": [
    "youtube_corr = youtube_df.corr();\n",
    "sns.heatmap(youtube_corr);"
   ]
  },
  {
   "cell_type": "markdown",
   "metadata": {},
   "source": [
    "## Part 1: Predicting likes_per_10k_views"
   ]
  },
  {
   "cell_type": "markdown",
   "metadata": {},
   "source": [
    "Correlation chart by likes_per_10k_views"
   ]
  },
  {
   "cell_type": "code",
   "execution_count": 22,
   "metadata": {
    "scrolled": true
   },
   "outputs": [
    {
     "data": {
      "text/html": [
       "<div>\n",
       "<style scoped>\n",
       "    .dataframe tbody tr th:only-of-type {\n",
       "        vertical-align: middle;\n",
       "    }\n",
       "\n",
       "    .dataframe tbody tr th {\n",
       "        vertical-align: top;\n",
       "    }\n",
       "\n",
       "    .dataframe thead th {\n",
       "        text-align: right;\n",
       "    }\n",
       "</style>\n",
       "<table border=\"1\" class=\"dataframe\">\n",
       "  <thead>\n",
       "    <tr style=\"text-align: right;\">\n",
       "      <th></th>\n",
       "      <th>likes_per_10k_views</th>\n",
       "    </tr>\n",
       "  </thead>\n",
       "  <tbody>\n",
       "    <tr>\n",
       "      <th>views</th>\n",
       "      <td>-0.122725</td>\n",
       "    </tr>\n",
       "    <tr>\n",
       "      <th>comment_count</th>\n",
       "      <td>0.101509</td>\n",
       "    </tr>\n",
       "    <tr>\n",
       "      <th>tags</th>\n",
       "      <td>0.012086</td>\n",
       "    </tr>\n",
       "    <tr>\n",
       "      <th>year</th>\n",
       "      <td>0.017573</td>\n",
       "    </tr>\n",
       "    <tr>\n",
       "      <th>month</th>\n",
       "      <td>0.002344</td>\n",
       "    </tr>\n",
       "    <tr>\n",
       "      <th>likes_per_10k_views</th>\n",
       "      <td>1.000000</td>\n",
       "    </tr>\n",
       "    <tr>\n",
       "      <th>dislikes_per_10k_views</th>\n",
       "      <td>0.046883</td>\n",
       "    </tr>\n",
       "  </tbody>\n",
       "</table>\n",
       "</div>"
      ],
      "text/plain": [
       "                        likes_per_10k_views\n",
       "views                             -0.122725\n",
       "comment_count                      0.101509\n",
       "tags                               0.012086\n",
       "year                               0.017573\n",
       "month                              0.002344\n",
       "likes_per_10k_views                1.000000\n",
       "dislikes_per_10k_views             0.046883"
      ]
     },
     "execution_count": 22,
     "metadata": {},
     "output_type": "execute_result"
    }
   ],
   "source": [
    "youtube_df.corr()[['likes_per_10k_views']]"
   ]
  },
  {
   "cell_type": "markdown",
   "metadata": {},
   "source": [
    "Since all of correlation values are close to zero. I decided to build a model with views as a target.\n"
   ]
  },
  {
   "cell_type": "code",
   "execution_count": 23,
   "metadata": {},
   "outputs": [],
   "source": [
    "# compute log normalization\n",
    "youtube['logarithm_base2_views'] = np.log2(youtube['views'])"
   ]
  },
  {
   "cell_type": "code",
   "execution_count": 24,
   "metadata": {},
   "outputs": [
    {
     "data": {
      "text/html": [
       "<div>\n",
       "<style scoped>\n",
       "    .dataframe tbody tr th:only-of-type {\n",
       "        vertical-align: middle;\n",
       "    }\n",
       "\n",
       "    .dataframe tbody tr th {\n",
       "        vertical-align: top;\n",
       "    }\n",
       "\n",
       "    .dataframe thead th {\n",
       "        text-align: right;\n",
       "    }\n",
       "</style>\n",
       "<table border=\"1\" class=\"dataframe\">\n",
       "  <thead>\n",
       "    <tr style=\"text-align: right;\">\n",
       "      <th></th>\n",
       "      <th>trending_date</th>\n",
       "      <th>video_title</th>\n",
       "      <th>channel_title</th>\n",
       "      <th>tags</th>\n",
       "      <th>views</th>\n",
       "      <th>likes</th>\n",
       "      <th>dislikes</th>\n",
       "      <th>comment_count</th>\n",
       "      <th>comments_disabled</th>\n",
       "      <th>ratings_disabled</th>\n",
       "      <th>video_error_or_removed</th>\n",
       "      <th>published_date</th>\n",
       "      <th>published_time_UTC</th>\n",
       "      <th>year</th>\n",
       "      <th>month</th>\n",
       "      <th>y_hat</th>\n",
       "      <th>logarithm_base2_views</th>\n",
       "    </tr>\n",
       "  </thead>\n",
       "  <tbody>\n",
       "    <tr>\n",
       "      <th>0</th>\n",
       "      <td>2017-11-14</td>\n",
       "      <td>Marshmello - Blocks (Official Music Video)</td>\n",
       "      <td>marshmello</td>\n",
       "      <td>23</td>\n",
       "      <td>687582</td>\n",
       "      <td>114188</td>\n",
       "      <td>1333</td>\n",
       "      <td>8371</td>\n",
       "      <td>False</td>\n",
       "      <td>False</td>\n",
       "      <td>False</td>\n",
       "      <td>2017-11-13</td>\n",
       "      <td>17:00:00</td>\n",
       "      <td>2017</td>\n",
       "      <td>11</td>\n",
       "      <td>109806.766775</td>\n",
       "      <td>19.391172</td>\n",
       "    </tr>\n",
       "    <tr>\n",
       "      <th>1</th>\n",
       "      <td>2017-11-14</td>\n",
       "      <td>Eminem - Walk On Water (Audio) ft. Beyoncé</td>\n",
       "      <td>EminemVEVO</td>\n",
       "      <td>6</td>\n",
       "      <td>17158531</td>\n",
       "      <td>787419</td>\n",
       "      <td>43420</td>\n",
       "      <td>125882</td>\n",
       "      <td>False</td>\n",
       "      <td>False</td>\n",
       "      <td>False</td>\n",
       "      <td>2017-11-10</td>\n",
       "      <td>17:00:03</td>\n",
       "      <td>2017</td>\n",
       "      <td>11</td>\n",
       "      <td>952808.696329</td>\n",
       "      <td>24.032423</td>\n",
       "    </tr>\n",
       "    <tr>\n",
       "      <th>2</th>\n",
       "      <td>2017-11-14</td>\n",
       "      <td>Hunter Hayes - You Should Be Loved (Part One O...</td>\n",
       "      <td>Hunter Hayes</td>\n",
       "      <td>13</td>\n",
       "      <td>13917</td>\n",
       "      <td>1318</td>\n",
       "      <td>24</td>\n",
       "      <td>76</td>\n",
       "      <td>False</td>\n",
       "      <td>False</td>\n",
       "      <td>False</td>\n",
       "      <td>2017-11-13</td>\n",
       "      <td>15:01:18</td>\n",
       "      <td>2017</td>\n",
       "      <td>11</td>\n",
       "      <td>62704.292806</td>\n",
       "      <td>13.764561</td>\n",
       "    </tr>\n",
       "    <tr>\n",
       "      <th>3</th>\n",
       "      <td>2017-11-14</td>\n",
       "      <td>Nickelback - The Betrayal Act III [Official Vi...</td>\n",
       "      <td>Nickelback</td>\n",
       "      <td>14</td>\n",
       "      <td>57169</td>\n",
       "      <td>6927</td>\n",
       "      <td>161</td>\n",
       "      <td>565</td>\n",
       "      <td>False</td>\n",
       "      <td>False</td>\n",
       "      <td>False</td>\n",
       "      <td>2017-11-13</td>\n",
       "      <td>15:31:44</td>\n",
       "      <td>2017</td>\n",
       "      <td>11</td>\n",
       "      <td>65927.631670</td>\n",
       "      <td>15.802945</td>\n",
       "    </tr>\n",
       "    <tr>\n",
       "      <th>4</th>\n",
       "      <td>2017-11-14</td>\n",
       "      <td>U2 - The Blackout</td>\n",
       "      <td>U2VEVO</td>\n",
       "      <td>6</td>\n",
       "      <td>60506</td>\n",
       "      <td>5389</td>\n",
       "      <td>106</td>\n",
       "      <td>455</td>\n",
       "      <td>False</td>\n",
       "      <td>False</td>\n",
       "      <td>False</td>\n",
       "      <td>2017-11-13</td>\n",
       "      <td>17:00:04</td>\n",
       "      <td>2017</td>\n",
       "      <td>11</td>\n",
       "      <td>65022.050817</td>\n",
       "      <td>15.884791</td>\n",
       "    </tr>\n",
       "    <tr>\n",
       "      <th>...</th>\n",
       "      <td>...</td>\n",
       "      <td>...</td>\n",
       "      <td>...</td>\n",
       "      <td>...</td>\n",
       "      <td>...</td>\n",
       "      <td>...</td>\n",
       "      <td>...</td>\n",
       "      <td>...</td>\n",
       "      <td>...</td>\n",
       "      <td>...</td>\n",
       "      <td>...</td>\n",
       "      <td>...</td>\n",
       "      <td>...</td>\n",
       "      <td>...</td>\n",
       "      <td>...</td>\n",
       "      <td>...</td>\n",
       "      <td>...</td>\n",
       "    </tr>\n",
       "    <tr>\n",
       "      <th>10198</th>\n",
       "      <td>2018-06-14</td>\n",
       "      <td>Música POP En Inglés 2018 - Música pop para tr...</td>\n",
       "      <td>Encanta Música</td>\n",
       "      <td>23</td>\n",
       "      <td>1288940</td>\n",
       "      <td>4818</td>\n",
       "      <td>537</td>\n",
       "      <td>175</td>\n",
       "      <td>False</td>\n",
       "      <td>False</td>\n",
       "      <td>False</td>\n",
       "      <td>2018-06-11</td>\n",
       "      <td>14:51:50</td>\n",
       "      <td>2018</td>\n",
       "      <td>6</td>\n",
       "      <td>66978.878087</td>\n",
       "      <td>20.297754</td>\n",
       "    </tr>\n",
       "    <tr>\n",
       "      <th>10199</th>\n",
       "      <td>2018-06-14</td>\n",
       "      <td>Sanju: Kar Har Maidaan Fateh | Ranbir Kapoor |...</td>\n",
       "      <td>T-Series</td>\n",
       "      <td>24</td>\n",
       "      <td>19472216</td>\n",
       "      <td>309752</td>\n",
       "      <td>10303</td>\n",
       "      <td>21731</td>\n",
       "      <td>False</td>\n",
       "      <td>False</td>\n",
       "      <td>False</td>\n",
       "      <td>2018-06-10</td>\n",
       "      <td>05:31:55</td>\n",
       "      <td>2018</td>\n",
       "      <td>6</td>\n",
       "      <td>236886.230296</td>\n",
       "      <td>24.214914</td>\n",
       "    </tr>\n",
       "    <tr>\n",
       "      <th>10200</th>\n",
       "      <td>2018-06-14</td>\n",
       "      <td>MAGIC! - Kiss Me (Official Video)</td>\n",
       "      <td>ournameismagicVEVO</td>\n",
       "      <td>4</td>\n",
       "      <td>1073869</td>\n",
       "      <td>63948</td>\n",
       "      <td>356</td>\n",
       "      <td>1672</td>\n",
       "      <td>False</td>\n",
       "      <td>False</td>\n",
       "      <td>False</td>\n",
       "      <td>2018-06-08</td>\n",
       "      <td>21:47:31</td>\n",
       "      <td>2018</td>\n",
       "      <td>6</td>\n",
       "      <td>72365.225222</td>\n",
       "      <td>20.034387</td>\n",
       "    </tr>\n",
       "    <tr>\n",
       "      <th>10201</th>\n",
       "      <td>2018-06-14</td>\n",
       "      <td>Difference | Amrit Maan ft Sonia Maan | Latest...</td>\n",
       "      <td>Bamb Beats</td>\n",
       "      <td>24</td>\n",
       "      <td>16256855</td>\n",
       "      <td>321798</td>\n",
       "      <td>14006</td>\n",
       "      <td>20453</td>\n",
       "      <td>False</td>\n",
       "      <td>False</td>\n",
       "      <td>False</td>\n",
       "      <td>2018-06-08</td>\n",
       "      <td>11:13:27</td>\n",
       "      <td>2018</td>\n",
       "      <td>6</td>\n",
       "      <td>258773.701369</td>\n",
       "      <td>23.954545</td>\n",
       "    </tr>\n",
       "    <tr>\n",
       "      <th>10202</th>\n",
       "      <td>2018-06-14</td>\n",
       "      <td>NCT 미니게임천국 #3: 최강 손가락 컨트롤러 (Professional Finge...</td>\n",
       "      <td>SMTOWN</td>\n",
       "      <td>24</td>\n",
       "      <td>261128</td>\n",
       "      <td>32078</td>\n",
       "      <td>91</td>\n",
       "      <td>2021</td>\n",
       "      <td>False</td>\n",
       "      <td>False</td>\n",
       "      <td>False</td>\n",
       "      <td>2018-06-13</td>\n",
       "      <td>10:00:04</td>\n",
       "      <td>2018</td>\n",
       "      <td>6</td>\n",
       "      <td>71957.959701</td>\n",
       "      <td>17.994398</td>\n",
       "    </tr>\n",
       "  </tbody>\n",
       "</table>\n",
       "<p>10203 rows × 17 columns</p>\n",
       "</div>"
      ],
      "text/plain": [
       "      trending_date                                        video_title  \\\n",
       "0        2017-11-14         Marshmello - Blocks (Official Music Video)   \n",
       "1        2017-11-14         Eminem - Walk On Water (Audio) ft. Beyoncé   \n",
       "2        2017-11-14  Hunter Hayes - You Should Be Loved (Part One O...   \n",
       "3        2017-11-14  Nickelback - The Betrayal Act III [Official Vi...   \n",
       "4        2017-11-14                                  U2 - The Blackout   \n",
       "...             ...                                                ...   \n",
       "10198    2018-06-14  Música POP En Inglés 2018 - Música pop para tr...   \n",
       "10199    2018-06-14  Sanju: Kar Har Maidaan Fateh | Ranbir Kapoor |...   \n",
       "10200    2018-06-14                  MAGIC! - Kiss Me (Official Video)   \n",
       "10201    2018-06-14  Difference | Amrit Maan ft Sonia Maan | Latest...   \n",
       "10202    2018-06-14  NCT 미니게임천국 #3: 최강 손가락 컨트롤러 (Professional Finge...   \n",
       "\n",
       "            channel_title  tags     views   likes  dislikes  comment_count  \\\n",
       "0              marshmello    23    687582  114188      1333           8371   \n",
       "1              EminemVEVO     6  17158531  787419     43420         125882   \n",
       "2            Hunter Hayes    13     13917    1318        24             76   \n",
       "3              Nickelback    14     57169    6927       161            565   \n",
       "4                  U2VEVO     6     60506    5389       106            455   \n",
       "...                   ...   ...       ...     ...       ...            ...   \n",
       "10198      Encanta Música    23   1288940    4818       537            175   \n",
       "10199            T-Series    24  19472216  309752     10303          21731   \n",
       "10200  ournameismagicVEVO     4   1073869   63948       356           1672   \n",
       "10201          Bamb Beats    24  16256855  321798     14006          20453   \n",
       "10202              SMTOWN    24    261128   32078        91           2021   \n",
       "\n",
       "       comments_disabled  ratings_disabled  video_error_or_removed  \\\n",
       "0                  False             False                   False   \n",
       "1                  False             False                   False   \n",
       "2                  False             False                   False   \n",
       "3                  False             False                   False   \n",
       "4                  False             False                   False   \n",
       "...                  ...               ...                     ...   \n",
       "10198              False             False                   False   \n",
       "10199              False             False                   False   \n",
       "10200              False             False                   False   \n",
       "10201              False             False                   False   \n",
       "10202              False             False                   False   \n",
       "\n",
       "      published_date published_time_UTC  year  month          y_hat  \\\n",
       "0         2017-11-13           17:00:00  2017     11  109806.766775   \n",
       "1         2017-11-10           17:00:03  2017     11  952808.696329   \n",
       "2         2017-11-13           15:01:18  2017     11   62704.292806   \n",
       "3         2017-11-13           15:31:44  2017     11   65927.631670   \n",
       "4         2017-11-13           17:00:04  2017     11   65022.050817   \n",
       "...              ...                ...   ...    ...            ...   \n",
       "10198     2018-06-11           14:51:50  2018      6   66978.878087   \n",
       "10199     2018-06-10           05:31:55  2018      6  236886.230296   \n",
       "10200     2018-06-08           21:47:31  2018      6   72365.225222   \n",
       "10201     2018-06-08           11:13:27  2018      6  258773.701369   \n",
       "10202     2018-06-13           10:00:04  2018      6   71957.959701   \n",
       "\n",
       "       logarithm_base2_views  \n",
       "0                  19.391172  \n",
       "1                  24.032423  \n",
       "2                  13.764561  \n",
       "3                  15.802945  \n",
       "4                  15.884791  \n",
       "...                      ...  \n",
       "10198              20.297754  \n",
       "10199              24.214914  \n",
       "10200              20.034387  \n",
       "10201              23.954545  \n",
       "10202              17.994398  \n",
       "\n",
       "[10203 rows x 17 columns]"
      ]
     },
     "execution_count": 24,
     "metadata": {},
     "output_type": "execute_result"
    }
   ],
   "source": [
    "youtube"
   ]
  },
  {
   "cell_type": "markdown",
   "metadata": {},
   "source": [
    "Clean and sort data"
   ]
  },
  {
   "cell_type": "code",
   "execution_count": 25,
   "metadata": {},
   "outputs": [],
   "source": [
    "youtube_df_1 = youtube[['logarithm_base2_views', 'likes', 'dislikes', \n",
    "                      'comment_count', 'tags','year','month']].copy()"
   ]
  },
  {
   "cell_type": "markdown",
   "metadata": {},
   "source": [
    "Correlation heatmap"
   ]
  },
  {
   "cell_type": "code",
   "execution_count": 26,
   "metadata": {},
   "outputs": [
    {
     "name": "stderr",
     "output_type": "stream",
     "text": [
      "/Users/suanjung/opt/anaconda3/lib/python3.8/site-packages/matplotlib/backends/backend_agg.py:238: RuntimeWarning: Glyph 8722 missing from current font.\n",
      "  font.set_text(s, 0.0, flags=flags)\n",
      "/Users/suanjung/opt/anaconda3/lib/python3.8/site-packages/matplotlib/backends/backend_agg.py:201: RuntimeWarning: Glyph 8722 missing from current font.\n",
      "  font.set_text(s, 0, flags=flags)\n"
     ]
    },
    {
     "data": {
      "image/png": "[encoded data removed]",
      "text/plain": [
       "<Figure size 432x288 with 2 Axes>"
      ]
     },
     "metadata": {},
     "output_type": "display_data"
    }
   ],
   "source": [
    "youtube_corr = youtube_df_1.corr();\n",
    "sns.heatmap(youtube_corr);"
   ]
  },
  {
   "cell_type": "markdown",
   "metadata": {},
   "source": [
    "Correlation chart by likes"
   ]
  },
  {
   "cell_type": "code",
   "execution_count": 27,
   "metadata": {
    "scrolled": true
   },
   "outputs": [
    {
     "data": {
      "text/html": [
       "<div>\n",
       "<style scoped>\n",
       "    .dataframe tbody tr th:only-of-type {\n",
       "        vertical-align: middle;\n",
       "    }\n",
       "\n",
       "    .dataframe tbody tr th {\n",
       "        vertical-align: top;\n",
       "    }\n",
       "\n",
       "    .dataframe thead th {\n",
       "        text-align: right;\n",
       "    }\n",
       "</style>\n",
       "<table border=\"1\" class=\"dataframe\">\n",
       "  <thead>\n",
       "    <tr style=\"text-align: right;\">\n",
       "      <th></th>\n",
       "      <th>likes</th>\n",
       "    </tr>\n",
       "  </thead>\n",
       "  <tbody>\n",
       "    <tr>\n",
       "      <th>logarithm_base2_views</th>\n",
       "      <td>0.576604</td>\n",
       "    </tr>\n",
       "    <tr>\n",
       "      <th>likes</th>\n",
       "      <td>1.000000</td>\n",
       "    </tr>\n",
       "    <tr>\n",
       "      <th>dislikes</th>\n",
       "      <td>0.803668</td>\n",
       "    </tr>\n",
       "    <tr>\n",
       "      <th>comment_count</th>\n",
       "      <td>0.887577</td>\n",
       "    </tr>\n",
       "    <tr>\n",
       "      <th>tags</th>\n",
       "      <td>-0.049246</td>\n",
       "    </tr>\n",
       "    <tr>\n",
       "      <th>year</th>\n",
       "      <td>0.078228</td>\n",
       "    </tr>\n",
       "    <tr>\n",
       "      <th>month</th>\n",
       "      <td>-0.028373</td>\n",
       "    </tr>\n",
       "  </tbody>\n",
       "</table>\n",
       "</div>"
      ],
      "text/plain": [
       "                          likes\n",
       "logarithm_base2_views  0.576604\n",
       "likes                  1.000000\n",
       "dislikes               0.803668\n",
       "comment_count          0.887577\n",
       "tags                  -0.049246\n",
       "year                   0.078228\n",
       "month                 -0.028373"
      ]
     },
     "execution_count": 27,
     "metadata": {},
     "output_type": "execute_result"
    }
   ],
   "source": [
    "youtube_df_1.corr()[['likes']]"
   ]
  },
  {
   "cell_type": "markdown",
   "metadata": {},
   "source": [
    "Based on above chart, I chose logarithm_base2_views, dislikes, and comment_count as features."
   ]
  },
  {
   "cell_type": "markdown",
   "metadata": {},
   "source": [
    "Compare interactions between features"
   ]
  },
  {
   "cell_type": "code",
   "execution_count": 28,
   "metadata": {},
   "outputs": [
    {
     "name": "stdout",
     "output_type": "stream",
     "text": [
      "                       logarithm_base2_views  dislikes  comment_count\n",
      "logarithm_base2_views               1.000000  0.507671       0.393442\n",
      "dislikes                            0.507671  1.000000       0.701895\n",
      "comment_count                       0.393442  0.701895       1.000000\n",
      "AxesSubplot(0.08,0.07;0.696x0.81)\n"
     ]
    },
    {
     "data": {
      "image/png": "[encoded data removed]",
      "text/plain": [
       "<Figure size 432x288 with 2 Axes>"
      ]
     },
     "metadata": {},
     "output_type": "display_data"
    }
   ],
   "source": [
    "cmap = sns.diverging_palette(220, 10, as_cmap=True)\n",
    "correlations = youtube_df_1[['logarithm_base2_views','dislikes','comment_count']].corr()\n",
    "print(correlations)\n",
    "print(sns.heatmap(correlations, cmap=cmap))"
   ]
  },
  {
   "cell_type": "markdown",
   "metadata": {},
   "source": [
    "#### Model 1:  likes vs. logarithm_base2_views, comment_count"
   ]
  },
  {
   "cell_type": "code",
   "execution_count": 29,
   "metadata": {},
   "outputs": [
    {
     "name": "stdout",
     "output_type": "stream",
     "text": [
      "Intercept is: -822531.3457512588\n",
      "Coefficient is: [4.53813097e+04 5.51779576e+00]\n",
      "Socre is 0.849\n"
     ]
    }
   ],
   "source": [
    "feature_cols = ['logarithm_base2_views', 'comment_count']\n",
    "X = youtube_df_1[feature_cols]\n",
    "y = youtube_df_1.likes\n",
    "\n",
    "lr = LinearRegression()\n",
    "lr.fit(X,y)\n",
    "\n",
    "print(f\"Intercept is: {lr.intercept_}\")\n",
    "print(f\"Coefficient is: {lr.coef_}\")\n",
    "print(f\"Socre is {round(lr.score(X,y), 4)}\")"
   ]
  },
  {
   "cell_type": "code",
   "execution_count": 30,
   "metadata": {},
   "outputs": [
    {
     "name": "stdout",
     "output_type": "stream",
     "text": [
      "MSE: 28629042680.26361\n",
      "RMSE: 169201.18994931332\n"
     ]
    }
   ],
   "source": [
    "y_pred = lr.predict(X)\n",
    "print('MSE:', metrics.mean_squared_error(y, y_pred))\n",
    "print('RMSE:', np.sqrt(metrics.mean_squared_error(y, y_pred)))"
   ]
  },
  {
   "cell_type": "code",
   "execution_count": 31,
   "metadata": {},
   "outputs": [],
   "source": [
    "y_hat = lr.predict(X)\n",
    "youtube_df_1['y_hat'] = y_hat"
   ]
  },
  {
   "cell_type": "code",
   "execution_count": 32,
   "metadata": {},
   "outputs": [
    {
     "data": {
      "text/plain": [
       "<matplotlib.legend.Legend at 0x7fd60dde29a0>"
      ]
     },
     "execution_count": 32,
     "metadata": {},
     "output_type": "execute_result"
    },
    {
     "data": {
      "image/png": "[encoded data removed]",
      "text/plain": [
       "<Figure size 432x288 with 1 Axes>"
      ]
     },
     "metadata": {},
     "output_type": "display_data"
    }
   ],
   "source": [
    "plt.scatter('likes', 'y_hat', data=youtube_df_1);\n",
    "plt.ylabel(\"predicted likes \")\n",
    "plt.xlabel(\"likes\")\n",
    "plt.legend()"
   ]
  },
  {
   "cell_type": "markdown",
   "metadata": {},
   "source": [
    "=> the graph shows the model accuracy on predicting likes is not reliable enough. "
   ]
  },
  {
   "cell_type": "markdown",
   "metadata": {},
   "source": [
    "Train and Test Split"
   ]
  },
  {
   "cell_type": "code",
   "execution_count": 33,
   "metadata": {},
   "outputs": [
    {
     "name": "stdout",
     "output_type": "stream",
     "text": [
      "MSE for train data: 28194051986.086155\n",
      "MSE for test data: 29971828492.928062\n",
      "RMSE for train data: 167910.84534980508\n",
      "RMSE for test data: 173123.7375200988\n"
     ]
    }
   ],
   "source": [
    "X_train, X_test, y_train, y_test = train_test_split(X, y, random_state = 45)\n",
    "\n",
    "lr = LinearRegression()\n",
    "lr.fit(X_train, y_train)\n",
    "\n",
    "y_pred = lr.predict(X_test)\n",
    "print('MSE for train data:', metrics.mean_squared_error(y_train, lr.predict(X_train)))\n",
    "print('MSE for test data:', metrics.mean_squared_error(y_test, y_pred))\n",
    "print('RMSE for train data:', np.sqrt(metrics.mean_squared_error(y_train, lr.predict(X_train))))\n",
    "print('RMSE for test data:', np.sqrt(metrics.mean_squared_error(y_test, y_pred)))"
   ]
  },
  {
   "cell_type": "markdown",
   "metadata": {},
   "source": [
    "#### Model 2: likes vs. dislikes and logarithm_base2_views"
   ]
  },
  {
   "cell_type": "code",
   "execution_count": 34,
   "metadata": {},
   "outputs": [
    {
     "name": "stdout",
     "output_type": "stream",
     "text": [
      "Intercept is: -686680.0485294308\n",
      "Coefficient is: [1.44267858e+01 3.83150249e+04]\n",
      "Score is 0.6842\n"
     ]
    }
   ],
   "source": [
    "feature_cols = ['dislikes','logarithm_base2_views']\n",
    "X = youtube_df_1[feature_cols]\n",
    "y = youtube_df_1.likes\n",
    "\n",
    "lr = LinearRegression()\n",
    "lr.fit(X,y)\n",
    "\n",
    "print(f\"Intercept is: {lr.intercept_}\")\n",
    "print(f\"Coefficient is: {lr.coef_}\")\n",
    "print(f\"Score is {round(lr.score(X,y), 4)}\")"
   ]
  },
  {
   "cell_type": "code",
   "execution_count": 35,
   "metadata": {},
   "outputs": [
    {
     "name": "stdout",
     "output_type": "stream",
     "text": [
      "MSE: 59866959925.03063\n",
      "RMSE: 244677.2566566632\n"
     ]
    }
   ],
   "source": [
    "y_pred = lr.predict(X)\n",
    "print('MSE:', metrics.mean_squared_error(y, y_pred))\n",
    "print('RMSE:', np.sqrt(metrics.mean_squared_error(y, y_pred)))"
   ]
  },
  {
   "cell_type": "code",
   "execution_count": 36,
   "metadata": {},
   "outputs": [],
   "source": [
    "y_hat = lr.predict(X)\n",
    "youtube_df_1['y_hat'] = y_hat"
   ]
  },
  {
   "cell_type": "code",
   "execution_count": 37,
   "metadata": {},
   "outputs": [
    {
     "data": {
      "text/plain": [
       "<matplotlib.legend.Legend at 0x7fd60edf7580>"
      ]
     },
     "execution_count": 37,
     "metadata": {},
     "output_type": "execute_result"
    },
    {
     "data": {
      "image/png": "[encoded data removed]",
      "text/plain": [
       "<Figure size 432x288 with 1 Axes>"
      ]
     },
     "metadata": {},
     "output_type": "display_data"
    }
   ],
   "source": [
    "plt.scatter('likes', 'y_hat', data=youtube_df_1);\n",
    "plt.ylabel(\"predicted likes \")\n",
    "plt.xlabel(\"likes\")\n",
    "plt.legend()"
   ]
  },
  {
   "cell_type": "markdown",
   "metadata": {},
   "source": [
    "=> the graph shows the model accuracy on predicting likes is not reliable enough."
   ]
  },
  {
   "cell_type": "markdown",
   "metadata": {},
   "source": [
    "Train and Test Split"
   ]
  },
  {
   "cell_type": "code",
   "execution_count": 38,
   "metadata": {},
   "outputs": [
    {
     "name": "stdout",
     "output_type": "stream",
     "text": [
      "MSE for train data: 59920164580.93248\n",
      "MSE for test data: 59752664729.837296\n",
      "RMSE for train data: 244785.95666608916\n",
      "RMSE for test data: 244443.58189536762\n"
     ]
    }
   ],
   "source": [
    "X_train, X_test, y_train, y_test = train_test_split(X, y, random_state = 45)\n",
    "\n",
    "lr = LinearRegression()\n",
    "lr.fit(X_train, y_train)\n",
    "\n",
    "y_pred = lr.predict(X_test)\n",
    "print('MSE for train data:', metrics.mean_squared_error(y_train, lr.predict(X_train)))\n",
    "print('MSE for test data:', metrics.mean_squared_error(y_test, y_pred))\n",
    "print('RMSE for train data:', np.sqrt(metrics.mean_squared_error(y_train, lr.predict(X_train))))\n",
    "print('RMSE for test data:', np.sqrt(metrics.mean_squared_error(y_test, y_pred)))"
   ]
  },
  {
   "cell_type": "markdown",
   "metadata": {},
   "source": [
    "## Part 2: Predicting 'logarithm_base2_views'"
   ]
  },
  {
   "cell_type": "markdown",
   "metadata": {},
   "source": [
    "Correlation chart by logarithm_base2_views"
   ]
  },
  {
   "cell_type": "code",
   "execution_count": 39,
   "metadata": {},
   "outputs": [
    {
     "data": {
      "text/html": [
       "<div>\n",
       "<style scoped>\n",
       "    .dataframe tbody tr th:only-of-type {\n",
       "        vertical-align: middle;\n",
       "    }\n",
       "\n",
       "    .dataframe tbody tr th {\n",
       "        vertical-align: top;\n",
       "    }\n",
       "\n",
       "    .dataframe thead th {\n",
       "        text-align: right;\n",
       "    }\n",
       "</style>\n",
       "<table border=\"1\" class=\"dataframe\">\n",
       "  <thead>\n",
       "    <tr style=\"text-align: right;\">\n",
       "      <th></th>\n",
       "      <th>logarithm_base2_views</th>\n",
       "    </tr>\n",
       "  </thead>\n",
       "  <tbody>\n",
       "    <tr>\n",
       "      <th>logarithm_base2_views</th>\n",
       "      <td>1.000000</td>\n",
       "    </tr>\n",
       "    <tr>\n",
       "      <th>likes</th>\n",
       "      <td>0.576604</td>\n",
       "    </tr>\n",
       "    <tr>\n",
       "      <th>dislikes</th>\n",
       "      <td>0.507671</td>\n",
       "    </tr>\n",
       "    <tr>\n",
       "      <th>comment_count</th>\n",
       "      <td>0.393442</td>\n",
       "    </tr>\n",
       "    <tr>\n",
       "      <th>tags</th>\n",
       "      <td>0.056264</td>\n",
       "    </tr>\n",
       "    <tr>\n",
       "      <th>year</th>\n",
       "      <td>0.212518</td>\n",
       "    </tr>\n",
       "    <tr>\n",
       "      <th>month</th>\n",
       "      <td>-0.119649</td>\n",
       "    </tr>\n",
       "    <tr>\n",
       "      <th>y_hat</th>\n",
       "      <td>0.697096</td>\n",
       "    </tr>\n",
       "  </tbody>\n",
       "</table>\n",
       "</div>"
      ],
      "text/plain": [
       "                       logarithm_base2_views\n",
       "logarithm_base2_views               1.000000\n",
       "likes                               0.576604\n",
       "dislikes                            0.507671\n",
       "comment_count                       0.393442\n",
       "tags                                0.056264\n",
       "year                                0.212518\n",
       "month                              -0.119649\n",
       "y_hat                               0.697096"
      ]
     },
     "execution_count": 39,
     "metadata": {},
     "output_type": "execute_result"
    }
   ],
   "source": [
    "youtube_df_1.corr()[['logarithm_base2_views']]"
   ]
  },
  {
   "cell_type": "markdown",
   "metadata": {},
   "source": [
    "Based on the above chart, I chose likes, comment_count and dislikes as features."
   ]
  },
  {
   "cell_type": "code",
   "execution_count": 40,
   "metadata": {},
   "outputs": [
    {
     "name": "stdout",
     "output_type": "stream",
     "text": [
      "                  likes  comment_count  dislikes\n",
      "likes          1.000000       0.887577  0.803668\n",
      "comment_count  0.887577       1.000000  0.701895\n",
      "dislikes       0.803668       0.701895  1.000000\n",
      "AxesSubplot(0.08,0.07;0.696x0.81)\n"
     ]
    },
    {
     "data": {
      "image/png": "[encoded data removed]",
      "text/plain": [
       "<Figure size 432x288 with 2 Axes>"
      ]
     },
     "metadata": {},
     "output_type": "display_data"
    }
   ],
   "source": [
    "cmap = sns.diverging_palette(220, 10, as_cmap=True)\n",
    "correlations = youtube_df_1[['likes','comment_count','dislikes']].corr()\n",
    "print(correlations)\n",
    "print(sns.heatmap(correlations, cmap=cmap))"
   ]
  },
  {
   "cell_type": "markdown",
   "metadata": {},
   "source": [
    "#### Model 1: logarithm_base2_views vs. likes"
   ]
  },
  {
   "cell_type": "code",
   "execution_count": 41,
   "metadata": {},
   "outputs": [
    {
     "name": "stdout",
     "output_type": "stream",
     "text": [
      "Intercept is: -2.842170943040401e-14\n",
      "Coefficient is: [-6.7723843e-20  1.0000000e+00]\n",
      "Socre is 1.0\n"
     ]
    }
   ],
   "source": [
    "feature_col = ['likes']\n",
    "X = youtube_df_1[feature_cols]\n",
    "y = youtube_df_1.logarithm_base2_views\n",
    "\n",
    "lr = LinearRegression()\n",
    "lr.fit(X,y)\n",
    "\n",
    "print(f\"Intercept is: {lr.intercept_}\")\n",
    "print(f\"Coefficient is: {lr.coef_}\")\n",
    "print(f\"Socre is {round(lr.score(X,y), 4)}\")"
   ]
  },
  {
   "cell_type": "code",
   "execution_count": 42,
   "metadata": {},
   "outputs": [
    {
     "name": "stdout",
     "output_type": "stream",
     "text": [
      "MSE: 1.3570294093969529e-29\n",
      "RMSE: 3.683788008825905e-15\n"
     ]
    }
   ],
   "source": [
    "y_pred = lr.predict(X)\n",
    "print('MSE:', metrics.mean_squared_error(y, y_pred))\n",
    "print('RMSE:', np.sqrt(metrics.mean_squared_error(y, y_pred)))"
   ]
  },
  {
   "cell_type": "code",
   "execution_count": 43,
   "metadata": {},
   "outputs": [],
   "source": [
    "y_hat = lr.predict(X)\n",
    "youtube_df_1['y_hat'] = y_hat"
   ]
  },
  {
   "cell_type": "code",
   "execution_count": 44,
   "metadata": {},
   "outputs": [
    {
     "data": {
      "text/html": [
       "<div>\n",
       "<style scoped>\n",
       "    .dataframe tbody tr th:only-of-type {\n",
       "        vertical-align: middle;\n",
       "    }\n",
       "\n",
       "    .dataframe tbody tr th {\n",
       "        vertical-align: top;\n",
       "    }\n",
       "\n",
       "    .dataframe thead th {\n",
       "        text-align: right;\n",
       "    }\n",
       "</style>\n",
       "<table border=\"1\" class=\"dataframe\">\n",
       "  <thead>\n",
       "    <tr style=\"text-align: right;\">\n",
       "      <th></th>\n",
       "      <th>logarithm_base2_views</th>\n",
       "      <th>likes</th>\n",
       "      <th>dislikes</th>\n",
       "      <th>comment_count</th>\n",
       "      <th>tags</th>\n",
       "      <th>year</th>\n",
       "      <th>month</th>\n",
       "      <th>y_hat</th>\n",
       "    </tr>\n",
       "  </thead>\n",
       "  <tbody>\n",
       "    <tr>\n",
       "      <th>0</th>\n",
       "      <td>19.391172</td>\n",
       "      <td>114188</td>\n",
       "      <td>1333</td>\n",
       "      <td>8371</td>\n",
       "      <td>23</td>\n",
       "      <td>2017</td>\n",
       "      <td>11</td>\n",
       "      <td>19.391172</td>\n",
       "    </tr>\n",
       "    <tr>\n",
       "      <th>1</th>\n",
       "      <td>24.032423</td>\n",
       "      <td>787419</td>\n",
       "      <td>43420</td>\n",
       "      <td>125882</td>\n",
       "      <td>6</td>\n",
       "      <td>2017</td>\n",
       "      <td>11</td>\n",
       "      <td>24.032423</td>\n",
       "    </tr>\n",
       "    <tr>\n",
       "      <th>2</th>\n",
       "      <td>13.764561</td>\n",
       "      <td>1318</td>\n",
       "      <td>24</td>\n",
       "      <td>76</td>\n",
       "      <td>13</td>\n",
       "      <td>2017</td>\n",
       "      <td>11</td>\n",
       "      <td>13.764561</td>\n",
       "    </tr>\n",
       "    <tr>\n",
       "      <th>3</th>\n",
       "      <td>15.802945</td>\n",
       "      <td>6927</td>\n",
       "      <td>161</td>\n",
       "      <td>565</td>\n",
       "      <td>14</td>\n",
       "      <td>2017</td>\n",
       "      <td>11</td>\n",
       "      <td>15.802945</td>\n",
       "    </tr>\n",
       "    <tr>\n",
       "      <th>4</th>\n",
       "      <td>15.884791</td>\n",
       "      <td>5389</td>\n",
       "      <td>106</td>\n",
       "      <td>455</td>\n",
       "      <td>6</td>\n",
       "      <td>2017</td>\n",
       "      <td>11</td>\n",
       "      <td>15.884791</td>\n",
       "    </tr>\n",
       "    <tr>\n",
       "      <th>...</th>\n",
       "      <td>...</td>\n",
       "      <td>...</td>\n",
       "      <td>...</td>\n",
       "      <td>...</td>\n",
       "      <td>...</td>\n",
       "      <td>...</td>\n",
       "      <td>...</td>\n",
       "      <td>...</td>\n",
       "    </tr>\n",
       "    <tr>\n",
       "      <th>10198</th>\n",
       "      <td>20.297754</td>\n",
       "      <td>4818</td>\n",
       "      <td>537</td>\n",
       "      <td>175</td>\n",
       "      <td>23</td>\n",
       "      <td>2018</td>\n",
       "      <td>6</td>\n",
       "      <td>20.297754</td>\n",
       "    </tr>\n",
       "    <tr>\n",
       "      <th>10199</th>\n",
       "      <td>24.214914</td>\n",
       "      <td>309752</td>\n",
       "      <td>10303</td>\n",
       "      <td>21731</td>\n",
       "      <td>24</td>\n",
       "      <td>2018</td>\n",
       "      <td>6</td>\n",
       "      <td>24.214914</td>\n",
       "    </tr>\n",
       "    <tr>\n",
       "      <th>10200</th>\n",
       "      <td>20.034387</td>\n",
       "      <td>63948</td>\n",
       "      <td>356</td>\n",
       "      <td>1672</td>\n",
       "      <td>4</td>\n",
       "      <td>2018</td>\n",
       "      <td>6</td>\n",
       "      <td>20.034387</td>\n",
       "    </tr>\n",
       "    <tr>\n",
       "      <th>10201</th>\n",
       "      <td>23.954545</td>\n",
       "      <td>321798</td>\n",
       "      <td>14006</td>\n",
       "      <td>20453</td>\n",
       "      <td>24</td>\n",
       "      <td>2018</td>\n",
       "      <td>6</td>\n",
       "      <td>23.954545</td>\n",
       "    </tr>\n",
       "    <tr>\n",
       "      <th>10202</th>\n",
       "      <td>17.994398</td>\n",
       "      <td>32078</td>\n",
       "      <td>91</td>\n",
       "      <td>2021</td>\n",
       "      <td>24</td>\n",
       "      <td>2018</td>\n",
       "      <td>6</td>\n",
       "      <td>17.994398</td>\n",
       "    </tr>\n",
       "  </tbody>\n",
       "</table>\n",
       "<p>10203 rows × 8 columns</p>\n",
       "</div>"
      ],
      "text/plain": [
       "       logarithm_base2_views   likes  dislikes  comment_count  tags  year  \\\n",
       "0                  19.391172  114188      1333           8371    23  2017   \n",
       "1                  24.032423  787419     43420         125882     6  2017   \n",
       "2                  13.764561    1318        24             76    13  2017   \n",
       "3                  15.802945    6927       161            565    14  2017   \n",
       "4                  15.884791    5389       106            455     6  2017   \n",
       "...                      ...     ...       ...            ...   ...   ...   \n",
       "10198              20.297754    4818       537            175    23  2018   \n",
       "10199              24.214914  309752     10303          21731    24  2018   \n",
       "10200              20.034387   63948       356           1672     4  2018   \n",
       "10201              23.954545  321798     14006          20453    24  2018   \n",
       "10202              17.994398   32078        91           2021    24  2018   \n",
       "\n",
       "       month      y_hat  \n",
       "0         11  19.391172  \n",
       "1         11  24.032423  \n",
       "2         11  13.764561  \n",
       "3         11  15.802945  \n",
       "4         11  15.884791  \n",
       "...      ...        ...  \n",
       "10198      6  20.297754  \n",
       "10199      6  24.214914  \n",
       "10200      6  20.034387  \n",
       "10201      6  23.954545  \n",
       "10202      6  17.994398  \n",
       "\n",
       "[10203 rows x 8 columns]"
      ]
     },
     "execution_count": 44,
     "metadata": {},
     "output_type": "execute_result"
    }
   ],
   "source": [
    "youtube_df_1"
   ]
  },
  {
   "cell_type": "code",
   "execution_count": 45,
   "metadata": {},
   "outputs": [
    {
     "data": {
      "text/plain": [
       "<matplotlib.legend.Legend at 0x7fd60f244be0>"
      ]
     },
     "execution_count": 45,
     "metadata": {},
     "output_type": "execute_result"
    },
    {
     "data": {
      "image/png": "[encoded data removed]",
      "text/plain": [
       "<Figure size 432x288 with 1 Axes>"
      ]
     },
     "metadata": {},
     "output_type": "display_data"
    }
   ],
   "source": [
    "plt.scatter('likes', 'y_hat', data=youtube_df_1);\n",
    "plt.ylabel(\"predicted likes \")\n",
    "plt.xlabel(\"likes\")\n",
    "plt.legend()"
   ]
  },
  {
   "cell_type": "markdown",
   "metadata": {},
   "source": [
    "=> the graph shows the model accuracy on predicting likes is not reliable."
   ]
  },
  {
   "cell_type": "markdown",
   "metadata": {},
   "source": [
    "Train and Test Split"
   ]
  },
  {
   "cell_type": "code",
   "execution_count": 46,
   "metadata": {},
   "outputs": [
    {
     "name": "stdout",
     "output_type": "stream",
     "text": [
      "MSE for train data: 1.9026681739099573e-30\n",
      "MSE for test data: 1.9061303879977722e-30\n",
      "RMSE for train data: 1.3793723840609385e-15\n",
      "RMSE for test data: 1.3806268098214564e-15\n"
     ]
    }
   ],
   "source": [
    "X_train, X_test, y_train, y_test = train_test_split(X, y, random_state = 45)\n",
    "\n",
    "lr = LinearRegression()\n",
    "lr.fit(X_train, y_train)\n",
    "\n",
    "y_pred = lr.predict(X_test)\n",
    "print('MSE for train data:', metrics.mean_squared_error(y_train, lr.predict(X_train)))\n",
    "print('MSE for test data:', metrics.mean_squared_error(y_test, y_pred))\n",
    "print('RMSE for train data:', np.sqrt(metrics.mean_squared_error(y_train, lr.predict(X_train))))\n",
    "print('RMSE for test data:', np.sqrt(metrics.mean_squared_error(y_test, y_pred)))"
   ]
  },
  {
   "cell_type": "markdown",
   "metadata": {},
   "source": [
    "#### Model 2: logarithm_base2_views vs. dislikes"
   ]
  },
  {
   "cell_type": "code",
   "execution_count": 47,
   "metadata": {},
   "outputs": [
    {
     "name": "stdout",
     "output_type": "stream",
     "text": [
      "Intercept is: -2.842170943040401e-14\n",
      "Coefficient is: [-6.7723843e-20  1.0000000e+00]\n",
      "Socre is 1.0\n"
     ]
    }
   ],
   "source": [
    "feature_col = ['dislikes']\n",
    "X = youtube_df_1[feature_cols]\n",
    "y = youtube_df_1.logarithm_base2_views\n",
    "\n",
    "lr = LinearRegression()\n",
    "lr.fit(X,y)\n",
    "\n",
    "print(f\"Intercept is: {lr.intercept_}\")\n",
    "print(f\"Coefficient is: {lr.coef_}\")\n",
    "print(f\"Socre is {round(lr.score(X,y), 4)}\")"
   ]
  },
  {
   "cell_type": "code",
   "execution_count": 48,
   "metadata": {},
   "outputs": [
    {
     "name": "stdout",
     "output_type": "stream",
     "text": [
      "MSE: 1.3570294093969529e-29\n",
      "RMSE: 3.683788008825905e-15\n"
     ]
    }
   ],
   "source": [
    "y_pred = lr.predict(X)\n",
    "print('MSE:', metrics.mean_squared_error(y, y_pred))\n",
    "print('RMSE:', np.sqrt(metrics.mean_squared_error(y, y_pred)))"
   ]
  },
  {
   "cell_type": "code",
   "execution_count": 49,
   "metadata": {},
   "outputs": [],
   "source": [
    "y_hat = lr.predict(X)\n",
    "youtube_df_1['y_hat'] = y_hat"
   ]
  },
  {
   "cell_type": "code",
   "execution_count": 50,
   "metadata": {},
   "outputs": [
    {
     "data": {
      "text/html": [
       "<div>\n",
       "<style scoped>\n",
       "    .dataframe tbody tr th:only-of-type {\n",
       "        vertical-align: middle;\n",
       "    }\n",
       "\n",
       "    .dataframe tbody tr th {\n",
       "        vertical-align: top;\n",
       "    }\n",
       "\n",
       "    .dataframe thead th {\n",
       "        text-align: right;\n",
       "    }\n",
       "</style>\n",
       "<table border=\"1\" class=\"dataframe\">\n",
       "  <thead>\n",
       "    <tr style=\"text-align: right;\">\n",
       "      <th></th>\n",
       "      <th>logarithm_base2_views</th>\n",
       "      <th>likes</th>\n",
       "      <th>dislikes</th>\n",
       "      <th>comment_count</th>\n",
       "      <th>tags</th>\n",
       "      <th>year</th>\n",
       "      <th>month</th>\n",
       "      <th>y_hat</th>\n",
       "    </tr>\n",
       "  </thead>\n",
       "  <tbody>\n",
       "    <tr>\n",
       "      <th>0</th>\n",
       "      <td>19.391172</td>\n",
       "      <td>114188</td>\n",
       "      <td>1333</td>\n",
       "      <td>8371</td>\n",
       "      <td>23</td>\n",
       "      <td>2017</td>\n",
       "      <td>11</td>\n",
       "      <td>19.391172</td>\n",
       "    </tr>\n",
       "    <tr>\n",
       "      <th>1</th>\n",
       "      <td>24.032423</td>\n",
       "      <td>787419</td>\n",
       "      <td>43420</td>\n",
       "      <td>125882</td>\n",
       "      <td>6</td>\n",
       "      <td>2017</td>\n",
       "      <td>11</td>\n",
       "      <td>24.032423</td>\n",
       "    </tr>\n",
       "    <tr>\n",
       "      <th>2</th>\n",
       "      <td>13.764561</td>\n",
       "      <td>1318</td>\n",
       "      <td>24</td>\n",
       "      <td>76</td>\n",
       "      <td>13</td>\n",
       "      <td>2017</td>\n",
       "      <td>11</td>\n",
       "      <td>13.764561</td>\n",
       "    </tr>\n",
       "    <tr>\n",
       "      <th>3</th>\n",
       "      <td>15.802945</td>\n",
       "      <td>6927</td>\n",
       "      <td>161</td>\n",
       "      <td>565</td>\n",
       "      <td>14</td>\n",
       "      <td>2017</td>\n",
       "      <td>11</td>\n",
       "      <td>15.802945</td>\n",
       "    </tr>\n",
       "    <tr>\n",
       "      <th>4</th>\n",
       "      <td>15.884791</td>\n",
       "      <td>5389</td>\n",
       "      <td>106</td>\n",
       "      <td>455</td>\n",
       "      <td>6</td>\n",
       "      <td>2017</td>\n",
       "      <td>11</td>\n",
       "      <td>15.884791</td>\n",
       "    </tr>\n",
       "    <tr>\n",
       "      <th>...</th>\n",
       "      <td>...</td>\n",
       "      <td>...</td>\n",
       "      <td>...</td>\n",
       "      <td>...</td>\n",
       "      <td>...</td>\n",
       "      <td>...</td>\n",
       "      <td>...</td>\n",
       "      <td>...</td>\n",
       "    </tr>\n",
       "    <tr>\n",
       "      <th>10198</th>\n",
       "      <td>20.297754</td>\n",
       "      <td>4818</td>\n",
       "      <td>537</td>\n",
       "      <td>175</td>\n",
       "      <td>23</td>\n",
       "      <td>2018</td>\n",
       "      <td>6</td>\n",
       "      <td>20.297754</td>\n",
       "    </tr>\n",
       "    <tr>\n",
       "      <th>10199</th>\n",
       "      <td>24.214914</td>\n",
       "      <td>309752</td>\n",
       "      <td>10303</td>\n",
       "      <td>21731</td>\n",
       "      <td>24</td>\n",
       "      <td>2018</td>\n",
       "      <td>6</td>\n",
       "      <td>24.214914</td>\n",
       "    </tr>\n",
       "    <tr>\n",
       "      <th>10200</th>\n",
       "      <td>20.034387</td>\n",
       "      <td>63948</td>\n",
       "      <td>356</td>\n",
       "      <td>1672</td>\n",
       "      <td>4</td>\n",
       "      <td>2018</td>\n",
       "      <td>6</td>\n",
       "      <td>20.034387</td>\n",
       "    </tr>\n",
       "    <tr>\n",
       "      <th>10201</th>\n",
       "      <td>23.954545</td>\n",
       "      <td>321798</td>\n",
       "      <td>14006</td>\n",
       "      <td>20453</td>\n",
       "      <td>24</td>\n",
       "      <td>2018</td>\n",
       "      <td>6</td>\n",
       "      <td>23.954545</td>\n",
       "    </tr>\n",
       "    <tr>\n",
       "      <th>10202</th>\n",
       "      <td>17.994398</td>\n",
       "      <td>32078</td>\n",
       "      <td>91</td>\n",
       "      <td>2021</td>\n",
       "      <td>24</td>\n",
       "      <td>2018</td>\n",
       "      <td>6</td>\n",
       "      <td>17.994398</td>\n",
       "    </tr>\n",
       "  </tbody>\n",
       "</table>\n",
       "<p>10203 rows × 8 columns</p>\n",
       "</div>"
      ],
      "text/plain": [
       "       logarithm_base2_views   likes  dislikes  comment_count  tags  year  \\\n",
       "0                  19.391172  114188      1333           8371    23  2017   \n",
       "1                  24.032423  787419     43420         125882     6  2017   \n",
       "2                  13.764561    1318        24             76    13  2017   \n",
       "3                  15.802945    6927       161            565    14  2017   \n",
       "4                  15.884791    5389       106            455     6  2017   \n",
       "...                      ...     ...       ...            ...   ...   ...   \n",
       "10198              20.297754    4818       537            175    23  2018   \n",
       "10199              24.214914  309752     10303          21731    24  2018   \n",
       "10200              20.034387   63948       356           1672     4  2018   \n",
       "10201              23.954545  321798     14006          20453    24  2018   \n",
       "10202              17.994398   32078        91           2021    24  2018   \n",
       "\n",
       "       month      y_hat  \n",
       "0         11  19.391172  \n",
       "1         11  24.032423  \n",
       "2         11  13.764561  \n",
       "3         11  15.802945  \n",
       "4         11  15.884791  \n",
       "...      ...        ...  \n",
       "10198      6  20.297754  \n",
       "10199      6  24.214914  \n",
       "10200      6  20.034387  \n",
       "10201      6  23.954545  \n",
       "10202      6  17.994398  \n",
       "\n",
       "[10203 rows x 8 columns]"
      ]
     },
     "execution_count": 50,
     "metadata": {},
     "output_type": "execute_result"
    }
   ],
   "source": [
    "youtube_df_1"
   ]
  },
  {
   "cell_type": "code",
   "execution_count": 51,
   "metadata": {},
   "outputs": [
    {
     "data": {
      "text/plain": [
       "<matplotlib.legend.Legend at 0x7fd60f1f8310>"
      ]
     },
     "execution_count": 51,
     "metadata": {},
     "output_type": "execute_result"
    },
    {
     "data": {
      "image/png": "[encoded data removed]",
      "text/plain": [
       "<Figure size 432x288 with 1 Axes>"
      ]
     },
     "metadata": {},
     "output_type": "display_data"
    }
   ],
   "source": [
    "plt.scatter('likes', 'y_hat', data=youtube_df_1);\n",
    "plt.ylabel(\"predicted likes \")\n",
    "plt.xlabel(\"likes\")\n",
    "plt.legend()"
   ]
  },
  {
   "cell_type": "markdown",
   "metadata": {},
   "source": [
    "=> the graph shows the model accuracy on predicting likes is not reliable ."
   ]
  },
  {
   "cell_type": "markdown",
   "metadata": {},
   "source": [
    "Train and Test Split"
   ]
  },
  {
   "cell_type": "code",
   "execution_count": 52,
   "metadata": {},
   "outputs": [
    {
     "name": "stdout",
     "output_type": "stream",
     "text": [
      "MSE for train data: 1.9026681739099573e-30\n",
      "MSE for test data: 1.9061303879977722e-30\n",
      "RMSE for train data: 1.3793723840609385e-15\n",
      "RMSE for test data: 1.3806268098214564e-15\n"
     ]
    }
   ],
   "source": [
    "X_train, X_test, y_train, y_test = train_test_split(X, y, random_state = 45)\n",
    "\n",
    "lr = LinearRegression()\n",
    "lr.fit(X_train, y_train)\n",
    "\n",
    "y_pred = lr.predict(X_test)\n",
    "print('MSE for train data:', metrics.mean_squared_error(y_train, lr.predict(X_train)))\n",
    "print('MSE for test data:', metrics.mean_squared_error(y_test, y_pred))\n",
    "print('RMSE for train data:', np.sqrt(metrics.mean_squared_error(y_train, lr.predict(X_train))))\n",
    "print('RMSE for test data:', np.sqrt(metrics.mean_squared_error(y_test, y_pred)))"
   ]
  },
  {
   "cell_type": "markdown",
   "metadata": {},
   "source": [
    "#### Model 3: logarithm_base2_views vs. comment_count"
   ]
  },
  {
   "cell_type": "code",
   "execution_count": 57,
   "metadata": {},
   "outputs": [
    {
     "name": "stdout",
     "output_type": "stream",
     "text": [
      "Intercept is: -2.842170943040401e-14\n",
      "Coefficient is: [-6.7723843e-20  1.0000000e+00]\n",
      "Socre is 1.0\n"
     ]
    }
   ],
   "source": [
    "feature_col = ['comment_count']\n",
    "X = youtube_df_1[feature_cols]\n",
    "y = youtube_df_1.logarithm_base2_views\n",
    "\n",
    "lr = LinearRegression()\n",
    "lr.fit(X,y)\n",
    "\n",
    "print(f\"Intercept is: {lr.intercept_}\")\n",
    "print(f\"Coefficient is: {lr.coef_}\")\n",
    "print(f\"Socre is {round(lr.score(X,y), 4)}\")"
   ]
  },
  {
   "cell_type": "code",
   "execution_count": 58,
   "metadata": {},
   "outputs": [
    {
     "name": "stdout",
     "output_type": "stream",
     "text": [
      "MSE: 1.3570294093969529e-29\n",
      "RMSE: 3.683788008825905e-15\n"
     ]
    }
   ],
   "source": [
    "y_pred = lr.predict(X)\n",
    "print('MSE:', metrics.mean_squared_error(y, y_pred))\n",
    "print('RMSE:', np.sqrt(metrics.mean_squared_error(y, y_pred)))"
   ]
  },
  {
   "cell_type": "code",
   "execution_count": 59,
   "metadata": {},
   "outputs": [
    {
     "data": {
      "text/html": [
       "<div>\n",
       "<style scoped>\n",
       "    .dataframe tbody tr th:only-of-type {\n",
       "        vertical-align: middle;\n",
       "    }\n",
       "\n",
       "    .dataframe tbody tr th {\n",
       "        vertical-align: top;\n",
       "    }\n",
       "\n",
       "    .dataframe thead th {\n",
       "        text-align: right;\n",
       "    }\n",
       "</style>\n",
       "<table border=\"1\" class=\"dataframe\">\n",
       "  <thead>\n",
       "    <tr style=\"text-align: right;\">\n",
       "      <th></th>\n",
       "      <th>logarithm_base2_views</th>\n",
       "      <th>likes</th>\n",
       "      <th>dislikes</th>\n",
       "      <th>comment_count</th>\n",
       "      <th>tags</th>\n",
       "      <th>year</th>\n",
       "      <th>month</th>\n",
       "      <th>y_hat</th>\n",
       "    </tr>\n",
       "  </thead>\n",
       "  <tbody>\n",
       "    <tr>\n",
       "      <th>0</th>\n",
       "      <td>19.391172</td>\n",
       "      <td>114188</td>\n",
       "      <td>1333</td>\n",
       "      <td>8371</td>\n",
       "      <td>23</td>\n",
       "      <td>2017</td>\n",
       "      <td>11</td>\n",
       "      <td>19.391172</td>\n",
       "    </tr>\n",
       "    <tr>\n",
       "      <th>1</th>\n",
       "      <td>24.032423</td>\n",
       "      <td>787419</td>\n",
       "      <td>43420</td>\n",
       "      <td>125882</td>\n",
       "      <td>6</td>\n",
       "      <td>2017</td>\n",
       "      <td>11</td>\n",
       "      <td>24.032423</td>\n",
       "    </tr>\n",
       "    <tr>\n",
       "      <th>2</th>\n",
       "      <td>13.764561</td>\n",
       "      <td>1318</td>\n",
       "      <td>24</td>\n",
       "      <td>76</td>\n",
       "      <td>13</td>\n",
       "      <td>2017</td>\n",
       "      <td>11</td>\n",
       "      <td>13.764561</td>\n",
       "    </tr>\n",
       "    <tr>\n",
       "      <th>3</th>\n",
       "      <td>15.802945</td>\n",
       "      <td>6927</td>\n",
       "      <td>161</td>\n",
       "      <td>565</td>\n",
       "      <td>14</td>\n",
       "      <td>2017</td>\n",
       "      <td>11</td>\n",
       "      <td>15.802945</td>\n",
       "    </tr>\n",
       "    <tr>\n",
       "      <th>4</th>\n",
       "      <td>15.884791</td>\n",
       "      <td>5389</td>\n",
       "      <td>106</td>\n",
       "      <td>455</td>\n",
       "      <td>6</td>\n",
       "      <td>2017</td>\n",
       "      <td>11</td>\n",
       "      <td>15.884791</td>\n",
       "    </tr>\n",
       "    <tr>\n",
       "      <th>...</th>\n",
       "      <td>...</td>\n",
       "      <td>...</td>\n",
       "      <td>...</td>\n",
       "      <td>...</td>\n",
       "      <td>...</td>\n",
       "      <td>...</td>\n",
       "      <td>...</td>\n",
       "      <td>...</td>\n",
       "    </tr>\n",
       "    <tr>\n",
       "      <th>10198</th>\n",
       "      <td>20.297754</td>\n",
       "      <td>4818</td>\n",
       "      <td>537</td>\n",
       "      <td>175</td>\n",
       "      <td>23</td>\n",
       "      <td>2018</td>\n",
       "      <td>6</td>\n",
       "      <td>20.297754</td>\n",
       "    </tr>\n",
       "    <tr>\n",
       "      <th>10199</th>\n",
       "      <td>24.214914</td>\n",
       "      <td>309752</td>\n",
       "      <td>10303</td>\n",
       "      <td>21731</td>\n",
       "      <td>24</td>\n",
       "      <td>2018</td>\n",
       "      <td>6</td>\n",
       "      <td>24.214914</td>\n",
       "    </tr>\n",
       "    <tr>\n",
       "      <th>10200</th>\n",
       "      <td>20.034387</td>\n",
       "      <td>63948</td>\n",
       "      <td>356</td>\n",
       "      <td>1672</td>\n",
       "      <td>4</td>\n",
       "      <td>2018</td>\n",
       "      <td>6</td>\n",
       "      <td>20.034387</td>\n",
       "    </tr>\n",
       "    <tr>\n",
       "      <th>10201</th>\n",
       "      <td>23.954545</td>\n",
       "      <td>321798</td>\n",
       "      <td>14006</td>\n",
       "      <td>20453</td>\n",
       "      <td>24</td>\n",
       "      <td>2018</td>\n",
       "      <td>6</td>\n",
       "      <td>23.954545</td>\n",
       "    </tr>\n",
       "    <tr>\n",
       "      <th>10202</th>\n",
       "      <td>17.994398</td>\n",
       "      <td>32078</td>\n",
       "      <td>91</td>\n",
       "      <td>2021</td>\n",
       "      <td>24</td>\n",
       "      <td>2018</td>\n",
       "      <td>6</td>\n",
       "      <td>17.994398</td>\n",
       "    </tr>\n",
       "  </tbody>\n",
       "</table>\n",
       "<p>10203 rows × 8 columns</p>\n",
       "</div>"
      ],
      "text/plain": [
       "       logarithm_base2_views   likes  dislikes  comment_count  tags  year  \\\n",
       "0                  19.391172  114188      1333           8371    23  2017   \n",
       "1                  24.032423  787419     43420         125882     6  2017   \n",
       "2                  13.764561    1318        24             76    13  2017   \n",
       "3                  15.802945    6927       161            565    14  2017   \n",
       "4                  15.884791    5389       106            455     6  2017   \n",
       "...                      ...     ...       ...            ...   ...   ...   \n",
       "10198              20.297754    4818       537            175    23  2018   \n",
       "10199              24.214914  309752     10303          21731    24  2018   \n",
       "10200              20.034387   63948       356           1672     4  2018   \n",
       "10201              23.954545  321798     14006          20453    24  2018   \n",
       "10202              17.994398   32078        91           2021    24  2018   \n",
       "\n",
       "       month      y_hat  \n",
       "0         11  19.391172  \n",
       "1         11  24.032423  \n",
       "2         11  13.764561  \n",
       "3         11  15.802945  \n",
       "4         11  15.884791  \n",
       "...      ...        ...  \n",
       "10198      6  20.297754  \n",
       "10199      6  24.214914  \n",
       "10200      6  20.034387  \n",
       "10201      6  23.954545  \n",
       "10202      6  17.994398  \n",
       "\n",
       "[10203 rows x 8 columns]"
      ]
     },
     "execution_count": 59,
     "metadata": {},
     "output_type": "execute_result"
    }
   ],
   "source": [
    "y_hat = lr.predict(X)\n",
    "youtube_df_1['y_hat'] = y_hat\n",
    "youtube_df_1"
   ]
  },
  {
   "cell_type": "code",
   "execution_count": 60,
   "metadata": {},
   "outputs": [
    {
     "data": {
      "text/plain": [
       "<matplotlib.legend.Legend at 0x7fd60e1c9640>"
      ]
     },
     "execution_count": 60,
     "metadata": {},
     "output_type": "execute_result"
    },
    {
     "data": {
      "image/png": "[encoded data removed]",
      "text/plain": [
       "<Figure size 432x288 with 1 Axes>"
      ]
     },
     "metadata": {},
     "output_type": "display_data"
    }
   ],
   "source": [
    "plt.scatter('likes', 'y_hat', data=youtube_df_1);\n",
    "plt.ylabel(\"predicted likes \")\n",
    "plt.xlabel(\"likes\")\n",
    "plt.legend()"
   ]
  },
  {
   "cell_type": "markdown",
   "metadata": {},
   "source": [
    "=> the graph shows the model accuracy on predicting likes is not reliable."
   ]
  },
  {
   "cell_type": "markdown",
   "metadata": {},
   "source": [
    "Train and Test Split"
   ]
  },
  {
   "cell_type": "code",
   "execution_count": 61,
   "metadata": {},
   "outputs": [
    {
     "name": "stdout",
     "output_type": "stream",
     "text": [
      "MSE for train data: 1.9026681739099573e-30\n",
      "MSE for test data: 1.9061303879977722e-30\n",
      "RMSE for train data: 1.3793723840609385e-15\n",
      "RMSE for test data: 1.3806268098214564e-15\n"
     ]
    }
   ],
   "source": [
    "X_train, X_test, y_train, y_test = train_test_split(X, y, random_state = 45)\n",
    "\n",
    "lr = LinearRegression()\n",
    "lr.fit(X_train, y_train)\n",
    "\n",
    "y_pred = lr.predict(X_test)\n",
    "print('MSE for train data:', metrics.mean_squared_error(y_train, lr.predict(X_train)))\n",
    "print('MSE for test data:', metrics.mean_squared_error(y_test, y_pred))\n",
    "print('RMSE for train data:', np.sqrt(metrics.mean_squared_error(y_train, lr.predict(X_train))))\n",
    "print('RMSE for test data:', np.sqrt(metrics.mean_squared_error(y_test, y_pred)))"
   ]
  }
 ],
 "metadata": {
  "kernelspec": {
   "display_name": "Python 3",
   "language": "python",
   "name": "python3"
  },
  "language_info": {
   "codemirror_mode": {
    "name": "ipython",
    "version": 3
   },
   "file_extension": ".py",
   "mimetype": "text/x-python",
   "name": "python",
   "nbconvert_exporter": "python",
   "pygments_lexer": "ipython3",
   "version": "3.8.5"
  }
 },
 "nbformat": 4,
 "nbformat_minor": 4
}
