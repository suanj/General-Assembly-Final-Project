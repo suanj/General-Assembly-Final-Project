{
 "cells": [
  {
   "cell_type": "markdown",
   "metadata": {},
   "source": [
    "# Music Playlist / Mix set Youtube Channel Analysis and ML \n",
    "## Predict \"likes\" or \"subscribers\""
   ]
  },
  {
   "cell_type": "markdown",
   "metadata": {},
   "source": [
    "### More EDA "
   ]
  },
  {
   "cell_type": "markdown",
   "metadata": {},
   "source": [
    "Import data "
   ]
  },
  {
   "cell_type": "code",
   "execution_count": 2,
   "metadata": {},
   "outputs": [],
   "source": [
    "import pandas as pd\n",
    "import matplotlib.pyplot as plt\n",
    "import seaborn as sns\n",
    "import numpy as np\n",
    "%matplotlib inline\n",
    "\n",
    "plt.style.use('fivethirtyeight')\n",
    "plt.rcParams['font.family']= \"AppleGothic\""
   ]
  },
  {
   "cell_type": "code",
   "execution_count": 3,
   "metadata": {},
   "outputs": [
    {
     "data": {
      "text/html": [
       "<div>\n",
       "<style scoped>\n",
       "    .dataframe tbody tr th:only-of-type {\n",
       "        vertical-align: middle;\n",
       "    }\n",
       "\n",
       "    .dataframe tbody tr th {\n",
       "        vertical-align: top;\n",
       "    }\n",
       "\n",
       "    .dataframe thead th {\n",
       "        text-align: right;\n",
       "    }\n",
       "</style>\n",
       "<table border=\"1\" class=\"dataframe\">\n",
       "  <thead>\n",
       "    <tr style=\"text-align: right;\">\n",
       "      <th></th>\n",
       "      <th>publish_time</th>\n",
       "      <th>title</th>\n",
       "      <th>channel_name</th>\n",
       "      <th>tags_count</th>\n",
       "      <th>views_count</th>\n",
       "      <th>likes_count</th>\n",
       "      <th>dislikes_count</th>\n",
       "      <th>comments_count</th>\n",
       "      <th>duration_sec</th>\n",
       "      <th>published_date</th>\n",
       "      <th>published_time_UTC</th>\n",
       "      <th>subscribers</th>\n",
       "    </tr>\n",
       "  </thead>\n",
       "  <tbody>\n",
       "    <tr>\n",
       "      <th>0</th>\n",
       "      <td>2020-09-05T04:48:33Z</td>\n",
       "      <td>[playlist] 도입부부터 미쳐버린 팝송모음</td>\n",
       "      <td>#yeLocDirAe 옐럭</td>\n",
       "      <td>5</td>\n",
       "      <td>1613898</td>\n",
       "      <td>47877</td>\n",
       "      <td>264</td>\n",
       "      <td>1103.0</td>\n",
       "      <td>2982</td>\n",
       "      <td>2020-09-05</td>\n",
       "      <td>04:48:33</td>\n",
       "      <td>83700.0</td>\n",
       "    </tr>\n",
       "    <tr>\n",
       "      <th>1</th>\n",
       "      <td>2020-09-27T02:00:03Z</td>\n",
       "      <td>[playlist] 너무 과하지 않는 일렉에 그렇지 못한 텐션 EDM모음</td>\n",
       "      <td>#yeLocDirAe 옐럭</td>\n",
       "      <td>6</td>\n",
       "      <td>875450</td>\n",
       "      <td>21202</td>\n",
       "      <td>125</td>\n",
       "      <td>894.0</td>\n",
       "      <td>3631</td>\n",
       "      <td>2020-09-27</td>\n",
       "      <td>02:00:03</td>\n",
       "      <td>83700.0</td>\n",
       "    </tr>\n",
       "  </tbody>\n",
       "</table>\n",
       "</div>"
      ],
      "text/plain": [
       "           publish_time                                     title  \\\n",
       "0  2020-09-05T04:48:33Z                [playlist] 도입부부터 미쳐버린 팝송모음   \n",
       "1  2020-09-27T02:00:03Z  [playlist] 너무 과하지 않는 일렉에 그렇지 못한 텐션 EDM모음   \n",
       "\n",
       "     channel_name  tags_count  views_count  likes_count  dislikes_count  \\\n",
       "0  #yeLocDirAe 옐럭           5      1613898        47877             264   \n",
       "1  #yeLocDirAe 옐럭           6       875450        21202             125   \n",
       "\n",
       "   comments_count  duration_sec published_date published_time_UTC  subscribers  \n",
       "0          1103.0          2982     2020-09-05           04:48:33      83700.0  \n",
       "1           894.0          3631     2020-09-27           02:00:03      83700.0  "
      ]
     },
     "execution_count": 3,
     "metadata": {},
     "output_type": "execute_result"
    }
   ],
   "source": [
    "youtube = pd.read_csv('./youtube_final_with_sub&date', index_col = 0)\n",
    "youtube.head(2)"
   ]
  },
  {
   "cell_type": "markdown",
   "metadata": {},
   "source": [
    "Split published_date to year and month"
   ]
  },
  {
   "cell_type": "code",
   "execution_count": 4,
   "metadata": {},
   "outputs": [
    {
     "data": {
      "text/html": [
       "<div>\n",
       "<style scoped>\n",
       "    .dataframe tbody tr th:only-of-type {\n",
       "        vertical-align: middle;\n",
       "    }\n",
       "\n",
       "    .dataframe tbody tr th {\n",
       "        vertical-align: top;\n",
       "    }\n",
       "\n",
       "    .dataframe thead th {\n",
       "        text-align: right;\n",
       "    }\n",
       "</style>\n",
       "<table border=\"1\" class=\"dataframe\">\n",
       "  <thead>\n",
       "    <tr style=\"text-align: right;\">\n",
       "      <th></th>\n",
       "      <th>publish_time</th>\n",
       "      <th>title</th>\n",
       "      <th>channel_name</th>\n",
       "      <th>tags_count</th>\n",
       "      <th>views_count</th>\n",
       "      <th>likes_count</th>\n",
       "      <th>dislikes_count</th>\n",
       "      <th>comments_count</th>\n",
       "      <th>duration_sec</th>\n",
       "      <th>published_date</th>\n",
       "      <th>published_time_UTC</th>\n",
       "      <th>subscribers</th>\n",
       "      <th>year</th>\n",
       "      <th>month</th>\n",
       "    </tr>\n",
       "  </thead>\n",
       "  <tbody>\n",
       "    <tr>\n",
       "      <th>0</th>\n",
       "      <td>2020-09-05T04:48:33Z</td>\n",
       "      <td>[playlist] 도입부부터 미쳐버린 팝송모음</td>\n",
       "      <td>#yeLocDirAe 옐럭</td>\n",
       "      <td>5</td>\n",
       "      <td>1613898</td>\n",
       "      <td>47877</td>\n",
       "      <td>264</td>\n",
       "      <td>1103.0</td>\n",
       "      <td>2982</td>\n",
       "      <td>2020-09-05</td>\n",
       "      <td>04:48:33</td>\n",
       "      <td>83700.0</td>\n",
       "      <td>2020</td>\n",
       "      <td>9</td>\n",
       "    </tr>\n",
       "    <tr>\n",
       "      <th>1</th>\n",
       "      <td>2020-09-27T02:00:03Z</td>\n",
       "      <td>[playlist] 너무 과하지 않는 일렉에 그렇지 못한 텐션 EDM모음</td>\n",
       "      <td>#yeLocDirAe 옐럭</td>\n",
       "      <td>6</td>\n",
       "      <td>875450</td>\n",
       "      <td>21202</td>\n",
       "      <td>125</td>\n",
       "      <td>894.0</td>\n",
       "      <td>3631</td>\n",
       "      <td>2020-09-27</td>\n",
       "      <td>02:00:03</td>\n",
       "      <td>83700.0</td>\n",
       "      <td>2020</td>\n",
       "      <td>9</td>\n",
       "    </tr>\n",
       "  </tbody>\n",
       "</table>\n",
       "</div>"
      ],
      "text/plain": [
       "           publish_time                                     title  \\\n",
       "0  2020-09-05T04:48:33Z                [playlist] 도입부부터 미쳐버린 팝송모음   \n",
       "1  2020-09-27T02:00:03Z  [playlist] 너무 과하지 않는 일렉에 그렇지 못한 텐션 EDM모음   \n",
       "\n",
       "     channel_name  tags_count  views_count  likes_count  dislikes_count  \\\n",
       "0  #yeLocDirAe 옐럭           5      1613898        47877             264   \n",
       "1  #yeLocDirAe 옐럭           6       875450        21202             125   \n",
       "\n",
       "   comments_count  duration_sec published_date published_time_UTC  \\\n",
       "0          1103.0          2982     2020-09-05           04:48:33   \n",
       "1           894.0          3631     2020-09-27           02:00:03   \n",
       "\n",
       "   subscribers  year  month  \n",
       "0      83700.0  2020      9  \n",
       "1      83700.0  2020      9  "
      ]
     },
     "execution_count": 4,
     "metadata": {},
     "output_type": "execute_result"
    }
   ],
   "source": [
    "# split published_time to year and month and create new columns\n",
    "youtube['year'] = pd.to_datetime(youtube['published_date']).dt.year\n",
    "youtube['month'] = pd.to_datetime(youtube['published_date']).dt.month\n",
    "youtube.head(2)"
   ]
  },
  {
   "cell_type": "markdown",
   "metadata": {},
   "source": [
    "#### Mean values of views by month"
   ]
  },
  {
   "cell_type": "markdown",
   "metadata": {},
   "source": [
    "According to the bar graph below, video contests were released on May has the most view."
   ]
  },
  {
   "cell_type": "code",
   "execution_count": 5,
   "metadata": {},
   "outputs": [
    {
     "data": {
      "image/png": "[encoded data removed]",
      "text/plain": [
       "<Figure size 1440x360 with 1 Axes>"
      ]
     },
     "metadata": {},
     "output_type": "display_data"
    }
   ],
   "source": [
    "# group by month and sort mean values of views_count\n",
    "df = youtube[['month','views_count']]\n",
    "mean_by_month = df.groupby('month')['views_count'].mean().sort_values()\n",
    "mean_by_month.plot(figsize=(20,5), kind='bar');"
   ]
  },
  {
   "cell_type": "markdown",
   "metadata": {},
   "source": [
    "#### Mean values of likes by month"
   ]
  },
  {
   "cell_type": "markdown",
   "metadata": {},
   "source": [
    "According to the bar graph below, video contents were released on August has the most likes."
   ]
  },
  {
   "cell_type": "code",
   "execution_count": 6,
   "metadata": {},
   "outputs": [
    {
     "data": {
      "image/png": "[encoded data removed]",
      "text/plain": [
       "<Figure size 1440x360 with 1 Axes>"
      ]
     },
     "metadata": {},
     "output_type": "display_data"
    }
   ],
   "source": [
    "# group by month and sort mean values of likes_count\n",
    "df = youtube[['month','likes_count']]\n",
    "mean_by_month = df.groupby('month')['likes_count'].mean().sort_values()\n",
    "mean_by_month.plot(figsize=(20,5), kind='bar');"
   ]
  },
  {
   "cell_type": "markdown",
   "metadata": {},
   "source": [
    "#### Mean values of dislikes by month"
   ]
  },
  {
   "cell_type": "markdown",
   "metadata": {},
   "source": [
    "According to the bar graph below, video contents were released on April has the most dislikes"
   ]
  },
  {
   "cell_type": "code",
   "execution_count": 7,
   "metadata": {},
   "outputs": [
    {
     "data": {
      "image/png": "[encoded data removed]",
      "text/plain": [
       "<Figure size 1440x360 with 1 Axes>"
      ]
     },
     "metadata": {},
     "output_type": "display_data"
    }
   ],
   "source": [
    "# group by month and sort mean values of dislikes_count\n",
    "df = youtube[['month','dislikes_count']]\n",
    "mean_by_month = df.groupby('month')['dislikes_count'].mean().sort_values()\n",
    "mean_by_month.plot(figsize=(20,5), kind='bar');"
   ]
  },
  {
   "cell_type": "markdown",
   "metadata": {},
   "source": [
    "## Building a model"
   ]
  },
  {
   "cell_type": "markdown",
   "metadata": {},
   "source": [
    "To select features for a model, I compared correlation values."
   ]
  },
  {
   "cell_type": "markdown",
   "metadata": {},
   "source": [
    "I decided to build two different models.\n",
    "\n",
    "One with \"likes_count\" as a target and other with \"subscribers\" as a target.\n",
    "\n",
    "Youtube counts \"views\" regardless of how long a viewer watches a video.\n",
    "\n",
    "\"Likes_count\" can be a better indicator to see viewer's dedication on videos.\n",
    "\n",
    "\"Subscribers\" also can be a good indicator to see how viewers are willing to dedicate on channels."
   ]
  },
  {
   "cell_type": "code",
   "execution_count": 9,
   "metadata": {
    "scrolled": false
   },
   "outputs": [
    {
     "data": {
      "image/png": "[encoded data removed]",
      "text/plain": [
       "<Figure size 432x288 with 2 Axes>"
      ]
     },
     "metadata": {},
     "output_type": "display_data"
    }
   ],
   "source": [
    "# creating a heatmap\n",
    "youtube_corr = youtube.corr();\n",
    "sns.heatmap(youtube_corr);"
   ]
  },
  {
   "cell_type": "markdown",
   "metadata": {},
   "source": [
    "### Part 1: \"Likes_count\" as a target"
   ]
  },
  {
   "cell_type": "code",
   "execution_count": 8,
   "metadata": {
    "scrolled": true
   },
   "outputs": [
    {
     "data": {
      "text/html": [
       "<div>\n",
       "<style scoped>\n",
       "    .dataframe tbody tr th:only-of-type {\n",
       "        vertical-align: middle;\n",
       "    }\n",
       "\n",
       "    .dataframe tbody tr th {\n",
       "        vertical-align: top;\n",
       "    }\n",
       "\n",
       "    .dataframe thead th {\n",
       "        text-align: right;\n",
       "    }\n",
       "</style>\n",
       "<table border=\"1\" class=\"dataframe\">\n",
       "  <thead>\n",
       "    <tr style=\"text-align: right;\">\n",
       "      <th></th>\n",
       "      <th>likes_count</th>\n",
       "    </tr>\n",
       "  </thead>\n",
       "  <tbody>\n",
       "    <tr>\n",
       "      <th>tags_count</th>\n",
       "      <td>0.120409</td>\n",
       "    </tr>\n",
       "    <tr>\n",
       "      <th>views_count</th>\n",
       "      <td>0.819669</td>\n",
       "    </tr>\n",
       "    <tr>\n",
       "      <th>likes_count</th>\n",
       "      <td>1.000000</td>\n",
       "    </tr>\n",
       "    <tr>\n",
       "      <th>dislikes_count</th>\n",
       "      <td>0.795033</td>\n",
       "    </tr>\n",
       "    <tr>\n",
       "      <th>comments_count</th>\n",
       "      <td>0.837244</td>\n",
       "    </tr>\n",
       "    <tr>\n",
       "      <th>duration_sec</th>\n",
       "      <td>0.004304</td>\n",
       "    </tr>\n",
       "    <tr>\n",
       "      <th>subscribers</th>\n",
       "      <td>-0.025150</td>\n",
       "    </tr>\n",
       "    <tr>\n",
       "      <th>year</th>\n",
       "      <td>0.025971</td>\n",
       "    </tr>\n",
       "    <tr>\n",
       "      <th>month</th>\n",
       "      <td>0.022785</td>\n",
       "    </tr>\n",
       "  </tbody>\n",
       "</table>\n",
       "</div>"
      ],
      "text/plain": [
       "                likes_count\n",
       "tags_count         0.120409\n",
       "views_count        0.819669\n",
       "likes_count        1.000000\n",
       "dislikes_count     0.795033\n",
       "comments_count     0.837244\n",
       "duration_sec       0.004304\n",
       "subscribers       -0.025150\n",
       "year               0.025971\n",
       "month              0.022785"
      ]
     },
     "execution_count": 8,
     "metadata": {},
     "output_type": "execute_result"
    }
   ],
   "source": [
    "#correlation chart\n",
    "youtube.corr()[['likes_count']]"
   ]
  },
  {
   "cell_type": "markdown",
   "metadata": {},
   "source": [
    "Based on the chart above, \"views_count\", \"dislikes_count\", and \"comments_count\" have relatively higher correlation value.\n",
    "\n",
    "Before building the model, I wanted to see if those features have interactions."
   ]
  },
  {
   "cell_type": "code",
   "execution_count": 9,
   "metadata": {},
   "outputs": [
    {
     "name": "stdout",
     "output_type": "stream",
     "text": [
      "                views_count  dislikes_count  comments_count\n",
      "views_count        1.000000        0.940388        0.660775\n",
      "dislikes_count     0.940388        1.000000        0.674257\n",
      "comments_count     0.660775        0.674257        1.000000\n",
      "AxesSubplot(0.08,0.07;0.696x0.81)\n"
     ]
    },
    {
     "data": {
      "image/png": "[encoded data removed]",
      "text/plain": [
       "<Figure size 432x288 with 2 Axes>"
      ]
     },
     "metadata": {},
     "output_type": "display_data"
    }
   ],
   "source": [
    "#creating a heatmap\n",
    "cmap = sns.diverging_palette(220, 10, as_cmap=True)\n",
    "correlations = youtube[['views_count', 'dislikes_count','comments_count']].corr()\n",
    "print(correlations)\n",
    "print(sns.heatmap(correlations, cmap=cmap))"
   ]
  },
  {
   "cell_type": "markdown",
   "metadata": {},
   "source": [
    "=> \"comments_count\" has lower interactions."
   ]
  },
  {
   "cell_type": "markdown",
   "metadata": {},
   "source": [
    "#### Model 1: Predict likes_count using views_count & comments_count "
   ]
  },
  {
   "cell_type": "markdown",
   "metadata": {},
   "source": [
    "Linear regression"
   ]
  },
  {
   "cell_type": "code",
   "execution_count": 10,
   "metadata": {},
   "outputs": [
    {
     "name": "stdout",
     "output_type": "stream",
     "text": [
      "Intercept is: -1341.5058458380145\n",
      "Coefficient is: [1.15601383e-02 1.50374501e+01]\n",
      "Score is 0.827\n"
     ]
    }
   ],
   "source": [
    "from sklearn.linear_model import LinearRegression\n",
    "feature_cols = ['views_count','comments_count']\n",
    "X = youtube[feature_cols]\n",
    "y = youtube.likes_count\n",
    "\n",
    "lr = LinearRegression()\n",
    "lr.fit(X,y)\n",
    "\n",
    "print(f\"Intercept is: {lr.intercept_}\")\n",
    "print(f\"Coefficient is: {lr.coef_}\")\n",
    "print(f\"Score is {round(lr.score(X,y), 4)}\")"
   ]
  },
  {
   "cell_type": "code",
   "execution_count": 11,
   "metadata": {},
   "outputs": [
    {
     "name": "stdout",
     "output_type": "stream",
     "text": [
      "MSE: 85312549.12982163\n",
      "RMSE: 9236.479260509474\n"
     ]
    }
   ],
   "source": [
    "from sklearn import metrics\n",
    "y_pred = lr.predict(X)\n",
    "print('MSE:', metrics.mean_squared_error(y, y_pred))\n",
    "print('RMSE:', np.sqrt(metrics.mean_squared_error(y, y_pred)))"
   ]
  },
  {
   "cell_type": "markdown",
   "metadata": {},
   "source": [
    "Train and test split (70/30)"
   ]
  },
  {
   "cell_type": "code",
   "execution_count": 12,
   "metadata": {},
   "outputs": [
    {
     "name": "stdout",
     "output_type": "stream",
     "text": [
      "MSE for train data: 68467367.9590491\n",
      "MSE for test data: 148081851.8659556\n",
      "RMSE for train data: 8274.501070097767\n",
      "RMSE for test data: 12168.88868656278\n"
     ]
    }
   ],
   "source": [
    "from sklearn.model_selection import train_test_split\n",
    "\n",
    "X_train, X_test, y_train, y_test = train_test_split(X, y, random_state = 45)\n",
    "\n",
    "lr = LinearRegression()\n",
    "lr.fit(X_train, y_train)\n",
    "\n",
    "y_pred = lr.predict(X_test)\n",
    "print('MSE for train data:', metrics.mean_squared_error(y_train, lr.predict(X_train)))\n",
    "print('MSE for test data:', metrics.mean_squared_error(y_test, y_pred))\n",
    "print('RMSE for train data:', np.sqrt(metrics.mean_squared_error(y_train, lr.predict(X_train))))\n",
    "print('RMSE for test data:', np.sqrt(metrics.mean_squared_error(y_test, y_pred)))"
   ]
  },
  {
   "cell_type": "markdown",
   "metadata": {},
   "source": [
    "#### Model 2: Predicting likes_count using dislikes_count, comments_count "
   ]
  },
  {
   "cell_type": "markdown",
   "metadata": {},
   "source": [
    "Linear regression"
   ]
  },
  {
   "cell_type": "code",
   "execution_count": 13,
   "metadata": {},
   "outputs": [
    {
     "name": "stdout",
     "output_type": "stream",
     "text": [
      "Intercept is: -1248.5551269618945\n",
      "Coefficient is: [52.65194    15.82586657]\n",
      "Score is 0.7984\n"
     ]
    }
   ],
   "source": [
    "feature_cols = ['dislikes_count','comments_count']\n",
    "X = youtube[feature_cols]\n",
    "y = youtube.likes_count\n",
    "\n",
    "lr = LinearRegression()\n",
    "lr.fit(X,y)\n",
    "\n",
    "print(f\"Intercept is: {lr.intercept_}\")\n",
    "print(f\"Coefficient is: {lr.coef_}\")\n",
    "print(f\"Score is {round(lr.score(X,y), 4)}\")"
   ]
  },
  {
   "cell_type": "code",
   "execution_count": 14,
   "metadata": {},
   "outputs": [
    {
     "name": "stdout",
     "output_type": "stream",
     "text": [
      "MSE: 99402821.86731373\n",
      "RMSE: 9970.096382047353\n"
     ]
    }
   ],
   "source": [
    "y_pred = lr.predict(X)\n",
    "print('MSE:', metrics.mean_squared_error(y, y_pred))\n",
    "print('RMSE:', np.sqrt(metrics.mean_squared_error(y, y_pred)))"
   ]
  },
  {
   "cell_type": "markdown",
   "metadata": {},
   "source": [
    "Train and test split (70,30)"
   ]
  },
  {
   "cell_type": "code",
   "execution_count": 15,
   "metadata": {},
   "outputs": [
    {
     "name": "stdout",
     "output_type": "stream",
     "text": [
      "MSE for train data: 78156739.24856667\n",
      "MSE for test data: 174604481.76942196\n",
      "RMSE for train data: 8840.630025544937\n",
      "RMSE for test data: 13213.798915127396\n"
     ]
    }
   ],
   "source": [
    "X_train, X_test, y_train, y_test = train_test_split(X, y, random_state = 45)\n",
    "\n",
    "lr = LinearRegression()\n",
    "lr.fit(X_train, y_train)\n",
    "\n",
    "y_pred = lr.predict(X_test)\n",
    "print('MSE for train data:', metrics.mean_squared_error(y_train, lr.predict(X_train)))\n",
    "print('MSE for test data:', metrics.mean_squared_error(y_test, y_pred))\n",
    "print('RMSE for train data:', np.sqrt(metrics.mean_squared_error(y_train, lr.predict(X_train))))\n",
    "print('RMSE for test data:', np.sqrt(metrics.mean_squared_error(y_test, y_pred)))"
   ]
  },
  {
   "cell_type": "markdown",
   "metadata": {},
   "source": [
    "### Part 2: \"subscribers\" as a target"
   ]
  },
  {
   "cell_type": "code",
   "execution_count": 16,
   "metadata": {},
   "outputs": [
    {
     "data": {
      "text/html": [
       "<div>\n",
       "<style scoped>\n",
       "    .dataframe tbody tr th:only-of-type {\n",
       "        vertical-align: middle;\n",
       "    }\n",
       "\n",
       "    .dataframe tbody tr th {\n",
       "        vertical-align: top;\n",
       "    }\n",
       "\n",
       "    .dataframe thead th {\n",
       "        text-align: right;\n",
       "    }\n",
       "</style>\n",
       "<table border=\"1\" class=\"dataframe\">\n",
       "  <thead>\n",
       "    <tr style=\"text-align: right;\">\n",
       "      <th></th>\n",
       "      <th>subscribers</th>\n",
       "    </tr>\n",
       "  </thead>\n",
       "  <tbody>\n",
       "    <tr>\n",
       "      <th>tags_count</th>\n",
       "      <td>0.134772</td>\n",
       "    </tr>\n",
       "    <tr>\n",
       "      <th>views_count</th>\n",
       "      <td>0.091101</td>\n",
       "    </tr>\n",
       "    <tr>\n",
       "      <th>likes_count</th>\n",
       "      <td>-0.025150</td>\n",
       "    </tr>\n",
       "    <tr>\n",
       "      <th>dislikes_count</th>\n",
       "      <td>0.091479</td>\n",
       "    </tr>\n",
       "    <tr>\n",
       "      <th>comments_count</th>\n",
       "      <td>0.007094</td>\n",
       "    </tr>\n",
       "    <tr>\n",
       "      <th>duration_sec</th>\n",
       "      <td>0.414123</td>\n",
       "    </tr>\n",
       "    <tr>\n",
       "      <th>subscribers</th>\n",
       "      <td>1.000000</td>\n",
       "    </tr>\n",
       "    <tr>\n",
       "      <th>year</th>\n",
       "      <td>-0.034469</td>\n",
       "    </tr>\n",
       "    <tr>\n",
       "      <th>month</th>\n",
       "      <td>0.037226</td>\n",
       "    </tr>\n",
       "  </tbody>\n",
       "</table>\n",
       "</div>"
      ],
      "text/plain": [
       "                subscribers\n",
       "tags_count         0.134772\n",
       "views_count        0.091101\n",
       "likes_count       -0.025150\n",
       "dislikes_count     0.091479\n",
       "comments_count     0.007094\n",
       "duration_sec       0.414123\n",
       "subscribers        1.000000\n",
       "year              -0.034469\n",
       "month              0.037226"
      ]
     },
     "execution_count": 16,
     "metadata": {},
     "output_type": "execute_result"
    }
   ],
   "source": [
    "# correlation chart\n",
    "youtube.corr()[['subscribers']]"
   ]
  },
  {
   "cell_type": "markdown",
   "metadata": {},
   "source": [
    "#### Model 3: Predicting subscribers using duration_sec "
   ]
  },
  {
   "cell_type": "code",
   "execution_count": 17,
   "metadata": {},
   "outputs": [
    {
     "name": "stdout",
     "output_type": "stream",
     "text": [
      "Intercept is: 119844.96486845105\n",
      "Coefficient is: [34.85727014]\n",
      "Score is 0.1715\n"
     ]
    }
   ],
   "source": [
    "from sklearn.linear_model import LinearRegression\n",
    "feature_cols = ['duration_sec']\n",
    "X = youtube[feature_cols]\n",
    "y = youtube.subscribers\n",
    "\n",
    "lr = LinearRegression()\n",
    "lr.fit(X,y)\n",
    "\n",
    "print(f\"Intercept is: {lr.intercept_}\")\n",
    "print(f\"Coefficient is: {lr.coef_}\")\n",
    "print(f\"Score is {round(lr.score(X,y), 4)}\")"
   ]
  },
  {
   "cell_type": "code",
   "execution_count": 18,
   "metadata": {},
   "outputs": [
    {
     "name": "stdout",
     "output_type": "stream",
     "text": [
      "MSE: 25151436866.273148\n",
      "RMSE: 158592.0454066759\n"
     ]
    }
   ],
   "source": [
    "from sklearn import metrics\n",
    "y_pred = lr.predict(X)\n",
    "print('MSE:', metrics.mean_squared_error(y, y_pred))\n",
    "print('RMSE:', np.sqrt(metrics.mean_squared_error(y, y_pred)))"
   ]
  },
  {
   "cell_type": "markdown",
   "metadata": {},
   "source": [
    "### Building models using proportion"
   ]
  },
  {
   "cell_type": "markdown",
   "metadata": {},
   "source": [
    "As you seen from EDA, views numbers are higher than other feature values. Also, most of feature values varies by videos or channels. To compare them, I decided to compute proportion of \"likes_count\", \"dislikes_count\", and \"subscribers\"\" to \"views_count\""
   ]
  },
  {
   "cell_type": "code",
   "execution_count": 19,
   "metadata": {
    "scrolled": true
   },
   "outputs": [
    {
     "data": {
      "text/html": [
       "<div>\n",
       "<style scoped>\n",
       "    .dataframe tbody tr th:only-of-type {\n",
       "        vertical-align: middle;\n",
       "    }\n",
       "\n",
       "    .dataframe tbody tr th {\n",
       "        vertical-align: top;\n",
       "    }\n",
       "\n",
       "    .dataframe thead th {\n",
       "        text-align: right;\n",
       "    }\n",
       "</style>\n",
       "<table border=\"1\" class=\"dataframe\">\n",
       "  <thead>\n",
       "    <tr style=\"text-align: right;\">\n",
       "      <th></th>\n",
       "      <th>views_count</th>\n",
       "      <th>likes_count</th>\n",
       "      <th>dislikes_count</th>\n",
       "      <th>comments_count</th>\n",
       "      <th>tags_count</th>\n",
       "      <th>subscribers</th>\n",
       "      <th>year</th>\n",
       "      <th>month</th>\n",
       "    </tr>\n",
       "  </thead>\n",
       "  <tbody>\n",
       "    <tr>\n",
       "      <th>0</th>\n",
       "      <td>1613898</td>\n",
       "      <td>47877</td>\n",
       "      <td>264</td>\n",
       "      <td>1103.0</td>\n",
       "      <td>5</td>\n",
       "      <td>83700.0</td>\n",
       "      <td>2020</td>\n",
       "      <td>9</td>\n",
       "    </tr>\n",
       "    <tr>\n",
       "      <th>1</th>\n",
       "      <td>875450</td>\n",
       "      <td>21202</td>\n",
       "      <td>125</td>\n",
       "      <td>894.0</td>\n",
       "      <td>6</td>\n",
       "      <td>83700.0</td>\n",
       "      <td>2020</td>\n",
       "      <td>9</td>\n",
       "    </tr>\n",
       "    <tr>\n",
       "      <th>2</th>\n",
       "      <td>701862</td>\n",
       "      <td>20922</td>\n",
       "      <td>151</td>\n",
       "      <td>536.0</td>\n",
       "      <td>6</td>\n",
       "      <td>83700.0</td>\n",
       "      <td>2020</td>\n",
       "      <td>6</td>\n",
       "    </tr>\n",
       "    <tr>\n",
       "      <th>3</th>\n",
       "      <td>593423</td>\n",
       "      <td>12428</td>\n",
       "      <td>80</td>\n",
       "      <td>415.0</td>\n",
       "      <td>5</td>\n",
       "      <td>83700.0</td>\n",
       "      <td>2020</td>\n",
       "      <td>10</td>\n",
       "    </tr>\n",
       "    <tr>\n",
       "      <th>4</th>\n",
       "      <td>560580</td>\n",
       "      <td>11422</td>\n",
       "      <td>118</td>\n",
       "      <td>416.0</td>\n",
       "      <td>5</td>\n",
       "      <td>83700.0</td>\n",
       "      <td>2020</td>\n",
       "      <td>9</td>\n",
       "    </tr>\n",
       "  </tbody>\n",
       "</table>\n",
       "</div>"
      ],
      "text/plain": [
       "   views_count  likes_count  dislikes_count  comments_count  tags_count  \\\n",
       "0      1613898        47877             264          1103.0           5   \n",
       "1       875450        21202             125           894.0           6   \n",
       "2       701862        20922             151           536.0           6   \n",
       "3       593423        12428              80           415.0           5   \n",
       "4       560580        11422             118           416.0           5   \n",
       "\n",
       "   subscribers  year  month  \n",
       "0      83700.0  2020      9  \n",
       "1      83700.0  2020      9  \n",
       "2      83700.0  2020      6  \n",
       "3      83700.0  2020     10  \n",
       "4      83700.0  2020      9  "
      ]
     },
     "execution_count": 19,
     "metadata": {},
     "output_type": "execute_result"
    }
   ],
   "source": [
    "# copy few columns into new variable (clean and reorganize the data)\n",
    "youtube_df = youtube[['views_count', 'likes_count', 'dislikes_count', \n",
    "                      'comments_count', 'tags_count', 'subscribers', 'year', 'month']].copy()\n",
    "youtube_df.head()"
   ]
  },
  {
   "cell_type": "code",
   "execution_count": 20,
   "metadata": {},
   "outputs": [],
   "source": [
    "# calculation of proportion \n",
    "# feature/views_count*100000 => per_10k_views\n",
    "youtube_df['likes_per_10k_views'] = round(youtube_df['likes_count']/youtube_df['views_count']*10000, 2)\n",
    "youtube_df['dislikes_per_10k_views'] = round(youtube_df['dislikes_count']/youtube_df['views_count']*10000, 2)\n",
    "youtube_df['subscribers_per_10k_views'] = round(youtube_df['subscribers']/youtube_df['views_count']*10000, 2)"
   ]
  },
  {
   "cell_type": "code",
   "execution_count": 21,
   "metadata": {},
   "outputs": [],
   "source": [
    "#clean and organize the data \n",
    "youtube_df = youtube_df[['likes_per_10k_views','dislikes_per_10k_views', 'comments_count', 'tags_count'\n",
    "                         ,'subscribers_per_10k_views', 'year', 'month']].copy()"
   ]
  },
  {
   "cell_type": "code",
   "execution_count": 22,
   "metadata": {},
   "outputs": [
    {
     "data": {
      "text/html": [
       "<div>\n",
       "<style scoped>\n",
       "    .dataframe tbody tr th:only-of-type {\n",
       "        vertical-align: middle;\n",
       "    }\n",
       "\n",
       "    .dataframe tbody tr th {\n",
       "        vertical-align: top;\n",
       "    }\n",
       "\n",
       "    .dataframe thead th {\n",
       "        text-align: right;\n",
       "    }\n",
       "</style>\n",
       "<table border=\"1\" class=\"dataframe\">\n",
       "  <thead>\n",
       "    <tr style=\"text-align: right;\">\n",
       "      <th></th>\n",
       "      <th>likes_per_10k_views</th>\n",
       "      <th>dislikes_per_10k_views</th>\n",
       "      <th>comments_count</th>\n",
       "      <th>tags_count</th>\n",
       "      <th>subscribers_per_10k_views</th>\n",
       "      <th>year</th>\n",
       "      <th>month</th>\n",
       "    </tr>\n",
       "  </thead>\n",
       "  <tbody>\n",
       "    <tr>\n",
       "      <th>0</th>\n",
       "      <td>296.65</td>\n",
       "      <td>1.64</td>\n",
       "      <td>1103.0</td>\n",
       "      <td>5</td>\n",
       "      <td>518.62</td>\n",
       "      <td>2020</td>\n",
       "      <td>9</td>\n",
       "    </tr>\n",
       "    <tr>\n",
       "      <th>1</th>\n",
       "      <td>242.18</td>\n",
       "      <td>1.43</td>\n",
       "      <td>894.0</td>\n",
       "      <td>6</td>\n",
       "      <td>956.08</td>\n",
       "      <td>2020</td>\n",
       "      <td>9</td>\n",
       "    </tr>\n",
       "    <tr>\n",
       "      <th>2</th>\n",
       "      <td>298.09</td>\n",
       "      <td>2.15</td>\n",
       "      <td>536.0</td>\n",
       "      <td>6</td>\n",
       "      <td>1192.54</td>\n",
       "      <td>2020</td>\n",
       "      <td>6</td>\n",
       "    </tr>\n",
       "    <tr>\n",
       "      <th>3</th>\n",
       "      <td>209.43</td>\n",
       "      <td>1.35</td>\n",
       "      <td>415.0</td>\n",
       "      <td>5</td>\n",
       "      <td>1410.46</td>\n",
       "      <td>2020</td>\n",
       "      <td>10</td>\n",
       "    </tr>\n",
       "    <tr>\n",
       "      <th>4</th>\n",
       "      <td>203.75</td>\n",
       "      <td>2.10</td>\n",
       "      <td>416.0</td>\n",
       "      <td>5</td>\n",
       "      <td>1493.10</td>\n",
       "      <td>2020</td>\n",
       "      <td>9</td>\n",
       "    </tr>\n",
       "  </tbody>\n",
       "</table>\n",
       "</div>"
      ],
      "text/plain": [
       "   likes_per_10k_views  dislikes_per_10k_views  comments_count  tags_count  \\\n",
       "0               296.65                    1.64          1103.0           5   \n",
       "1               242.18                    1.43           894.0           6   \n",
       "2               298.09                    2.15           536.0           6   \n",
       "3               209.43                    1.35           415.0           5   \n",
       "4               203.75                    2.10           416.0           5   \n",
       "\n",
       "   subscribers_per_10k_views  year  month  \n",
       "0                     518.62  2020      9  \n",
       "1                     956.08  2020      9  \n",
       "2                    1192.54  2020      6  \n",
       "3                    1410.46  2020     10  \n",
       "4                    1493.10  2020      9  "
      ]
     },
     "execution_count": 22,
     "metadata": {},
     "output_type": "execute_result"
    }
   ],
   "source": [
    "youtube_df.head()"
   ]
  },
  {
   "cell_type": "code",
   "execution_count": 23,
   "metadata": {},
   "outputs": [
    {
     "name": "stderr",
     "output_type": "stream",
     "text": [
      "/Users/suanjung/opt/anaconda3/lib/python3.8/site-packages/matplotlib/backends/backend_agg.py:238: RuntimeWarning: Glyph 8722 missing from current font.\n",
      "  font.set_text(s, 0.0, flags=flags)\n",
      "/Users/suanjung/opt/anaconda3/lib/python3.8/site-packages/matplotlib/backends/backend_agg.py:201: RuntimeWarning: Glyph 8722 missing from current font.\n",
      "  font.set_text(s, 0, flags=flags)\n"
     ]
    },
    {
     "data": {
      "image/png": "[encoded data removed]",
      "text/plain": [
       "<Figure size 432x288 with 2 Axes>"
      ]
     },
     "metadata": {},
     "output_type": "display_data"
    }
   ],
   "source": [
    "#creating a heatmap\n",
    "youtube_corr = youtube_df.corr();\n",
    "sns.heatmap(youtube_corr);"
   ]
  },
  {
   "cell_type": "markdown",
   "metadata": {},
   "source": [
    "### Part 1: \"Likes_per_10k_views\" as a target"
   ]
  },
  {
   "cell_type": "code",
   "execution_count": 24,
   "metadata": {},
   "outputs": [
    {
     "data": {
      "text/html": [
       "<div>\n",
       "<style scoped>\n",
       "    .dataframe tbody tr th:only-of-type {\n",
       "        vertical-align: middle;\n",
       "    }\n",
       "\n",
       "    .dataframe tbody tr th {\n",
       "        vertical-align: top;\n",
       "    }\n",
       "\n",
       "    .dataframe thead th {\n",
       "        text-align: right;\n",
       "    }\n",
       "</style>\n",
       "<table border=\"1\" class=\"dataframe\">\n",
       "  <thead>\n",
       "    <tr style=\"text-align: right;\">\n",
       "      <th></th>\n",
       "      <th>likes_per_10k_views</th>\n",
       "    </tr>\n",
       "  </thead>\n",
       "  <tbody>\n",
       "    <tr>\n",
       "      <th>likes_per_10k_views</th>\n",
       "      <td>1.000000</td>\n",
       "    </tr>\n",
       "    <tr>\n",
       "      <th>dislikes_per_10k_views</th>\n",
       "      <td>0.031052</td>\n",
       "    </tr>\n",
       "    <tr>\n",
       "      <th>comments_count</th>\n",
       "      <td>0.016866</td>\n",
       "    </tr>\n",
       "    <tr>\n",
       "      <th>tags_count</th>\n",
       "      <td>-0.071553</td>\n",
       "    </tr>\n",
       "    <tr>\n",
       "      <th>subscribers_per_10k_views</th>\n",
       "      <td>0.426635</td>\n",
       "    </tr>\n",
       "    <tr>\n",
       "      <th>year</th>\n",
       "      <td>0.359039</td>\n",
       "    </tr>\n",
       "    <tr>\n",
       "      <th>month</th>\n",
       "      <td>-0.140560</td>\n",
       "    </tr>\n",
       "  </tbody>\n",
       "</table>\n",
       "</div>"
      ],
      "text/plain": [
       "                           likes_per_10k_views\n",
       "likes_per_10k_views                   1.000000\n",
       "dislikes_per_10k_views                0.031052\n",
       "comments_count                        0.016866\n",
       "tags_count                           -0.071553\n",
       "subscribers_per_10k_views             0.426635\n",
       "year                                  0.359039\n",
       "month                                -0.140560"
      ]
     },
     "execution_count": 24,
     "metadata": {},
     "output_type": "execute_result"
    }
   ],
   "source": [
    "#correlation chart\n",
    "youtube_df.corr()[['likes_per_10k_views']]"
   ]
  },
  {
   "cell_type": "code",
   "execution_count": 25,
   "metadata": {},
   "outputs": [
    {
     "name": "stdout",
     "output_type": "stream",
     "text": [
      "                           subscribers_per_10k_views      year\n",
      "subscribers_per_10k_views                   1.000000  0.047262\n",
      "year                                        0.047262  1.000000\n",
      "AxesSubplot(0.08,0.07;0.696x0.81)\n"
     ]
    },
    {
     "data": {
      "image/png": "[encoded data removed]",
      "text/plain": [
       "<Figure size 432x288 with 2 Axes>"
      ]
     },
     "metadata": {},
     "output_type": "display_data"
    }
   ],
   "source": [
    "cmap = sns.diverging_palette(220, 10, as_cmap=True)\n",
    "correlations = youtube_df[['subscribers_per_10k_views','year']].corr()\n",
    "print(correlations)\n",
    "print(sns.heatmap(correlations, cmap=cmap))"
   ]
  },
  {
   "cell_type": "markdown",
   "metadata": {},
   "source": [
    "#### Model : Predicting likes per 10k views using comments_per_10k_views, subscribers_per_10k_views, year "
   ]
  },
  {
   "cell_type": "markdown",
   "metadata": {},
   "source": [
    "Linear regression"
   ]
  },
  {
   "cell_type": "code",
   "execution_count": 26,
   "metadata": {},
   "outputs": [
    {
     "name": "stdout",
     "output_type": "stream",
     "text": [
      "Intercept is: -142655.23516482924\n",
      "Coefficient is: [5.70669865e-04 7.07517666e+01]\n",
      "Score is 0.2971\n"
     ]
    }
   ],
   "source": [
    "from sklearn.linear_model import LinearRegression\n",
    "feature_cols = ['subscribers_per_10k_views', 'year']\n",
    "X = youtube_df[feature_cols]\n",
    "y = youtube_df.likes_per_10k_views\n",
    "\n",
    "lr = LinearRegression()\n",
    "lr.fit(X,y)\n",
    "\n",
    "print(f\"Intercept is: {lr.intercept_}\")\n",
    "print(f\"Coefficient is: {lr.coef_}\")\n",
    "print(f\"Score is {round(lr.score(X,y), 4)}\")"
   ]
  },
  {
   "cell_type": "code",
   "execution_count": 27,
   "metadata": {},
   "outputs": [
    {
     "name": "stdout",
     "output_type": "stream",
     "text": [
      "MSE: 34751.24526688066\n",
      "RMSE: 186.41685885906526\n"
     ]
    }
   ],
   "source": [
    "y_pred = lr.predict(X)\n",
    "print('MSE:', metrics.mean_squared_error(y, y_pred))\n",
    "print('RMSE:', np.sqrt(metrics.mean_squared_error(y, y_pred)))"
   ]
  },
  {
   "cell_type": "markdown",
   "metadata": {},
   "source": [
    "Train and Test Split"
   ]
  },
  {
   "cell_type": "code",
   "execution_count": 28,
   "metadata": {},
   "outputs": [
    {
     "name": "stdout",
     "output_type": "stream",
     "text": [
      "MSE for train data: 34204.2715227903\n",
      "MSE for test data: 36537.11773026439\n",
      "RMSE for train data: 184.94396860344028\n",
      "RMSE for test data: 191.14684860144672\n"
     ]
    }
   ],
   "source": [
    "X_train, X_test, y_train, y_test = train_test_split(X, y, random_state = 45)\n",
    "\n",
    "lr = LinearRegression()\n",
    "lr.fit(X_train, y_train)\n",
    "\n",
    "y_pred = lr.predict(X_test)\n",
    "print('MSE for train data:', metrics.mean_squared_error(y_train, lr.predict(X_train)))\n",
    "print('MSE for test data:', metrics.mean_squared_error(y_test, y_pred))\n",
    "print('RMSE for train data:', np.sqrt(metrics.mean_squared_error(y_train, lr.predict(X_train))))\n",
    "print('RMSE for test data:', np.sqrt(metrics.mean_squared_error(y_test, y_pred)))"
   ]
  },
  {
   "cell_type": "markdown",
   "metadata": {},
   "source": [
    "### Part 2: to explore more.."
   ]
  },
  {
   "cell_type": "markdown",
   "metadata": {},
   "source": [
    "I decided to compute proportion of \"likes_count\" and \"dislikes_count\" to \"subscribers\""
   ]
  },
  {
   "cell_type": "code",
   "execution_count": 11,
   "metadata": {},
   "outputs": [],
   "source": [
    "# clean and organize data\n",
    "youtube_df_1 = youtube[['views_count', 'likes_count', 'dislikes_count', 'comments_count', 'tags_count', 'subscribers', 'year', 'month']].copy()"
   ]
  },
  {
   "cell_type": "code",
   "execution_count": 12,
   "metadata": {},
   "outputs": [],
   "source": [
    "# calculation of proportion \n",
    "# feature/subscribers *100000 => per_10k_subscribers \n",
    "youtube_df_1['likes_per_10k_sub'] = round(youtube_df_1['likes_count']/youtube_df_1['subscribers']*10000, 2)\n",
    "youtube_df_1['dislikes_per_10k_sub'] = round(youtube_df_1['dislikes_count']/youtube_df_1['subscribers']*10000, 2)"
   ]
  },
  {
   "cell_type": "code",
   "execution_count": 13,
   "metadata": {
    "scrolled": true
   },
   "outputs": [
    {
     "data": {
      "text/html": [
       "<div>\n",
       "<style scoped>\n",
       "    .dataframe tbody tr th:only-of-type {\n",
       "        vertical-align: middle;\n",
       "    }\n",
       "\n",
       "    .dataframe tbody tr th {\n",
       "        vertical-align: top;\n",
       "    }\n",
       "\n",
       "    .dataframe thead th {\n",
       "        text-align: right;\n",
       "    }\n",
       "</style>\n",
       "<table border=\"1\" class=\"dataframe\">\n",
       "  <thead>\n",
       "    <tr style=\"text-align: right;\">\n",
       "      <th></th>\n",
       "      <th>views_count</th>\n",
       "      <th>likes_count</th>\n",
       "      <th>dislikes_count</th>\n",
       "      <th>comments_count</th>\n",
       "      <th>tags_count</th>\n",
       "      <th>subscribers</th>\n",
       "      <th>year</th>\n",
       "      <th>month</th>\n",
       "      <th>likes_per_10k_sub</th>\n",
       "      <th>dislikes_per_10k_sub</th>\n",
       "    </tr>\n",
       "  </thead>\n",
       "  <tbody>\n",
       "    <tr>\n",
       "      <th>0</th>\n",
       "      <td>1613898</td>\n",
       "      <td>47877</td>\n",
       "      <td>264</td>\n",
       "      <td>1103.0</td>\n",
       "      <td>5</td>\n",
       "      <td>83700.0</td>\n",
       "      <td>2020</td>\n",
       "      <td>9</td>\n",
       "      <td>5720.07</td>\n",
       "      <td>31.54</td>\n",
       "    </tr>\n",
       "    <tr>\n",
       "      <th>1</th>\n",
       "      <td>875450</td>\n",
       "      <td>21202</td>\n",
       "      <td>125</td>\n",
       "      <td>894.0</td>\n",
       "      <td>6</td>\n",
       "      <td>83700.0</td>\n",
       "      <td>2020</td>\n",
       "      <td>9</td>\n",
       "      <td>2533.09</td>\n",
       "      <td>14.93</td>\n",
       "    </tr>\n",
       "    <tr>\n",
       "      <th>2</th>\n",
       "      <td>701862</td>\n",
       "      <td>20922</td>\n",
       "      <td>151</td>\n",
       "      <td>536.0</td>\n",
       "      <td>6</td>\n",
       "      <td>83700.0</td>\n",
       "      <td>2020</td>\n",
       "      <td>6</td>\n",
       "      <td>2499.64</td>\n",
       "      <td>18.04</td>\n",
       "    </tr>\n",
       "    <tr>\n",
       "      <th>3</th>\n",
       "      <td>593423</td>\n",
       "      <td>12428</td>\n",
       "      <td>80</td>\n",
       "      <td>415.0</td>\n",
       "      <td>5</td>\n",
       "      <td>83700.0</td>\n",
       "      <td>2020</td>\n",
       "      <td>10</td>\n",
       "      <td>1484.83</td>\n",
       "      <td>9.56</td>\n",
       "    </tr>\n",
       "    <tr>\n",
       "      <th>4</th>\n",
       "      <td>560580</td>\n",
       "      <td>11422</td>\n",
       "      <td>118</td>\n",
       "      <td>416.0</td>\n",
       "      <td>5</td>\n",
       "      <td>83700.0</td>\n",
       "      <td>2020</td>\n",
       "      <td>9</td>\n",
       "      <td>1364.64</td>\n",
       "      <td>14.10</td>\n",
       "    </tr>\n",
       "  </tbody>\n",
       "</table>\n",
       "</div>"
      ],
      "text/plain": [
       "   views_count  likes_count  dislikes_count  comments_count  tags_count  \\\n",
       "0      1613898        47877             264          1103.0           5   \n",
       "1       875450        21202             125           894.0           6   \n",
       "2       701862        20922             151           536.0           6   \n",
       "3       593423        12428              80           415.0           5   \n",
       "4       560580        11422             118           416.0           5   \n",
       "\n",
       "   subscribers  year  month  likes_per_10k_sub  dislikes_per_10k_sub  \n",
       "0      83700.0  2020      9            5720.07                 31.54  \n",
       "1      83700.0  2020      9            2533.09                 14.93  \n",
       "2      83700.0  2020      6            2499.64                 18.04  \n",
       "3      83700.0  2020     10            1484.83                  9.56  \n",
       "4      83700.0  2020      9            1364.64                 14.10  "
      ]
     },
     "execution_count": 13,
     "metadata": {},
     "output_type": "execute_result"
    }
   ],
   "source": [
    "youtube_df_1.head()"
   ]
  },
  {
   "cell_type": "code",
   "execution_count": 14,
   "metadata": {},
   "outputs": [
    {
     "data": {
      "text/plain": [
       "views_count             345722.115764\n",
       "likes_count               7505.741379\n",
       "dislikes_count              69.310345\n",
       "comments_count             322.571429\n",
       "tags_count                  16.214286\n",
       "subscribers             223611.194581\n",
       "year                      2019.864532\n",
       "month                        6.274631\n",
       "likes_per_10k_sub          824.492574\n",
       "dislikes_per_10k_sub         6.678214\n",
       "dtype: float64"
      ]
     },
     "execution_count": 14,
     "metadata": {},
     "output_type": "execute_result"
    }
   ],
   "source": [
    "youtube_df_1.mean()"
   ]
  },
  {
   "cell_type": "code",
   "execution_count": 15,
   "metadata": {},
   "outputs": [
    {
     "name": "stderr",
     "output_type": "stream",
     "text": [
      "/Users/suanjung/opt/anaconda3/lib/python3.8/site-packages/matplotlib/backends/backend_agg.py:238: RuntimeWarning: Glyph 8722 missing from current font.\n",
      "  font.set_text(s, 0.0, flags=flags)\n",
      "/Users/suanjung/opt/anaconda3/lib/python3.8/site-packages/matplotlib/backends/backend_agg.py:201: RuntimeWarning: Glyph 8722 missing from current font.\n",
      "  font.set_text(s, 0, flags=flags)\n"
     ]
    },
    {
     "data": {
      "image/png": "[encoded data removed]",
      "text/plain": [
       "<Figure size 432x288 with 2 Axes>"
      ]
     },
     "metadata": {},
     "output_type": "display_data"
    }
   ],
   "source": [
    "youtube_corr = youtube_df_1.corr();\n",
    "sns.heatmap(youtube_corr);"
   ]
  },
  {
   "cell_type": "code",
   "execution_count": 34,
   "metadata": {},
   "outputs": [
    {
     "data": {
      "text/html": [
       "<div>\n",
       "<style scoped>\n",
       "    .dataframe tbody tr th:only-of-type {\n",
       "        vertical-align: middle;\n",
       "    }\n",
       "\n",
       "    .dataframe tbody tr th {\n",
       "        vertical-align: top;\n",
       "    }\n",
       "\n",
       "    .dataframe thead th {\n",
       "        text-align: right;\n",
       "    }\n",
       "</style>\n",
       "<table border=\"1\" class=\"dataframe\">\n",
       "  <thead>\n",
       "    <tr style=\"text-align: right;\">\n",
       "      <th></th>\n",
       "      <th>likes_per_10k_sub</th>\n",
       "    </tr>\n",
       "  </thead>\n",
       "  <tbody>\n",
       "    <tr>\n",
       "      <th>likes_per_10k_sub</th>\n",
       "      <td>1.000000</td>\n",
       "    </tr>\n",
       "    <tr>\n",
       "      <th>dislikes_per_10k_sub</th>\n",
       "      <td>0.850911</td>\n",
       "    </tr>\n",
       "    <tr>\n",
       "      <th>comments_count</th>\n",
       "      <td>0.385628</td>\n",
       "    </tr>\n",
       "    <tr>\n",
       "      <th>tags_count</th>\n",
       "      <td>0.062948</td>\n",
       "    </tr>\n",
       "    <tr>\n",
       "      <th>year</th>\n",
       "      <td>0.047124</td>\n",
       "    </tr>\n",
       "    <tr>\n",
       "      <th>month</th>\n",
       "      <td>0.061062</td>\n",
       "    </tr>\n",
       "  </tbody>\n",
       "</table>\n",
       "</div>"
      ],
      "text/plain": [
       "                      likes_per_10k_sub\n",
       "likes_per_10k_sub              1.000000\n",
       "dislikes_per_10k_sub           0.850911\n",
       "comments_count                 0.385628\n",
       "tags_count                     0.062948\n",
       "year                           0.047124\n",
       "month                          0.061062"
      ]
     },
     "execution_count": 34,
     "metadata": {},
     "output_type": "execute_result"
    }
   ],
   "source": [
    "youtube_df_1.corr()[['likes_per_10k_sub']]"
   ]
  },
  {
   "cell_type": "code",
   "execution_count": 35,
   "metadata": {},
   "outputs": [
    {
     "name": "stdout",
     "output_type": "stream",
     "text": [
      "                      dislikes_per_10k_sub  comments_count\n",
      "dislikes_per_10k_sub              1.000000        0.191064\n",
      "comments_count                    0.191064        1.000000\n",
      "AxesSubplot(0.08,0.07;0.696x0.81)\n"
     ]
    },
    {
     "data": {
      "image/png": "[encoded data removed]",
      "text/plain": [
       "<Figure size 432x288 with 2 Axes>"
      ]
     },
     "metadata": {},
     "output_type": "display_data"
    }
   ],
   "source": [
    "cmap = sns.diverging_palette(220, 10, as_cmap=True)\n",
    "correlations = youtube_df_1[['dislikes_per_10k_sub','comments_count']].corr()\n",
    "print(correlations)\n",
    "print(sns.heatmap(correlations, cmap=cmap))"
   ]
  },
  {
   "cell_type": "markdown",
   "metadata": {},
   "source": [
    "#### Model : Predicting likes_per_10k_sub using dislikes_per_10k_subscribers, comments_count "
   ]
  },
  {
   "cell_type": "markdown",
   "metadata": {},
   "source": [
    "Linear regression"
   ]
  },
  {
   "cell_type": "code",
   "execution_count": 87,
   "metadata": {
    "scrolled": true
   },
   "outputs": [
    {
     "name": "stdout",
     "output_type": "stream",
     "text": [
      "Intercept is: -4.454166961198553\n",
      "Coefficient is: [73.44872032  1.04919536]\n",
      "Score is 0.7757\n"
     ]
    }
   ],
   "source": [
    "feature_cols = ['dislikes_per_10k_sub', 'comments_count']\n",
    "X = youtube_df_1[feature_cols]\n",
    "y = youtube_df_1.likes_per_10k_sub\n",
    "\n",
    "lr = LinearRegression()\n",
    "lr.fit(X,y)\n",
    "\n",
    "print(f\"Intercept is: {lr.intercept_}\")\n",
    "print(f\"Coefficient is: {lr.coef_}\")\n",
    "print(f\"Score is {round(lr.score(X,y), 4)}\")"
   ]
  },
  {
   "cell_type": "code",
   "execution_count": 88,
   "metadata": {
    "scrolled": true
   },
   "outputs": [
    {
     "name": "stdout",
     "output_type": "stream",
     "text": [
      "MSE: 2766537.972181741\n",
      "RMSE: 1663.291307072138\n"
     ]
    }
   ],
   "source": [
    "y_pred = lr.predict(X)\n",
    "print('MSE:', metrics.mean_squared_error(y, y_pred))\n",
    "print('RMSE:', np.sqrt(metrics.mean_squared_error(y, y_pred)))"
   ]
  },
  {
   "cell_type": "markdown",
   "metadata": {},
   "source": [
    "##### * After exploring all different models, I concluded that this model is the most reliable model.\n",
    "So, I plotted graph to see how closely the model predict the number of the likes per subscribers by comparing the actual number of the likes per subscribers. "
   ]
  },
  {
   "cell_type": "code",
   "execution_count": 89,
   "metadata": {},
   "outputs": [],
   "source": [
    "y_hat = lr.predict(X)\n",
    "youtube_df_1['y_hat'] = y_hat"
   ]
  },
  {
   "cell_type": "code",
   "execution_count": 92,
   "metadata": {},
   "outputs": [
    {
     "data": {
      "text/plain": [
       "<matplotlib.legend.Legend at 0x7fc4ff38ad90>"
      ]
     },
     "execution_count": 92,
     "metadata": {},
     "output_type": "execute_result"
    },
    {
     "data": {
      "image/png": "[encoded data removed]",
      "text/plain": [
       "<Figure size 1152x648 with 1 Axes>"
      ]
     },
     "metadata": {},
     "output_type": "display_data"
    }
   ],
   "source": [
    "plt.scatter('likes_per_10k_sub', 'y_hat', data = youtube_df_1);\n",
    "plt.title(\"Comparsion between true number of likes  and predicted number of likes\", fontsize = 20)\n",
    "plt.ylabel(\"predicted likes per 10k subscribers\")\n",
    "plt.xlabel(\"likes per 10k subscribers\")\n",
    "plt.legend()"
   ]
  },
  {
   "cell_type": "markdown",
   "metadata": {},
   "source": [
    "Train and Test Split"
   ]
  },
  {
   "cell_type": "code",
   "execution_count": 38,
   "metadata": {},
   "outputs": [
    {
     "name": "stdout",
     "output_type": "stream",
     "text": [
      "MSE for train data: 1687508.102034726\n",
      "MSE for test data: 16223490.964569274\n",
      "RMSE for train data: 1299.0412241475349\n",
      "RMSE for test data: 4027.839490914363\n"
     ]
    }
   ],
   "source": [
    "X_train, X_test, y_train, y_test = train_test_split(X, y, random_state = 45)\n",
    "\n",
    "lr = LinearRegression()\n",
    "lr.fit(X_train, y_train)\n",
    "\n",
    "y_pred = lr.predict(X_test)\n",
    "print('MSE for train data:', metrics.mean_squared_error(y_train, lr.predict(X_train)))\n",
    "print('MSE for test data:', metrics.mean_squared_error(y_test, y_pred))\n",
    "print('RMSE for train data:', np.sqrt(metrics.mean_squared_error(y_train, lr.predict(X_train))))\n",
    "print('RMSE for test data:', np.sqrt(metrics.mean_squared_error(y_test, y_pred)))"
   ]
  },
  {
   "cell_type": "markdown",
   "metadata": {},
   "source": [
    "## Insights from published date and time"
   ]
  },
  {
   "cell_type": "code",
   "execution_count": 77,
   "metadata": {},
   "outputs": [],
   "source": [
    "# calculation of proportion \n",
    "# feature/views_count*100000 => per_10k_views\n",
    "youtube['likes_per_10k_views'] = round(youtube['likes_count']/youtube['views_count']*10000, 2)\n",
    "youtube['dislikes_per_10k_views'] = round(youtube['dislikes_count']/youtube['views_count']*10000, 2)\n",
    "youtube['subscribers_per_10k_views'] = round(youtube['subscribers']/youtube['views_count']*10000, 2)"
   ]
  },
  {
   "cell_type": "code",
   "execution_count": 78,
   "metadata": {
    "scrolled": true
   },
   "outputs": [
    {
     "data": {
      "text/html": [
       "<div>\n",
       "<style scoped>\n",
       "    .dataframe tbody tr th:only-of-type {\n",
       "        vertical-align: middle;\n",
       "    }\n",
       "\n",
       "    .dataframe tbody tr th {\n",
       "        vertical-align: top;\n",
       "    }\n",
       "\n",
       "    .dataframe thead th {\n",
       "        text-align: right;\n",
       "    }\n",
       "</style>\n",
       "<table border=\"1\" class=\"dataframe\">\n",
       "  <thead>\n",
       "    <tr style=\"text-align: right;\">\n",
       "      <th></th>\n",
       "      <th>published_date</th>\n",
       "      <th>likes_per_10k_views</th>\n",
       "    </tr>\n",
       "    <tr>\n",
       "      <th>published_date</th>\n",
       "      <th></th>\n",
       "      <th></th>\n",
       "    </tr>\n",
       "  </thead>\n",
       "  <tbody>\n",
       "    <tr>\n",
       "      <th>2020-09-05</th>\n",
       "      <td>2020-09-05</td>\n",
       "      <td>296.65</td>\n",
       "    </tr>\n",
       "    <tr>\n",
       "      <th>2020-09-27</th>\n",
       "      <td>2020-09-27</td>\n",
       "      <td>242.18</td>\n",
       "    </tr>\n",
       "    <tr>\n",
       "      <th>2020-06-24</th>\n",
       "      <td>2020-06-24</td>\n",
       "      <td>298.09</td>\n",
       "    </tr>\n",
       "    <tr>\n",
       "      <th>2020-10-02</th>\n",
       "      <td>2020-10-02</td>\n",
       "      <td>209.43</td>\n",
       "    </tr>\n",
       "    <tr>\n",
       "      <th>2020-09-23</th>\n",
       "      <td>2020-09-23</td>\n",
       "      <td>203.75</td>\n",
       "    </tr>\n",
       "    <tr>\n",
       "      <th>...</th>\n",
       "      <td>...</td>\n",
       "      <td>...</td>\n",
       "    </tr>\n",
       "    <tr>\n",
       "      <th>2020-12-17</th>\n",
       "      <td>2020-12-17</td>\n",
       "      <td>207.72</td>\n",
       "    </tr>\n",
       "    <tr>\n",
       "      <th>2020-06-05</th>\n",
       "      <td>2020-06-05</td>\n",
       "      <td>89.53</td>\n",
       "    </tr>\n",
       "    <tr>\n",
       "      <th>2021-01-30</th>\n",
       "      <td>2021-01-30</td>\n",
       "      <td>166.67</td>\n",
       "    </tr>\n",
       "    <tr>\n",
       "      <th>2020-12-28</th>\n",
       "      <td>2020-12-28</td>\n",
       "      <td>197.71</td>\n",
       "    </tr>\n",
       "    <tr>\n",
       "      <th>2020-05-24</th>\n",
       "      <td>2020-05-24</td>\n",
       "      <td>98.81</td>\n",
       "    </tr>\n",
       "  </tbody>\n",
       "</table>\n",
       "<p>812 rows × 2 columns</p>\n",
       "</div>"
      ],
      "text/plain": [
       "               published_date  likes_per_10k_views\n",
       "published_date                                    \n",
       "2020-09-05         2020-09-05               296.65\n",
       "2020-09-27         2020-09-27               242.18\n",
       "2020-06-24         2020-06-24               298.09\n",
       "2020-10-02         2020-10-02               209.43\n",
       "2020-09-23         2020-09-23               203.75\n",
       "...                       ...                  ...\n",
       "2020-12-17         2020-12-17               207.72\n",
       "2020-06-05         2020-06-05                89.53\n",
       "2021-01-30         2021-01-30               166.67\n",
       "2020-12-28         2020-12-28               197.71\n",
       "2020-05-24         2020-05-24                98.81\n",
       "\n",
       "[812 rows x 2 columns]"
      ]
     },
     "execution_count": 78,
     "metadata": {},
     "output_type": "execute_result"
    }
   ],
   "source": [
    "df = youtube[['published_date','likes_per_10k_views']]\n",
    "df.set_index(youtube.published_date, inplace=True)\n",
    "df"
   ]
  },
  {
   "cell_type": "code",
   "execution_count": 79,
   "metadata": {
    "scrolled": true
   },
   "outputs": [
    {
     "name": "stderr",
     "output_type": "stream",
     "text": [
      "/Users/suanjung/opt/anaconda3/lib/python3.8/site-packages/pandas/core/frame.py:4163: SettingWithCopyWarning: \n",
      "A value is trying to be set on a copy of a slice from a DataFrame\n",
      "\n",
      "See the caveats in the documentation: https://pandas.pydata.org/pandas-docs/stable/user_guide/indexing.html#returning-a-view-versus-a-copy\n",
      "  return super().drop(\n"
     ]
    }
   ],
   "source": [
    "df.drop('published_date', axis=1, inplace=True)"
   ]
  },
  {
   "cell_type": "code",
   "execution_count": 80,
   "metadata": {},
   "outputs": [
    {
     "data": {
      "text/html": [
       "<div>\n",
       "<style scoped>\n",
       "    .dataframe tbody tr th:only-of-type {\n",
       "        vertical-align: middle;\n",
       "    }\n",
       "\n",
       "    .dataframe tbody tr th {\n",
       "        vertical-align: top;\n",
       "    }\n",
       "\n",
       "    .dataframe thead th {\n",
       "        text-align: right;\n",
       "    }\n",
       "</style>\n",
       "<table border=\"1\" class=\"dataframe\">\n",
       "  <thead>\n",
       "    <tr style=\"text-align: right;\">\n",
       "      <th></th>\n",
       "      <th>likes_per_10k_views</th>\n",
       "    </tr>\n",
       "    <tr>\n",
       "      <th>published_date</th>\n",
       "      <th></th>\n",
       "    </tr>\n",
       "  </thead>\n",
       "  <tbody>\n",
       "    <tr>\n",
       "      <th>2020-09-05</th>\n",
       "      <td>296.65</td>\n",
       "    </tr>\n",
       "    <tr>\n",
       "      <th>2020-09-27</th>\n",
       "      <td>242.18</td>\n",
       "    </tr>\n",
       "    <tr>\n",
       "      <th>2020-06-24</th>\n",
       "      <td>298.09</td>\n",
       "    </tr>\n",
       "    <tr>\n",
       "      <th>2020-10-02</th>\n",
       "      <td>209.43</td>\n",
       "    </tr>\n",
       "    <tr>\n",
       "      <th>2020-09-23</th>\n",
       "      <td>203.75</td>\n",
       "    </tr>\n",
       "    <tr>\n",
       "      <th>...</th>\n",
       "      <td>...</td>\n",
       "    </tr>\n",
       "    <tr>\n",
       "      <th>2020-12-17</th>\n",
       "      <td>207.72</td>\n",
       "    </tr>\n",
       "    <tr>\n",
       "      <th>2020-06-05</th>\n",
       "      <td>89.53</td>\n",
       "    </tr>\n",
       "    <tr>\n",
       "      <th>2021-01-30</th>\n",
       "      <td>166.67</td>\n",
       "    </tr>\n",
       "    <tr>\n",
       "      <th>2020-12-28</th>\n",
       "      <td>197.71</td>\n",
       "    </tr>\n",
       "    <tr>\n",
       "      <th>2020-05-24</th>\n",
       "      <td>98.81</td>\n",
       "    </tr>\n",
       "  </tbody>\n",
       "</table>\n",
       "<p>812 rows × 1 columns</p>\n",
       "</div>"
      ],
      "text/plain": [
       "                likes_per_10k_views\n",
       "published_date                     \n",
       "2020-09-05                   296.65\n",
       "2020-09-27                   242.18\n",
       "2020-06-24                   298.09\n",
       "2020-10-02                   209.43\n",
       "2020-09-23                   203.75\n",
       "...                             ...\n",
       "2020-12-17                   207.72\n",
       "2020-06-05                    89.53\n",
       "2021-01-30                   166.67\n",
       "2020-12-28                   197.71\n",
       "2020-05-24                    98.81\n",
       "\n",
       "[812 rows x 1 columns]"
      ]
     },
     "execution_count": 80,
     "metadata": {},
     "output_type": "execute_result"
    }
   ],
   "source": [
    "df"
   ]
  },
  {
   "cell_type": "code",
   "execution_count": 81,
   "metadata": {},
   "outputs": [
    {
     "data": {
      "text/plain": [
       "Text(0, 0.5, 'likes_per_10k_views')"
      ]
     },
     "execution_count": 81,
     "metadata": {},
     "output_type": "execute_result"
    },
    {
     "data": {
      "image/png": "[encoded data removed]",
      "text/plain": [
       "<Figure size 1152x648 with 1 Axes>"
      ]
     },
     "metadata": {},
     "output_type": "display_data"
    }
   ],
   "source": [
    "\n",
    "df.set_index(youtube.published_date, inplace=True)\n",
    "plt.rcParams[\"figure.figsize\"] = [16,9]\n",
    "ax = df.plot(title = \"Likes per 10k view after publish\")\n",
    "ax.set_xlabel(\"published_date\")\n",
    "ax.set_ylabel(\"likes_per_10k_views\")"
   ]
  },
  {
   "cell_type": "code",
   "execution_count": 41,
   "metadata": {},
   "outputs": [
    {
     "data": {
      "image/png": "[encoded data removed]",
      "text/plain": [
       "<Figure size 1152x648 with 1 Axes>"
      ]
     },
     "metadata": {},
     "output_type": "display_data"
    }
   ],
   "source": [
    "df = youtube[['published_time_UTC','likes_per_10k_views']].copy()\n",
    "df.set_index(youtube.published_time_UTC, inplace=True)\n",
    "\n",
    "df['likes_per_10k_views'].plot();"
   ]
  },
  {
   "cell_type": "code",
   "execution_count": 42,
   "metadata": {},
   "outputs": [
    {
     "data": {
      "text/html": [
       "<div>\n",
       "<style scoped>\n",
       "    .dataframe tbody tr th:only-of-type {\n",
       "        vertical-align: middle;\n",
       "    }\n",
       "\n",
       "    .dataframe tbody tr th {\n",
       "        vertical-align: top;\n",
       "    }\n",
       "\n",
       "    .dataframe thead th {\n",
       "        text-align: right;\n",
       "    }\n",
       "</style>\n",
       "<table border=\"1\" class=\"dataframe\">\n",
       "  <thead>\n",
       "    <tr style=\"text-align: right;\">\n",
       "      <th></th>\n",
       "      <th>publish_time</th>\n",
       "      <th>title</th>\n",
       "      <th>channel_name</th>\n",
       "      <th>tags_count</th>\n",
       "      <th>views_count</th>\n",
       "      <th>likes_count</th>\n",
       "      <th>dislikes_count</th>\n",
       "      <th>comments_count</th>\n",
       "      <th>duration_sec</th>\n",
       "      <th>published_date</th>\n",
       "      <th>published_time_UTC</th>\n",
       "      <th>subscribers</th>\n",
       "      <th>year</th>\n",
       "      <th>month</th>\n",
       "      <th>likes_per_10k_views</th>\n",
       "      <th>dislikes_per_10k_views</th>\n",
       "      <th>subscribers_per_10k_views</th>\n",
       "    </tr>\n",
       "  </thead>\n",
       "  <tbody>\n",
       "    <tr>\n",
       "      <th>0</th>\n",
       "      <td>2020-09-05T04:48:33Z</td>\n",
       "      <td>[playlist] 도입부부터 미쳐버린 팝송모음</td>\n",
       "      <td>#yeLocDirAe 옐럭</td>\n",
       "      <td>5</td>\n",
       "      <td>1613898</td>\n",
       "      <td>47877</td>\n",
       "      <td>264</td>\n",
       "      <td>1103.0</td>\n",
       "      <td>2982</td>\n",
       "      <td>2020-09-05</td>\n",
       "      <td>04:48:33</td>\n",
       "      <td>83700.0</td>\n",
       "      <td>2020</td>\n",
       "      <td>9</td>\n",
       "      <td>296.65</td>\n",
       "      <td>1.64</td>\n",
       "      <td>518.62</td>\n",
       "    </tr>\n",
       "  </tbody>\n",
       "</table>\n",
       "</div>"
      ],
      "text/plain": [
       "           publish_time                       title    channel_name  \\\n",
       "0  2020-09-05T04:48:33Z  [playlist] 도입부부터 미쳐버린 팝송모음  #yeLocDirAe 옐럭   \n",
       "\n",
       "   tags_count  views_count  likes_count  dislikes_count  comments_count  \\\n",
       "0           5      1613898        47877             264          1103.0   \n",
       "\n",
       "   duration_sec published_date published_time_UTC  subscribers  year  month  \\\n",
       "0          2982     2020-09-05           04:48:33      83700.0  2020      9   \n",
       "\n",
       "   likes_per_10k_views  dislikes_per_10k_views  subscribers_per_10k_views  \n",
       "0               296.65                    1.64                     518.62  "
      ]
     },
     "execution_count": 42,
     "metadata": {},
     "output_type": "execute_result"
    }
   ],
   "source": [
    "youtube.head(1)"
   ]
  },
  {
   "cell_type": "code",
   "execution_count": 43,
   "metadata": {},
   "outputs": [],
   "source": [
    "youtube.drop(['likes_per_10k_views', 'dislikes_per_10k_views', 'subscribers_per_10k_views'], axis=1, inplace=True)"
   ]
  },
  {
   "cell_type": "code",
   "execution_count": 44,
   "metadata": {},
   "outputs": [
    {
     "data": {
      "text/html": [
       "<div>\n",
       "<style scoped>\n",
       "    .dataframe tbody tr th:only-of-type {\n",
       "        vertical-align: middle;\n",
       "    }\n",
       "\n",
       "    .dataframe tbody tr th {\n",
       "        vertical-align: top;\n",
       "    }\n",
       "\n",
       "    .dataframe thead th {\n",
       "        text-align: right;\n",
       "    }\n",
       "</style>\n",
       "<table border=\"1\" class=\"dataframe\">\n",
       "  <thead>\n",
       "    <tr style=\"text-align: right;\">\n",
       "      <th></th>\n",
       "      <th>publish_time</th>\n",
       "      <th>title</th>\n",
       "      <th>channel_name</th>\n",
       "      <th>tags_count</th>\n",
       "      <th>views_count</th>\n",
       "      <th>likes_count</th>\n",
       "      <th>dislikes_count</th>\n",
       "      <th>comments_count</th>\n",
       "      <th>duration_sec</th>\n",
       "      <th>published_date</th>\n",
       "      <th>published_time_UTC</th>\n",
       "      <th>subscribers</th>\n",
       "      <th>year</th>\n",
       "      <th>month</th>\n",
       "    </tr>\n",
       "  </thead>\n",
       "  <tbody>\n",
       "    <tr>\n",
       "      <th>0</th>\n",
       "      <td>2020-09-05T04:48:33Z</td>\n",
       "      <td>[playlist] 도입부부터 미쳐버린 팝송모음</td>\n",
       "      <td>#yeLocDirAe 옐럭</td>\n",
       "      <td>5</td>\n",
       "      <td>1613898</td>\n",
       "      <td>47877</td>\n",
       "      <td>264</td>\n",
       "      <td>1103.0</td>\n",
       "      <td>2982</td>\n",
       "      <td>2020-09-05</td>\n",
       "      <td>04:48:33</td>\n",
       "      <td>83700.0</td>\n",
       "      <td>2020</td>\n",
       "      <td>9</td>\n",
       "    </tr>\n",
       "  </tbody>\n",
       "</table>\n",
       "</div>"
      ],
      "text/plain": [
       "           publish_time                       title    channel_name  \\\n",
       "0  2020-09-05T04:48:33Z  [playlist] 도입부부터 미쳐버린 팝송모음  #yeLocDirAe 옐럭   \n",
       "\n",
       "   tags_count  views_count  likes_count  dislikes_count  comments_count  \\\n",
       "0           5      1613898        47877             264          1103.0   \n",
       "\n",
       "   duration_sec published_date published_time_UTC  subscribers  year  month  \n",
       "0          2982     2020-09-05           04:48:33      83700.0  2020      9  "
      ]
     },
     "execution_count": 44,
     "metadata": {},
     "output_type": "execute_result"
    }
   ],
   "source": [
    "youtube.head(1)"
   ]
  },
  {
   "cell_type": "markdown",
   "metadata": {},
   "source": [
    "## Building models using log normalization"
   ]
  },
  {
   "cell_type": "markdown",
   "metadata": {},
   "source": [
    "As I mentioned above, the views_count values are relatively higher than other feature values. \n",
    "I decided to normalize views_count values for the better modeling."
   ]
  },
  {
   "cell_type": "markdown",
   "metadata": {},
   "source": [
    "I am going to build models that have \"likes_count\",\"subscribers\", and \"views_count\" as a target.\n",
    "\n",
    "The reason why I am going to build a model that has views_count as a target is to see how normalized views_count can be associated with other features."
   ]
  },
  {
   "cell_type": "code",
   "execution_count": 45,
   "metadata": {},
   "outputs": [],
   "source": [
    "# log normalizing views_count values\n",
    "youtube['logarithm_base2_views'] = np.log2(youtube['views_count'])"
   ]
  },
  {
   "cell_type": "code",
   "execution_count": 46,
   "metadata": {},
   "outputs": [
    {
     "data": {
      "text/html": [
       "<div>\n",
       "<style scoped>\n",
       "    .dataframe tbody tr th:only-of-type {\n",
       "        vertical-align: middle;\n",
       "    }\n",
       "\n",
       "    .dataframe tbody tr th {\n",
       "        vertical-align: top;\n",
       "    }\n",
       "\n",
       "    .dataframe thead th {\n",
       "        text-align: right;\n",
       "    }\n",
       "</style>\n",
       "<table border=\"1\" class=\"dataframe\">\n",
       "  <thead>\n",
       "    <tr style=\"text-align: right;\">\n",
       "      <th></th>\n",
       "      <th>publish_time</th>\n",
       "      <th>title</th>\n",
       "      <th>channel_name</th>\n",
       "      <th>tags_count</th>\n",
       "      <th>views_count</th>\n",
       "      <th>likes_count</th>\n",
       "      <th>dislikes_count</th>\n",
       "      <th>comments_count</th>\n",
       "      <th>duration_sec</th>\n",
       "      <th>published_date</th>\n",
       "      <th>published_time_UTC</th>\n",
       "      <th>subscribers</th>\n",
       "      <th>year</th>\n",
       "      <th>month</th>\n",
       "      <th>logarithm_base2_views</th>\n",
       "    </tr>\n",
       "  </thead>\n",
       "  <tbody>\n",
       "    <tr>\n",
       "      <th>0</th>\n",
       "      <td>2020-09-05T04:48:33Z</td>\n",
       "      <td>[playlist] 도입부부터 미쳐버린 팝송모음</td>\n",
       "      <td>#yeLocDirAe 옐럭</td>\n",
       "      <td>5</td>\n",
       "      <td>1613898</td>\n",
       "      <td>47877</td>\n",
       "      <td>264</td>\n",
       "      <td>1103.0</td>\n",
       "      <td>2982</td>\n",
       "      <td>2020-09-05</td>\n",
       "      <td>04:48:33</td>\n",
       "      <td>83700.0</td>\n",
       "      <td>2020</td>\n",
       "      <td>9</td>\n",
       "      <td>20.622118</td>\n",
       "    </tr>\n",
       "  </tbody>\n",
       "</table>\n",
       "</div>"
      ],
      "text/plain": [
       "           publish_time                       title    channel_name  \\\n",
       "0  2020-09-05T04:48:33Z  [playlist] 도입부부터 미쳐버린 팝송모음  #yeLocDirAe 옐럭   \n",
       "\n",
       "   tags_count  views_count  likes_count  dislikes_count  comments_count  \\\n",
       "0           5      1613898        47877             264          1103.0   \n",
       "\n",
       "   duration_sec published_date published_time_UTC  subscribers  year  month  \\\n",
       "0          2982     2020-09-05           04:48:33      83700.0  2020      9   \n",
       "\n",
       "   logarithm_base2_views  \n",
       "0              20.622118  "
      ]
     },
     "execution_count": 46,
     "metadata": {},
     "output_type": "execute_result"
    }
   ],
   "source": [
    "youtube.head(1)"
   ]
  },
  {
   "cell_type": "code",
   "execution_count": 47,
   "metadata": {},
   "outputs": [],
   "source": [
    "#clear and separate features \n",
    "youtube_df_2 = youtube[['title','channel_name','logarithm_base2_views','likes_count',\n",
    "                        'dislikes_count','comments_count','tags_count', 'duration_sec',\n",
    "                          'subscribers','year', 'month']].copy()"
   ]
  },
  {
   "cell_type": "markdown",
   "metadata": {},
   "source": [
    "Correlation map "
   ]
  },
  {
   "cell_type": "code",
   "execution_count": 48,
   "metadata": {},
   "outputs": [
    {
     "name": "stderr",
     "output_type": "stream",
     "text": [
      "/Users/suanjung/opt/anaconda3/lib/python3.8/site-packages/matplotlib/backends/backend_agg.py:238: RuntimeWarning: Glyph 8722 missing from current font.\n",
      "  font.set_text(s, 0.0, flags=flags)\n",
      "/Users/suanjung/opt/anaconda3/lib/python3.8/site-packages/matplotlib/backends/backend_agg.py:201: RuntimeWarning: Glyph 8722 missing from current font.\n",
      "  font.set_text(s, 0, flags=flags)\n"
     ]
    },
    {
     "data": {
      "image/png": "[encoded data removed]",
      "text/plain": [
       "<Figure size 1152x648 with 2 Axes>"
      ]
     },
     "metadata": {},
     "output_type": "display_data"
    }
   ],
   "source": [
    "youtube_corr = youtube_df_2.corr();\n",
    "sns.heatmap(youtube_corr);"
   ]
  },
  {
   "cell_type": "markdown",
   "metadata": {},
   "source": [
    "### Part 1: \"likes_count as a target\""
   ]
  },
  {
   "cell_type": "code",
   "execution_count": 49,
   "metadata": {},
   "outputs": [
    {
     "data": {
      "text/html": [
       "<div>\n",
       "<style scoped>\n",
       "    .dataframe tbody tr th:only-of-type {\n",
       "        vertical-align: middle;\n",
       "    }\n",
       "\n",
       "    .dataframe tbody tr th {\n",
       "        vertical-align: top;\n",
       "    }\n",
       "\n",
       "    .dataframe thead th {\n",
       "        text-align: right;\n",
       "    }\n",
       "</style>\n",
       "<table border=\"1\" class=\"dataframe\">\n",
       "  <thead>\n",
       "    <tr style=\"text-align: right;\">\n",
       "      <th></th>\n",
       "      <th>likes_count</th>\n",
       "    </tr>\n",
       "  </thead>\n",
       "  <tbody>\n",
       "    <tr>\n",
       "      <th>logarithm_base2_views</th>\n",
       "      <td>0.380280</td>\n",
       "    </tr>\n",
       "    <tr>\n",
       "      <th>likes_count</th>\n",
       "      <td>1.000000</td>\n",
       "    </tr>\n",
       "    <tr>\n",
       "      <th>dislikes_count</th>\n",
       "      <td>0.795033</td>\n",
       "    </tr>\n",
       "    <tr>\n",
       "      <th>comments_count</th>\n",
       "      <td>0.837244</td>\n",
       "    </tr>\n",
       "    <tr>\n",
       "      <th>tags_count</th>\n",
       "      <td>0.120409</td>\n",
       "    </tr>\n",
       "    <tr>\n",
       "      <th>duration_sec</th>\n",
       "      <td>0.004304</td>\n",
       "    </tr>\n",
       "    <tr>\n",
       "      <th>subscribers</th>\n",
       "      <td>-0.025150</td>\n",
       "    </tr>\n",
       "    <tr>\n",
       "      <th>year</th>\n",
       "      <td>0.025971</td>\n",
       "    </tr>\n",
       "    <tr>\n",
       "      <th>month</th>\n",
       "      <td>0.022785</td>\n",
       "    </tr>\n",
       "  </tbody>\n",
       "</table>\n",
       "</div>"
      ],
      "text/plain": [
       "                       likes_count\n",
       "logarithm_base2_views     0.380280\n",
       "likes_count               1.000000\n",
       "dislikes_count            0.795033\n",
       "comments_count            0.837244\n",
       "tags_count                0.120409\n",
       "duration_sec              0.004304\n",
       "subscribers              -0.025150\n",
       "year                      0.025971\n",
       "month                     0.022785"
      ]
     },
     "execution_count": 49,
     "metadata": {},
     "output_type": "execute_result"
    }
   ],
   "source": [
    "youtube_df_2.corr()[['likes_count']]"
   ]
  },
  {
   "cell_type": "code",
   "execution_count": 50,
   "metadata": {},
   "outputs": [
    {
     "name": "stdout",
     "output_type": "stream",
     "text": [
      "                       logarithm_base2_views  dislikes_count  comments_count\n",
      "logarithm_base2_views               1.000000        0.448656        0.357924\n",
      "dislikes_count                      0.448656        1.000000        0.674257\n",
      "comments_count                      0.357924        0.674257        1.000000\n",
      "AxesSubplot(0.08,0.07;0.696x0.81)\n"
     ]
    },
    {
     "data": {
      "image/png": "[encoded data removed]",
      "text/plain": [
       "<Figure size 1152x648 with 2 Axes>"
      ]
     },
     "metadata": {},
     "output_type": "display_data"
    }
   ],
   "source": [
    "cmap = sns.diverging_palette(220, 10, as_cmap=True)\n",
    "correlations = youtube_df_2[['logarithm_base2_views','dislikes_count','comments_count']].corr()\n",
    "print(correlations)\n",
    "print(sns.heatmap(correlations, cmap=cmap))"
   ]
  },
  {
   "cell_type": "markdown",
   "metadata": {},
   "source": [
    "#### Model 1: Predicting likes_count using logarithm_base2_views and comments_count"
   ]
  },
  {
   "cell_type": "markdown",
   "metadata": {},
   "source": [
    "Linear regression"
   ]
  },
  {
   "cell_type": "code",
   "execution_count": 51,
   "metadata": {},
   "outputs": [
    {
     "name": "stdout",
     "output_type": "stream",
     "text": [
      "Intercept is: -9728.597679854349\n",
      "Coefficient is: [607.36704151  23.04446569]\n",
      "Socre is 0.7084\n"
     ]
    }
   ],
   "source": [
    "feature_cols = ['logarithm_base2_views', 'comments_count']\n",
    "X = youtube_df_2[feature_cols]\n",
    "y = youtube_df_2.likes_count\n",
    "\n",
    "lr = LinearRegression()\n",
    "lr.fit(X,y)\n",
    "\n",
    "print(f\"Intercept is: {lr.intercept_}\")\n",
    "print(f\"Coefficient is: {lr.coef_}\")\n",
    "print(f\"Socre is {round(lr.score(X,y), 4)}\")"
   ]
  },
  {
   "cell_type": "code",
   "execution_count": 52,
   "metadata": {},
   "outputs": [
    {
     "name": "stdout",
     "output_type": "stream",
     "text": [
      "MSE: 143771269.11487266\n",
      "RMSE: 11990.465758879955\n"
     ]
    }
   ],
   "source": [
    "y_pred = lr.predict(X)\n",
    "print('MSE:', metrics.mean_squared_error(y, y_pred))\n",
    "print('RMSE:', np.sqrt(metrics.mean_squared_error(y, y_pred)))"
   ]
  },
  {
   "cell_type": "markdown",
   "metadata": {},
   "source": [
    "Train and Test Split"
   ]
  },
  {
   "cell_type": "code",
   "execution_count": 53,
   "metadata": {},
   "outputs": [
    {
     "name": "stdout",
     "output_type": "stream",
     "text": [
      "MSE for train data: 100059649.01416835\n",
      "MSE for test data: 275794386.72395\n",
      "RMSE for train data: 10002.982006090402\n",
      "RMSE for test data: 16607.058340475294\n"
     ]
    }
   ],
   "source": [
    "X_train, X_test, y_train, y_test = train_test_split(X, y, random_state = 45)\n",
    "\n",
    "lr = LinearRegression()\n",
    "lr.fit(X_train, y_train)\n",
    "\n",
    "y_pred = lr.predict(X_test)\n",
    "print('MSE for train data:', metrics.mean_squared_error(y_train, lr.predict(X_train)))\n",
    "print('MSE for test data:', metrics.mean_squared_error(y_test, y_pred))\n",
    "print('RMSE for train data:', np.sqrt(metrics.mean_squared_error(y_train, lr.predict(X_train))))\n",
    "print('RMSE for test data:', np.sqrt(metrics.mean_squared_error(y_test, y_pred)))"
   ]
  },
  {
   "cell_type": "markdown",
   "metadata": {},
   "source": [
    "#### Model 2: Predicting likes_count using logarithm_base2_views and dislkes_count "
   ]
  },
  {
   "cell_type": "markdown",
   "metadata": {},
   "source": [
    "Linear Regression"
   ]
  },
  {
   "cell_type": "code",
   "execution_count": 54,
   "metadata": {},
   "outputs": [
    {
     "name": "stdout",
     "output_type": "stream",
     "text": [
      "Intercept is: -2374.2022116794114\n",
      "Coefficient is: [ 97.38652935 193.97179332]\n",
      "Score is 0.6328\n"
     ]
    }
   ],
   "source": [
    "feature_cols = ['dislikes_count','logarithm_base2_views']\n",
    "X = youtube_df_2[feature_cols]\n",
    "y = youtube_df_2.likes_count\n",
    "\n",
    "lr = LinearRegression()\n",
    "lr.fit(X,y)\n",
    "\n",
    "print(f\"Intercept is: {lr.intercept_}\")\n",
    "print(f\"Coefficient is: {lr.coef_}\")\n",
    "print(f\"Score is {round(lr.score(X,y), 4)}\")"
   ]
  },
  {
   "cell_type": "code",
   "execution_count": 55,
   "metadata": {},
   "outputs": [
    {
     "name": "stdout",
     "output_type": "stream",
     "text": [
      "MSE: 181076638.0836007\n",
      "RMSE: 13456.471977587613\n"
     ]
    }
   ],
   "source": [
    "y_pred = lr.predict(X)\n",
    "print('MSE:', metrics.mean_squared_error(y, y_pred))\n",
    "print('RMSE:', np.sqrt(metrics.mean_squared_error(y, y_pred)))"
   ]
  },
  {
   "cell_type": "markdown",
   "metadata": {},
   "source": [
    "Train and Test Split"
   ]
  },
  {
   "cell_type": "code",
   "execution_count": 56,
   "metadata": {},
   "outputs": [
    {
     "name": "stdout",
     "output_type": "stream",
     "text": [
      "MSE for train data: 192116491.40789634\n",
      "MSE for test data: 148548670.24452946\n",
      "RMSE for train data: 13860.60934475452\n",
      "RMSE for test data: 12188.054407678424\n"
     ]
    }
   ],
   "source": [
    "X_train, X_test, y_train, y_test = train_test_split(X, y, random_state = 45)\n",
    "\n",
    "lr = LinearRegression()\n",
    "lr.fit(X_train, y_train)\n",
    "\n",
    "y_pred = lr.predict(X_test)\n",
    "print('MSE for train data:', metrics.mean_squared_error(y_train, lr.predict(X_train)))\n",
    "print('MSE for test data:', metrics.mean_squared_error(y_test, y_pred))\n",
    "print('RMSE for train data:', np.sqrt(metrics.mean_squared_error(y_train, lr.predict(X_train))))\n",
    "print('RMSE for test data:', np.sqrt(metrics.mean_squared_error(y_test, y_pred)))"
   ]
  },
  {
   "cell_type": "markdown",
   "metadata": {},
   "source": [
    "### Part 2: \"subscribers as a target\""
   ]
  },
  {
   "cell_type": "code",
   "execution_count": 57,
   "metadata": {
    "scrolled": true
   },
   "outputs": [
    {
     "data": {
      "text/html": [
       "<div>\n",
       "<style scoped>\n",
       "    .dataframe tbody tr th:only-of-type {\n",
       "        vertical-align: middle;\n",
       "    }\n",
       "\n",
       "    .dataframe tbody tr th {\n",
       "        vertical-align: top;\n",
       "    }\n",
       "\n",
       "    .dataframe thead th {\n",
       "        text-align: right;\n",
       "    }\n",
       "</style>\n",
       "<table border=\"1\" class=\"dataframe\">\n",
       "  <thead>\n",
       "    <tr style=\"text-align: right;\">\n",
       "      <th></th>\n",
       "      <th>subscribers</th>\n",
       "    </tr>\n",
       "  </thead>\n",
       "  <tbody>\n",
       "    <tr>\n",
       "      <th>logarithm_base2_views</th>\n",
       "      <td>0.520630</td>\n",
       "    </tr>\n",
       "    <tr>\n",
       "      <th>likes_count</th>\n",
       "      <td>-0.025150</td>\n",
       "    </tr>\n",
       "    <tr>\n",
       "      <th>dislikes_count</th>\n",
       "      <td>0.091479</td>\n",
       "    </tr>\n",
       "    <tr>\n",
       "      <th>comments_count</th>\n",
       "      <td>0.007094</td>\n",
       "    </tr>\n",
       "    <tr>\n",
       "      <th>tags_count</th>\n",
       "      <td>0.134772</td>\n",
       "    </tr>\n",
       "    <tr>\n",
       "      <th>duration_sec</th>\n",
       "      <td>0.414123</td>\n",
       "    </tr>\n",
       "    <tr>\n",
       "      <th>subscribers</th>\n",
       "      <td>1.000000</td>\n",
       "    </tr>\n",
       "    <tr>\n",
       "      <th>year</th>\n",
       "      <td>-0.034469</td>\n",
       "    </tr>\n",
       "    <tr>\n",
       "      <th>month</th>\n",
       "      <td>0.037226</td>\n",
       "    </tr>\n",
       "  </tbody>\n",
       "</table>\n",
       "</div>"
      ],
      "text/plain": [
       "                       subscribers\n",
       "logarithm_base2_views     0.520630\n",
       "likes_count              -0.025150\n",
       "dislikes_count            0.091479\n",
       "comments_count            0.007094\n",
       "tags_count                0.134772\n",
       "duration_sec              0.414123\n",
       "subscribers               1.000000\n",
       "year                     -0.034469\n",
       "month                     0.037226"
      ]
     },
     "execution_count": 57,
     "metadata": {},
     "output_type": "execute_result"
    }
   ],
   "source": [
    "youtube_df_2.corr()[['subscribers']]"
   ]
  },
  {
   "cell_type": "code",
   "execution_count": 58,
   "metadata": {},
   "outputs": [
    {
     "name": "stdout",
     "output_type": "stream",
     "text": [
      "                       logarithm_base2_views  duration_sec\n",
      "logarithm_base2_views               1.000000      0.301398\n",
      "duration_sec                        0.301398      1.000000\n",
      "AxesSubplot(0.08,0.07;0.696x0.81)\n"
     ]
    },
    {
     "data": {
      "image/png": "[encoded data removed]",
      "text/plain": [
       "<Figure size 1152x648 with 2 Axes>"
      ]
     },
     "metadata": {},
     "output_type": "display_data"
    }
   ],
   "source": [
    "cmap = sns.diverging_palette(220, 10, as_cmap=True)\n",
    "correlations = youtube_df_2[['logarithm_base2_views','duration_sec']].corr()\n",
    "print(correlations)\n",
    "print(sns.heatmap(correlations, cmap=cmap))"
   ]
  },
  {
   "cell_type": "code",
   "execution_count": 59,
   "metadata": {},
   "outputs": [
    {
     "name": "stdout",
     "output_type": "stream",
     "text": [
      "Intercept is: -209400.3219459074\n",
      "Coefficient is: [   23.8125153  22441.14537428]\n",
      "Score is 0.3438\n"
     ]
    }
   ],
   "source": [
    "feature_cols = ['duration_sec','logarithm_base2_views']\n",
    "X = youtube[feature_cols]\n",
    "y = youtube.subscribers\n",
    "\n",
    "lr = LinearRegression()\n",
    "lr.fit(X,y)\n",
    "\n",
    "print(f\"Intercept is: {lr.intercept_}\")\n",
    "print(f\"Coefficient is: {lr.coef_}\")\n",
    "print(f\"Score is {round(lr.score(X,y), 4)}\")"
   ]
  },
  {
   "cell_type": "code",
   "execution_count": 60,
   "metadata": {},
   "outputs": [
    {
     "name": "stdout",
     "output_type": "stream",
     "text": [
      "MSE: 19920109588.840893\n",
      "RMSE: 141138.61834679017\n"
     ]
    }
   ],
   "source": [
    "y_pred = lr.predict(X)\n",
    "print('MSE:', metrics.mean_squared_error(y, y_pred))\n",
    "print('RMSE:', np.sqrt(metrics.mean_squared_error(y, y_pred)))"
   ]
  },
  {
   "cell_type": "code",
   "execution_count": 61,
   "metadata": {},
   "outputs": [
    {
     "name": "stdout",
     "output_type": "stream",
     "text": [
      "MSE for train data: 17395699800.68349\n",
      "MSE for test data: 31567076180.81534\n",
      "RMSE for train data: 131892.75871208202\n",
      "RMSE for test data: 177671.25873594562\n"
     ]
    }
   ],
   "source": [
    "X_train, X_test, y_train, y_test = train_test_split(X, y, random_state = 45)\n",
    "\n",
    "lr = LinearRegression()\n",
    "lr.fit(X_train, y_train)\n",
    "\n",
    "y_pred = lr.predict(X_test)\n",
    "print('MSE for train data:', metrics.mean_squared_error(y_train, lr.predict(X_train)))\n",
    "print('MSE for test data:', metrics.mean_squared_error(y_test, y_pred))\n",
    "print('RMSE for train data:', np.sqrt(metrics.mean_squared_error(y_train, lr.predict(X_train))))\n",
    "print('RMSE for test data:', np.sqrt(metrics.mean_squared_error(y_test, y_pred)))"
   ]
  },
  {
   "cell_type": "markdown",
   "metadata": {},
   "source": [
    "### Part 3: \"logarithm_base2_views\" as a target"
   ]
  },
  {
   "cell_type": "code",
   "execution_count": 62,
   "metadata": {},
   "outputs": [
    {
     "data": {
      "text/html": [
       "<div>\n",
       "<style scoped>\n",
       "    .dataframe tbody tr th:only-of-type {\n",
       "        vertical-align: middle;\n",
       "    }\n",
       "\n",
       "    .dataframe tbody tr th {\n",
       "        vertical-align: top;\n",
       "    }\n",
       "\n",
       "    .dataframe thead th {\n",
       "        text-align: right;\n",
       "    }\n",
       "</style>\n",
       "<table border=\"1\" class=\"dataframe\">\n",
       "  <thead>\n",
       "    <tr style=\"text-align: right;\">\n",
       "      <th></th>\n",
       "      <th>logarithm_base2_views</th>\n",
       "    </tr>\n",
       "  </thead>\n",
       "  <tbody>\n",
       "    <tr>\n",
       "      <th>logarithm_base2_views</th>\n",
       "      <td>1.000000</td>\n",
       "    </tr>\n",
       "    <tr>\n",
       "      <th>likes_count</th>\n",
       "      <td>0.380280</td>\n",
       "    </tr>\n",
       "    <tr>\n",
       "      <th>dislikes_count</th>\n",
       "      <td>0.448656</td>\n",
       "    </tr>\n",
       "    <tr>\n",
       "      <th>comments_count</th>\n",
       "      <td>0.357924</td>\n",
       "    </tr>\n",
       "    <tr>\n",
       "      <th>tags_count</th>\n",
       "      <td>-0.069715</td>\n",
       "    </tr>\n",
       "    <tr>\n",
       "      <th>duration_sec</th>\n",
       "      <td>0.301398</td>\n",
       "    </tr>\n",
       "    <tr>\n",
       "      <th>subscribers</th>\n",
       "      <td>0.520630</td>\n",
       "    </tr>\n",
       "    <tr>\n",
       "      <th>year</th>\n",
       "      <td>-0.122943</td>\n",
       "    </tr>\n",
       "    <tr>\n",
       "      <th>month</th>\n",
       "      <td>0.057164</td>\n",
       "    </tr>\n",
       "  </tbody>\n",
       "</table>\n",
       "</div>"
      ],
      "text/plain": [
       "                       logarithm_base2_views\n",
       "logarithm_base2_views               1.000000\n",
       "likes_count                         0.380280\n",
       "dislikes_count                      0.448656\n",
       "comments_count                      0.357924\n",
       "tags_count                         -0.069715\n",
       "duration_sec                        0.301398\n",
       "subscribers                         0.520630\n",
       "year                               -0.122943\n",
       "month                               0.057164"
      ]
     },
     "execution_count": 62,
     "metadata": {},
     "output_type": "execute_result"
    }
   ],
   "source": [
    "youtube_df_2.corr()[['logarithm_base2_views']]"
   ]
  },
  {
   "cell_type": "code",
   "execution_count": 63,
   "metadata": {},
   "outputs": [
    {
     "name": "stdout",
     "output_type": "stream",
     "text": [
      "                likes_count  comments_count  subscribers  dislikes_count\n",
      "likes_count        1.000000        0.837244    -0.025150        0.795033\n",
      "comments_count     0.837244        1.000000     0.007094        0.674257\n",
      "subscribers       -0.025150        0.007094     1.000000        0.091479\n",
      "dislikes_count     0.795033        0.674257     0.091479        1.000000\n",
      "AxesSubplot(0.08,0.07;0.696x0.81)\n"
     ]
    },
    {
     "data": {
      "image/png": "[encoded data removed]",
      "text/plain": [
       "<Figure size 1152x648 with 2 Axes>"
      ]
     },
     "metadata": {},
     "output_type": "display_data"
    }
   ],
   "source": [
    "cmap = sns.diverging_palette(220, 10, as_cmap=True)\n",
    "correlations = youtube_df_2[['likes_count','comments_count','subscribers', 'dislikes_count']].corr()\n",
    "print(correlations)\n",
    "print(sns.heatmap(correlations, cmap=cmap))"
   ]
  },
  {
   "cell_type": "markdown",
   "metadata": {},
   "source": [
    "#### Model 1: Predicting \"logarithm_base2_views\" using dislikes_count and subscribers"
   ]
  },
  {
   "cell_type": "code",
   "execution_count": 64,
   "metadata": {},
   "outputs": [
    {
     "name": "stdout",
     "output_type": "stream",
     "text": [
      "Intercept is: 13.5070557843875\n",
      "Coefficient is: [7.66855038e-03 9.38261223e-06]\n",
      "Score is 0.4332\n"
     ]
    }
   ],
   "source": [
    "feature_cols = ['dislikes_count','subscribers']\n",
    "X = youtube[feature_cols]\n",
    "y = youtube.logarithm_base2_views\n",
    "\n",
    "lr = LinearRegression()\n",
    "lr.fit(X,y)\n",
    "\n",
    "print(f\"Intercept is: {lr.intercept_}\")\n",
    "print(f\"Coefficient is: {lr.coef_}\")\n",
    "print(f\"Score is {round(lr.score(X,y), 4)}\")"
   ]
  },
  {
   "cell_type": "code",
   "execution_count": 65,
   "metadata": {},
   "outputs": [
    {
     "name": "stdout",
     "output_type": "stream",
     "text": [
      "MSE: 6.47564397229912\n",
      "RMSE: 2.54472866378699\n"
     ]
    }
   ],
   "source": [
    "y_pred = lr.predict(X)\n",
    "print('MSE:', metrics.mean_squared_error(y, y_pred))\n",
    "print('RMSE:', np.sqrt(metrics.mean_squared_error(y, y_pred)))"
   ]
  },
  {
   "cell_type": "code",
   "execution_count": 66,
   "metadata": {
    "scrolled": true
   },
   "outputs": [
    {
     "name": "stdout",
     "output_type": "stream",
     "text": [
      "MSE for train data: 6.115646403018722\n",
      "MSE for test data: 7.55798075430895\n",
      "RMSE for train data: 2.47298330019002\n",
      "RMSE for test data: 2.749178196172258\n"
     ]
    }
   ],
   "source": [
    "X_train, X_test, y_train, y_test = train_test_split(X, y, random_state = 45)\n",
    "\n",
    "lr = LinearRegression()\n",
    "lr.fit(X_train, y_train)\n",
    "\n",
    "y_pred = lr.predict(X_test)\n",
    "print('MSE for train data:', metrics.mean_squared_error(y_train, lr.predict(X_train)))\n",
    "print('MSE for test data:', metrics.mean_squared_error(y_test, y_pred))\n",
    "print('RMSE for train data:', np.sqrt(metrics.mean_squared_error(y_train, lr.predict(X_train))))\n",
    "print('RMSE for test data:', np.sqrt(metrics.mean_squared_error(y_test, y_pred)))"
   ]
  },
  {
   "cell_type": "markdown",
   "metadata": {},
   "source": [
    "#### Model 2: Predicting \"logarithm_base2_views\" using likes_count and subscribers"
   ]
  },
  {
   "cell_type": "code",
   "execution_count": null,
   "metadata": {},
   "outputs": [],
   "source": [
    "feature_cols = ['likes_count','subscribers']\n",
    "X = youtube[feature_cols]\n",
    "y = youtube.logarithm_base2_views\n",
    "\n",
    "lr = LinearRegression()\n",
    "lr.fit(X,y)\n",
    "\n",
    "print(f\"Intercept is: {lr.intercept_}\")\n",
    "print(f\"Coefficient is: {lr.coef_}\")\n",
    "print(f\"Score is {round(lr.score(X,y), 4)}\")"
   ]
  },
  {
   "cell_type": "code",
   "execution_count": 68,
   "metadata": {},
   "outputs": [
    {
     "name": "stdout",
     "output_type": "stream",
     "text": [
      "MSE: 6.559519423978322\n",
      "RMSE: 2.561155876548384\n"
     ]
    }
   ],
   "source": [
    "y_pred = lr.predict(X)\n",
    "print('MSE:', metrics.mean_squared_error(y, y_pred))\n",
    "print('RMSE:', np.sqrt(metrics.mean_squared_error(y, y_pred)))"
   ]
  },
  {
   "cell_type": "code",
   "execution_count": 69,
   "metadata": {},
   "outputs": [
    {
     "name": "stdout",
     "output_type": "stream",
     "text": [
      "MSE for train data: 6.342283295688328\n",
      "MSE for test data: 7.263320766575899\n",
      "RMSE for train data: 2.518389027868476\n",
      "RMSE for test data: 2.6950548726465478\n"
     ]
    }
   ],
   "source": [
    "X_train, X_test, y_train, y_test = train_test_split(X, y, random_state = 45)\n",
    "\n",
    "lr = LinearRegression()\n",
    "lr.fit(X_train, y_train)\n",
    "\n",
    "y_pred = lr.predict(X_test)\n",
    "print('MSE for train data:', metrics.mean_squared_error(y_train, lr.predict(X_train)))\n",
    "print('MSE for test data:', metrics.mean_squared_error(y_test, y_pred))\n",
    "print('RMSE for train data:', np.sqrt(metrics.mean_squared_error(y_train, lr.predict(X_train))))\n",
    "print('RMSE for test data:', np.sqrt(metrics.mean_squared_error(y_test, y_pred)))"
   ]
  },
  {
   "cell_type": "markdown",
   "metadata": {},
   "source": [
    "#### Model 3: Predicting \"logarithm_base2_views\" using comments_count and subscribers"
   ]
  },
  {
   "cell_type": "code",
   "execution_count": 70,
   "metadata": {},
   "outputs": [
    {
     "name": "stdout",
     "output_type": "stream",
     "text": [
      "Intercept is: 13.390508315303197\n",
      "Coefficient is: [1.54529979e-03 1.00515760e-05]\n",
      "Score is 0.3965\n"
     ]
    }
   ],
   "source": [
    "feature_cols = ['comments_count','subscribers']\n",
    "X = youtube[feature_cols]\n",
    "y = youtube.logarithm_base2_views\n",
    "\n",
    "lr = LinearRegression()\n",
    "lr.fit(X,y)\n",
    "\n",
    "print(f\"Intercept is: {lr.intercept_}\")\n",
    "print(f\"Coefficient is: {lr.coef_}\")\n",
    "print(f\"Score is {round(lr.score(X,y), 4)}\")"
   ]
  },
  {
   "cell_type": "code",
   "execution_count": 71,
   "metadata": {},
   "outputs": [
    {
     "name": "stdout",
     "output_type": "stream",
     "text": [
      "MSE: 6.894922573629335\n",
      "RMSE: 2.625818457858299\n"
     ]
    }
   ],
   "source": [
    "y_pred = lr.predict(X)\n",
    "print('MSE:', metrics.mean_squared_error(y, y_pred))\n",
    "print('RMSE:', np.sqrt(metrics.mean_squared_error(y, y_pred)))"
   ]
  },
  {
   "cell_type": "code",
   "execution_count": 72,
   "metadata": {},
   "outputs": [
    {
     "name": "stdout",
     "output_type": "stream",
     "text": [
      "MSE for train data: 6.717960991304808\n",
      "MSE for test data: 7.583048057909887\n",
      "RMSE for train data: 2.591902967185463\n",
      "RMSE for test data: 2.753733476193709\n"
     ]
    }
   ],
   "source": [
    "X_train, X_test, y_train, y_test = train_test_split(X, y, random_state = 45)\n",
    "\n",
    "lr = LinearRegression()\n",
    "lr.fit(X_train, y_train)\n",
    "\n",
    "y_pred = lr.predict(X_test)\n",
    "print('MSE for train data:', metrics.mean_squared_error(y_train, lr.predict(X_train)))\n",
    "print('MSE for test data:', metrics.mean_squared_error(y_test, y_pred))\n",
    "print('RMSE for train data:', np.sqrt(metrics.mean_squared_error(y_train, lr.predict(X_train))))\n",
    "print('RMSE for test data:', np.sqrt(metrics.mean_squared_error(y_test, y_pred)))"
   ]
  },
  {
   "cell_type": "markdown",
   "metadata": {},
   "source": [
    "## Insights so far.."
   ]
  },
  {
   "cell_type": "markdown",
   "metadata": {},
   "source": [
    "- Model : dislikes_count, subscribers vs likes_per_10K_sub seems the most reliable model\n",
    "- Youtubers may need to care hateres as well."
   ]
  }
 ],
 "metadata": {
  "kernelspec": {
   "display_name": "Python 3",
   "language": "python",
   "name": "python3"
  },
  "language_info": {
   "codemirror_mode": {
    "name": "ipython",
    "version": 3
   },
   "file_extension": ".py",
   "mimetype": "text/x-python",
   "name": "python",
   "nbconvert_exporter": "python",
   "pygments_lexer": "ipython3",
   "version": "3.8.5"
  }
 },
 "nbformat": 4,
 "nbformat_minor": 2
}
